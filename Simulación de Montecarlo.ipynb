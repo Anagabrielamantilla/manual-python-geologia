{
 "cells": [
  {
   "cell_type": "markdown",
   "id": "54c9c92c-784e-4e69-bc3a-f1d885045cb7",
   "metadata": {},
   "source": [
    "# Simulación de Montecarlo para estimar el riesgo de fallo en un talud\n",
    "***\n",
    "\n",
    "### **Editado por: Kevin Alexander Gómez**\n",
    "#### Contacto: kevinalexandr19@gmail.com | [Linkedin](https://www.linkedin.com/in/kevin-alexander-g%C3%B3mez-2b0263111/) | [Github](https://github.com/kevinalexandr19)\n",
    "***"
   ]
  },
  {
   "cell_type": "markdown",
   "id": "a6ed3c0c-cead-498a-9ef8-db6fc3ecfced",
   "metadata": {},
   "source": [
    "### **Introducción**\n",
    "Este Notebook es parte del [**Manual de Python aplicado a la Geología**](https://github.com/kevinalexandr19/manual-python-geologia), y ha sido creado con la finalidad de facilitar el aprendizaje en Python para estudiantes y profesionales en el campo de la Geología.\n",
    "\n",
    "### **¿Qué voy a hacer?**\n",
    "Usando este manual, desarrollarás código en Python para realizar una simulación de Montecarlo aplicada a la estimación de estabilidad en taludes naturales (predicciones básicas de riesgo de deslizamiento).\n",
    "\n",
    "### **¿Qué voy a aprender?**\n",
    "\n",
    "- Aprenderás a desarrollar código usando Python.\n",
    "- Aprenderás a usar funciones y `NamedTuples` (tuplas nombradas).\n",
    "- Aprenderás a realizar una simulación de Montecarlo.\n",
    "\n",
    "### **¿Qué voy a necesitar?**\n",
    "\n",
    "- Este manual.\n",
    "> **Nota**: Este documento es un archivo de formato `.ipynb` y solo puedes interactuar con este notebook siguiendo alguna de estas opciones:\n",
    "> \n",
    "> - A través de un navegador web, usando la aplicación de `Google Colab`.\n",
    "> - Usando `Binder`, una aplicación web que permite ejecutar código arbitrario dentro de un entorno virtual (similar a `Google Colab`).\n",
    "> - A través de un editor de código instalado en tu computadora, como por ejemplo: `Jupyter Lab`, `Jupyter Notebook` o `Visual Studio Code`.\n",
    "- Conocimientos básicos en geología, estadística y álgebra lineal.\n",
    "- Perseverancia para aprender cada tema y creatividad para resolver problemas."
   ]
  },
  {
   "cell_type": "markdown",
   "id": "e3ff70b1-edd6-41ef-8c58-847ca72db281",
   "metadata": {},
   "source": [
    "<br>"
   ]
  },
  {
   "cell_type": "markdown",
   "id": "0ba8addd-4381-437d-8ae7-b99b97ef4b40",
   "metadata": {},
   "source": [
    "## **Índice**\n",
    "***\n",
    "\n",
    "1. [Predicción del riesgo de deslizamiento](#parte1)\n",
    "2. [Modelo de estabilidad de talud infinito](#parte2)\n",
    "3. [Simulación de Montecarlo para el análisis de incertidumbre](#parte3)\n",
    "***"
   ]
  },
  {
   "cell_type": "markdown",
   "id": "820892fb-6e08-442d-8549-70a3adcd1ae9",
   "metadata": {},
   "source": [
    "<a id=\"parte1\"></a>"
   ]
  },
  {
   "cell_type": "markdown",
   "id": "435d123b-34da-4411-8c7c-d9bf79dc31e1",
   "metadata": {},
   "source": [
    "## **1. Predicción del riesgo de deslizamiento**\n",
    "***\n",
    "Uno de los riesgos geológicos más frecuentes en zonas montañosas o accidentadas es el <span style=\"color:gold\">deslizamiento de taludes naturales</span>.\n",
    "\n",
    "Estos deslizamientos pueden conducir al colapso de terraplenes arrastrando viviendas y vehículos, también pueden provocar la ruptura de diques y generar inundaciones.\n",
    "\n",
    "Para taludes naturales con un suelo delgado y superficial, el factor de estabilidad del talud es (según [Skempton y DeLory, 1957](https://www.issmge.org/uploads/publications/1/41/1957_02_0074.pdf)):\n",
    "\n",
    "$\\Large F = \\frac{c}{\\gamma z \\sin(\\alpha) \\cos(\\alpha)} + \\frac{\\tan(\\phi)}{\\tan(\\alpha)} - m \\frac{\\gamma_w \\tan(\\phi)}{\\gamma \\tan(\\alpha)}$\n",
    " \n",
    "\n",
    "Donde:\n",
    "- $c$ es la cohesión del suelo\n",
    "- $\\phi$ es el ángulo de fricción interna del suelo\n",
    "- $\\gamma$ es el peso específico del suelo\n",
    "- $\\gamma_w$ es el peso específico del agua\n",
    "- $\\alpha$ es la inclinación del talud con respecto a la horizontal, mayor a 0\n",
    "- $z$ es la profundidad de la superficie de deslizamiento\n",
    "- $z_w$ es la altura del nivel freático por encima de la superficie de deslizamiento\n",
    "- $m$ es el grado de saturación del suelo, donde\\\n",
    "$\\Large m = \\frac{z_w}{z}$\\\n",
    "  Cuando $m = 1$, la profundidad del nivel freático ha alcanzado la superficie."
   ]
  },
  {
   "cell_type": "markdown",
   "id": "65dc40b8-0244-44e6-92ac-a04aa3433d32",
   "metadata": {},
   "source": [
    "Esta ecuación es conocida como el <span style=\"color:lightgreen\">modelo de estabilidad de talud infinito</span>.\\\n",
    "En este modelo, se analiza un bloque superficial con un determinado espesor y una altura de nivel freático, y se supone una falla paralela a la superficie del terreno.\n",
    "\n",
    "<img src=\"resources/infinite_slope_model.png\" alt=\"Modelo de talud infinito\" width=\"600\"/>\n",
    "\n",
    "\n",
    "El criterio de falla ocurre cuando <span style=\"color:lightgreen\">$F < 1$</span>.\\\n",
    "Para <span style=\"color:lightgreen\">$1 < F < 1.25$</span> el talud es moderadamente susceptible.\\\n",
    "Para <span style=\"color:lightgreen\">$1.25 < F < 1.5$</span> el talud es ligeramente susceptible.\\\n",
    "Por último, para <span style=\"color:lightgreen\">$F > 1.5$</span> el talud se considera no susceptible o estable."
   ]
  },
  {
   "cell_type": "markdown",
   "id": "c77f7b80-1803-4e74-9fb2-e7b31d4851f4",
   "metadata": {},
   "source": [
    "<br>"
   ]
  },
  {
   "cell_type": "markdown",
   "id": "c148a1e7-c0fe-4102-93c5-67d7d1ba60ec",
   "metadata": {},
   "source": [
    "### Nota\n",
    "En una función, podemos señalar el tipo de dato que le corresponde a sus parámetros y también a su resultado:"
   ]
  },
  {
   "cell_type": "code",
   "execution_count": null,
   "id": "58109a62-5741-4ad0-b67e-aaa709119cc7",
   "metadata": {},
   "outputs": [],
   "source": [
    "def saludar(nombre: str) -> str:\n",
    "    return \"Hola \" + nombre"
   ]
  },
  {
   "cell_type": "code",
   "execution_count": null,
   "id": "9de9315f-16b8-4648-96a7-e1631cc94e0a",
   "metadata": {},
   "outputs": [],
   "source": [
    "saludar(\"Python\")"
   ]
  },
  {
   "cell_type": "markdown",
   "id": "53e3742f-d9c2-4b04-8fc3-ccf109a84c0d",
   "metadata": {},
   "source": [
    "Podemos usar objetos para referenciar colecciones de datos personalizadas. Para esto usaremos el módulo `typing` de Python."
   ]
  },
  {
   "cell_type": "code",
   "execution_count": null,
   "id": "444333c7-70b9-4a83-833f-264b39bfa7d2",
   "metadata": {},
   "outputs": [],
   "source": [
    "from typing import List"
   ]
  },
  {
   "cell_type": "code",
   "execution_count": null,
   "id": "0ea44b75-da7e-4bad-9872-d5a1552278a4",
   "metadata": {},
   "outputs": [],
   "source": [
    "Vector = List[float]"
   ]
  },
  {
   "cell_type": "code",
   "execution_count": null,
   "id": "bee23839-bf7e-43f3-9403-a26ac238eda4",
   "metadata": {},
   "outputs": [],
   "source": [
    "def scale(scalar: float, vector: Vector) -> Vector:\n",
    "    return [scalar * num for num in vector]"
   ]
  },
  {
   "cell_type": "code",
   "execution_count": null,
   "id": "6e83d20c-1281-460d-9a69-8b45601cd711",
   "metadata": {},
   "outputs": [],
   "source": [
    "scale(2.0, [1.0, -4.2, 5.4])"
   ]
  },
  {
   "cell_type": "markdown",
   "id": "b9f85e72-a01a-46c2-88a2-42700081cc24",
   "metadata": {},
   "source": [
    "<a id=\"parte2\"></a>"
   ]
  },
  {
   "cell_type": "markdown",
   "id": "649f81e4-ac81-4c68-9428-45833f4642bf",
   "metadata": {},
   "source": [
    "## **2. Modelo de estabilidad de talud infinito**\n",
    "***"
   ]
  },
  {
   "cell_type": "code",
   "execution_count": null,
   "id": "fce9a18c-2b76-409c-a599-c35017effabe",
   "metadata": {},
   "outputs": [],
   "source": [
    "import math\n",
    "from typing import NamedTuple\n",
    "\n",
    "import numpy as np\n",
    "import matplotlib.pyplot as plt\n",
    "plt.style.use(\"bmh\")\n",
    "\n",
    "import scipy.stats as stats"
   ]
  },
  {
   "cell_type": "markdown",
   "id": "190d9bf0-86e0-4ae5-bc98-caa186cce39c",
   "metadata": {},
   "source": [
    "Ahora, crearemos una tupla nombrada (`NamedTuple`) que contenga unos parámetros iniciales del modelo de estabilidad:"
   ]
  },
  {
   "cell_type": "code",
   "execution_count": null,
   "id": "2b5e6476-b2b3-4210-95ed-545bbcb31da7",
   "metadata": {},
   "outputs": [],
   "source": [
    "class Params(NamedTuple):\n",
    "    z: float = 5\n",
    "    z_w: float = 2.5\n",
    "    m: float = 0.5\n",
    "    c: float = 25\n",
    "    phi: float = math.radians(30)\n",
    "    alpha: float = math.radians(35)\n",
    "    gamma: float = 20\n",
    "    gamma_w: float = 9.81"
   ]
  },
  {
   "cell_type": "code",
   "execution_count": null,
   "id": "ccfeb141-07ce-4726-b4e9-ebfa7502dce2",
   "metadata": {},
   "outputs": [],
   "source": [
    "def slope_stability(p: Params):\n",
    "    c1 = p.c / (p.gamma * p.z * math.sin(p.alpha) * math.cos(p.alpha))\n",
    "    c2 = math.tan(p.phi) / math.tan(p.alpha)\n",
    "    c3 = p.m * p.gamma_w * math.tan(p.phi) / (p.gamma * math.tan(p.alpha))\n",
    "    return c1 + c2 - c3"
   ]
  },
  {
   "cell_type": "markdown",
   "id": "57033644-cdd7-448a-a7e0-0ca82ac01b8a",
   "metadata": {},
   "source": [
    "Usando los parámetros iniciales, obtenemos un valor de <span style=\"color:lightgreen\">$F = 1.15$</span>.\\\n",
    "Esto significa que el talud es moderadamente susceptible."
   ]
  },
  {
   "cell_type": "code",
   "execution_count": null,
   "id": "eed4c945-cd6b-4b36-9aad-8a0b30b2af1e",
   "metadata": {},
   "outputs": [],
   "source": [
    "slope_stability(Params())"
   ]
  },
  {
   "cell_type": "markdown",
   "id": "4e7e6cb7-1123-4636-946a-aa77c4819b19",
   "metadata": {},
   "source": [
    "Ahora, analizaremos el modelo de estabilidad de una manera intuitiva.\\\n",
    "Para esto, usaremos los parámetros de inclinación ($\\alpha$) y grado de saturación del suelo ($m$).\\\n",
    "Vamos a verificar que el riesgo aumenta ($F$ disminuye) cuando alguno de estos dos parámetros aumenta su valor. Los demás valores iniciales permanecerán igual."
   ]
  },
  {
   "cell_type": "markdown",
   "id": "06a42f7e-12f9-46fd-9a7c-ad15e0e0d9b6",
   "metadata": {},
   "source": [
    "### **2.1. Ángulo de inclinación ($\\alpha$)**\n",
    "Crearemos una función que remplace el valor de inclinación dentro del conjunto de parámetros iniciales:"
   ]
  },
  {
   "cell_type": "code",
   "execution_count": null,
   "id": "ea4ff3dd-461f-409c-bd48-c77ccf21b220",
   "metadata": {},
   "outputs": [],
   "source": [
    "def slope_stability_alpha(alpha: float) -> float:\n",
    "    params = Params(alpha=math.radians(alpha))\n",
    "    return slope_stability(params)"
   ]
  },
  {
   "cell_type": "markdown",
   "id": "82afd8e3-5f94-48e8-ab53-a24f4155c0e8",
   "metadata": {},
   "source": [
    "Estableceremos el rango de valores a evaluar y lo asignaremos a `support`, el resultado de la evaluación será asignado a `output`:"
   ]
  },
  {
   "cell_type": "code",
   "execution_count": null,
   "id": "67147352-76aa-4b79-a929-c21d758be725",
   "metadata": {},
   "outputs": [],
   "source": [
    "support = np.linspace(1, 45, 100)\n",
    "output = np.array([slope_stability_alpha(a) for a in support])"
   ]
  },
  {
   "cell_type": "markdown",
   "id": "6d99f699-ae91-4279-b3a0-94b642616274",
   "metadata": {},
   "source": [
    "Graficamos los resultados:"
   ]
  },
  {
   "cell_type": "code",
   "execution_count": null,
   "id": "ad846071-0947-4df5-ba3c-ea7fb9cbac6c",
   "metadata": {},
   "outputs": [],
   "source": [
    "fig, ax = plt.subplots(figsize=(10, 8))\n",
    "\n",
    "ax.plot(support, output, label=\"$F$\")\n",
    "ax.axhline(y=1, color=\"r\", label=r\"$F=1$\")\n",
    "\n",
    "ax.set_xlabel(r\"Inclinación del talud ($\\alpha$)\", fontsize=16)\n",
    "ax.set_ylabel(r\"Factor de estabilidad del talud ($F$)\", fontsize=16)\n",
    "\n",
    "ax.legend(prop={\"size\": 25})\n",
    "\n",
    "plt.show()"
   ]
  },
  {
   "cell_type": "markdown",
   "id": "37b4e26b-df05-4775-8865-58f02b0d5d89",
   "metadata": {},
   "source": [
    "### **2.2. Grado de saturación del suelo ($m$)**\n",
    "Crearemos una función que remplace el valor de inclinación dentro del conjunto de parámetros iniciales:"
   ]
  },
  {
   "cell_type": "code",
   "execution_count": null,
   "id": "fb14daea-fdf5-48c1-9259-b2578dcd5111",
   "metadata": {},
   "outputs": [],
   "source": [
    "def slope_stability_m(m: float) -> float:\n",
    "    params = Params(m=m)\n",
    "    return slope_stability(params)"
   ]
  },
  {
   "cell_type": "markdown",
   "id": "ab5c4c80-cf09-401e-a20b-c44e5b3b41b9",
   "metadata": {},
   "source": [
    "Estableceremos el rango de valores a evaluar y lo asignaremos a `support`, el resultado de la evaluación será asignado a `output`:"
   ]
  },
  {
   "cell_type": "code",
   "execution_count": null,
   "id": "2aadcfbb-1966-4bc7-8629-1734fcfd240c",
   "metadata": {},
   "outputs": [],
   "source": [
    "support = np.linspace(0.05, 0.95, 100)\n",
    "outputs = np.array([slope_stability_m(m) for m in support])"
   ]
  },
  {
   "cell_type": "markdown",
   "id": "4d75b225-9fd8-4a16-bd36-d7b9f12e4563",
   "metadata": {},
   "source": [
    "Graficamos los resultados:"
   ]
  },
  {
   "cell_type": "code",
   "execution_count": null,
   "id": "94ebc72d-20e3-4c4c-8075-003d893a0a67",
   "metadata": {},
   "outputs": [],
   "source": [
    "fig, ax = plt.subplots(figsize=(10, 8))\n",
    "\n",
    "ax.plot(support, outputs, label=\"$F$\")\n",
    "ax.axhline(y=1, color=\"r\", label=\"$F=1$\")\n",
    "\n",
    "ax.set_xlabel(r\"Grado de saturación del suelo ($m$)\", fontsize=16)\n",
    "ax.set_ylabel(r\"Factor de estabilidad del talud ($F$)\", fontsize=16)\n",
    "\n",
    "ax.legend(prop={\"size\": 25})\n",
    "\n",
    "plt.show()"
   ]
  },
  {
   "cell_type": "markdown",
   "id": "26178b80-cb66-400c-8764-e6450ff376cd",
   "metadata": {},
   "source": [
    "<a id=\"parte3\"></a>"
   ]
  },
  {
   "cell_type": "markdown",
   "id": "eab82dc8-5584-4f9a-b621-217951328532",
   "metadata": {},
   "source": [
    "## **3. Simulación de Montecarlo para el análisis de incertidumbre**\n",
    "\n",
    "Los parámetros principales a analizar son la cohesión ($c$) y el ángulo de fricción interna ($\\phi$) del suelo, con coeficientes de variación de 0.2 y 0.25 respectivamente.\\\n",
    "Asumiremos que estas variables tienen una distribución normal.\\\n",
    "Para ejecutar una simulación estocástica, definiremos una función que genere un conjunto aleatorio de valores iniciales para el cálculo de la estabilidad."
   ]
  },
  {
   "cell_type": "code",
   "execution_count": null,
   "id": "bf0eabfd-05ae-41fe-9852-dbd80c6901d2",
   "metadata": {},
   "outputs": [],
   "source": [
    "def random_params(params: Params):\n",
    "    return Params(c=stats.norm(25, 0.2*25).rvs(),\n",
    "                  phi=stats.norm(math.radians(30), 0.25*math.radians(30)).rvs())"
   ]
  },
  {
   "cell_type": "markdown",
   "id": "1b2382ac-ba3f-41ce-a82e-50e510ef552e",
   "metadata": {},
   "source": [
    "Al ejecutar la función `random_params`, obtendremos un conjunto aleatorio de valores iniciales:"
   ]
  },
  {
   "cell_type": "code",
   "execution_count": null,
   "id": "08ebcb04-4b36-47b7-8670-ceae5538213b",
   "metadata": {},
   "outputs": [],
   "source": [
    "random_params(Params())"
   ]
  },
  {
   "cell_type": "markdown",
   "id": "7128dc17-346b-4cc1-a102-665d8f63e273",
   "metadata": {},
   "source": [
    "De igual manera, si evaluamos el conjunto aleatorio usando la función `slope_stability`:"
   ]
  },
  {
   "cell_type": "code",
   "execution_count": null,
   "id": "adf0da13-2ef7-4885-9e62-ea73a611658b",
   "metadata": {},
   "outputs": [],
   "source": [
    "slope_stability(random_params(Params()))"
   ]
  },
  {
   "cell_type": "markdown",
   "id": "cfe7d1eb-3728-461e-8285-f10802233dce",
   "metadata": {},
   "source": [
    "Ahora, ejecutaremos una simulación de Montecarlo para estimar la distribución del factor de seguridad $F$:"
   ]
  },
  {
   "cell_type": "code",
   "execution_count": null,
   "id": "90a71612-bbff-435e-be21-6c2143221a2e",
   "metadata": {},
   "outputs": [],
   "source": [
    "N = 10000\n",
    "sim = np.zeros(N)\n",
    "\n",
    "failed = 0\n",
    "for i in range(N):\n",
    "    sim[i] = slope_stability(random_params(Params()))\n",
    "    if sim[i] < 1:\n",
    "        failed += 1\n",
    "        \n",
    "print(f\"Estimated failure probability: {failed/N:.3f}\")"
   ]
  },
  {
   "cell_type": "markdown",
   "id": "aefca53e-c83c-4af9-b5fd-b5a23287b1d0",
   "metadata": {},
   "source": [
    "Recuerda que las simulaciones con un factor de establidad menor a 1 (a la izquierda de la línea roja en el histograma) representan deslizamientos de talud."
   ]
  },
  {
   "cell_type": "code",
   "execution_count": null,
   "id": "637b53c3-5480-4eac-8aec-2e811fc52e42",
   "metadata": {},
   "outputs": [],
   "source": [
    "fig, ax = plt.subplots(figsize=(10, 6))\n",
    "ax.hist(sim, bins=40, density=True, alpha=0.5)\n",
    "ax.axvline(x=1, color=\"r\")\n",
    "ax.set_xlabel(\"Factor de estabilidad del talud ($F$)\")\n",
    "plt.show()"
   ]
  },
  {
   "cell_type": "markdown",
   "id": "2a41a1e9-b19b-46f0-9fc0-03f52e53d403",
   "metadata": {},
   "source": [
    "Podemos estimar la probabilidad de fallo del talud en función del ángulo de inclinación del talud ($\\alpha$):"
   ]
  },
  {
   "cell_type": "code",
   "execution_count": null,
   "id": "64068ba0-6afe-4bd6-94e7-2d4d28f98e69",
   "metadata": {},
   "outputs": [],
   "source": [
    "def failure_probability_alpha(alpha: float) -> float:\n",
    "    N = 1000\n",
    "    failed = 0\n",
    "    for i in range(N):\n",
    "        params = random_params(Params())\n",
    "        if slope_stability(params._replace(alpha=math.radians(alpha))) < 1:\n",
    "            failed += 1\n",
    "    return failed / float(N)"
   ]
  },
  {
   "cell_type": "markdown",
   "id": "237ac8b6-b13e-4f88-a96b-72dfa1367dd2",
   "metadata": {},
   "source": [
    "Estableceremos el rango de valores a evaluar y lo asignaremos a `support`, el resultado de la evaluación será asignado a `output`:"
   ]
  },
  {
   "cell_type": "code",
   "execution_count": null,
   "id": "dd8407fc-7d9d-47ea-a39b-378bd81ef870",
   "metadata": {},
   "outputs": [],
   "source": [
    "support = np.linspace(1, 55, 20)\n",
    "output = np.array([failure_probability_alpha(a) for a in support])"
   ]
  },
  {
   "cell_type": "markdown",
   "id": "d45a966b-f52f-4216-9f4d-2644385d0be6",
   "metadata": {},
   "source": [
    "Graficamos los resultados:"
   ]
  },
  {
   "cell_type": "code",
   "execution_count": null,
   "id": "9ddfd9d2-6f56-4761-abc4-5e7e6faf765b",
   "metadata": {},
   "outputs": [],
   "source": [
    "fig, ax = plt.subplots(figsize=(10, 7))\n",
    "ax.plot([math.degrees(a) for a in support], output)\n",
    "ax.set_xlabel(r\"Ángulo de inclinación del talud ($\\alpha$)\")\n",
    "ax.set_ylabel(\"Probabilidad de fallo\")\n",
    "plt.show()"
   ]
  },
  {
   "cell_type": "markdown",
   "id": "a0f90fe0-c665-4828-b1dc-4e4b3a48f1bc",
   "metadata": {},
   "source": [
    "De manera similar, podemos graficar la probabilidad de fallo del talud en función del grado de saturación del suelo ($m$):"
   ]
  },
  {
   "cell_type": "code",
   "execution_count": null,
   "id": "fdc4039d-457a-4af2-b969-58ba7892c752",
   "metadata": {},
   "outputs": [],
   "source": [
    "def failure_probability_m(m: float) -> float:\n",
    "    N = 1000\n",
    "    failed = 0\n",
    "    for i in range(N):\n",
    "        params = random_params(Params())\n",
    "        if slope_stability(params._replace(m=m)) < 1:\n",
    "            failed += 1\n",
    "    return failed / float(N)"
   ]
  },
  {
   "cell_type": "markdown",
   "id": "a8067bc9-0aed-4cb5-a859-5cf6c0dfe64d",
   "metadata": {},
   "source": [
    "Estableceremos el rango de valores a evaluar y lo asignaremos a `support`, el resultado de la evaluación será asignado a `output`:"
   ]
  },
  {
   "cell_type": "code",
   "execution_count": null,
   "id": "54813f7d-5be3-4d94-9ead-2514f0f09145",
   "metadata": {},
   "outputs": [],
   "source": [
    "support = np.linspace(0.05, 0.95, 20)\n",
    "outputs = np.array([failure_probability_m(m) for m in support])"
   ]
  },
  {
   "cell_type": "markdown",
   "id": "d14b745a-49fe-481f-b01a-138f378bac24",
   "metadata": {},
   "source": [
    "Graficamos los resultados:"
   ]
  },
  {
   "cell_type": "code",
   "execution_count": null,
   "id": "3cc2adda-c6f8-4df8-9e61-32029551bd29",
   "metadata": {},
   "outputs": [],
   "source": [
    "fig, ax = plt.subplots(figsize=(10, 7))\n",
    "ax.plot(support, output)\n",
    "ax.set_xlabel(\"Grado de saturación del suelo ($m$)\")\n",
    "ax.set_ylabel(\"Probabilidad de fallo\")\n",
    "plt.show()"
   ]
  },
  {
   "cell_type": "markdown",
   "id": "2d718330-ee35-4327-b04d-9b07ea5249f5",
   "metadata": {},
   "source": [
    "***"
   ]
  }
 ],
 "metadata": {
  "kernelspec": {
   "display_name": "Python 3 (ipykernel)",
   "language": "python",
   "name": "python3"
  },
  "language_info": {
   "codemirror_mode": {
    "name": "ipython",
    "version": 3
   },
   "file_extension": ".py",
   "mimetype": "text/x-python",
   "name": "python",
   "nbconvert_exporter": "python",
   "pygments_lexer": "ipython3",
   "version": "3.8.10"
  }
 },
 "nbformat": 4,
 "nbformat_minor": 5
}

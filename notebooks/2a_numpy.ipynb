{
 "cells": [
  {
   "cell_type": "markdown",
   "id": "77a66736-7cf5-477b-91d2-1a266481a78c",
   "metadata": {},
   "source": [
    "# **Numpy**\n",
    "***\n",
    "\n",
    "### **Editado por: Kevin Alexander Gómez**\n",
    "#### Contacto: kevinalexandr19@gmail.com | [Linkedin](https://www.linkedin.com/in/kevin-alexander-g%C3%B3mez-2b0263111/) | [Github](https://github.com/kevinalexandr19)\n",
    "***"
   ]
  },
  {
   "cell_type": "markdown",
   "id": "30c714a6-ea2e-4669-83a0-ab7b2ac25458",
   "metadata": {},
   "source": [
    "### **Descripción**\n",
    "\n",
    "Usando este manual, aprenderás a usar Numpy, la librería de álgebra lineal en Python.\n",
    "\n",
    "Este Notebook es parte del [**Manual de Python aplicado a la Geología**](https://github.com/kevinalexandr19/manual-python-geologia), y ha sido creado con la finalidad de facilitar el aprendizaje en Python para estudiantes y profesionales en el campo de la Geología.\n",
    "***"
   ]
  },
  {
   "cell_type": "markdown",
   "id": "e3d87377-5d94-45f7-bd1a-58d8bce190da",
   "metadata": {},
   "source": [
    "Empezaremos importando la librería: \n",
    "> Usaremos `np` como una referencia abreviada de la librería.\\\n",
    "> Para usar una función de Numpy, debemos anteponer su referencia (ejemplo: `np.log` para calcular el logaritmo de un número)."
   ]
  },
  {
   "cell_type": "code",
   "execution_count": null,
   "id": "e688b732-640b-44bb-9ae4-0363494e3b67",
   "metadata": {},
   "outputs": [],
   "source": [
    "import numpy as np"
   ]
  },
  {
   "cell_type": "markdown",
   "id": "99b1a91f-163a-4586-830a-c11d541793d1",
   "metadata": {},
   "source": [
    "### **1. Vectores**\n",
    "\n",
    "Usaremos la función `array` y una **lista** para crear un vector:"
   ]
  },
  {
   "cell_type": "code",
   "execution_count": null,
   "id": "b02aa9cd-b5b0-4fd4-8b2b-156570ebc3d4",
   "metadata": {},
   "outputs": [],
   "source": [
    "vector = np.array([1, 2, 3, 4, 5, 6])"
   ]
  },
  {
   "cell_type": "code",
   "execution_count": null,
   "id": "f47efa59-d89f-49de-9a83-4b8b2719589f",
   "metadata": {},
   "outputs": [],
   "source": [
    "print(vector)"
   ]
  },
  {
   "cell_type": "markdown",
   "id": "2370264e-0004-48df-8ca4-bd7966b8eda3",
   "metadata": {},
   "source": [
    "Este **vector** contiene el mismo tipo de información en cada posición. Lo verificamos usando el atributo `.dtype`:"
   ]
  },
  {
   "cell_type": "code",
   "execution_count": null,
   "id": "f3e4ecc1-2759-4f33-b663-a0e5af178ce9",
   "metadata": {},
   "outputs": [],
   "source": [
    "vector.dtype"
   ]
  },
  {
   "cell_type": "markdown",
   "id": "50f5a096-33e6-4cf8-906f-887b6466f5a0",
   "metadata": {},
   "source": [
    "Para transformar los valores del vector de **integer** a **float**, usaremos la función `astype`:"
   ]
  },
  {
   "cell_type": "code",
   "execution_count": null,
   "id": "98bef0bf-8dde-4d89-8f68-4c2d20e94b3c",
   "metadata": {},
   "outputs": [],
   "source": [
    "vector.astype(float)"
   ]
  },
  {
   "cell_type": "markdown",
   "id": "faa39e1c-c7fa-46e7-8162-b5d1d7ad3026",
   "metadata": {},
   "source": [
    "De manera similar a una lista o tupla, podemos seleccionar partes del vector haciendo **slicing**:"
   ]
  },
  {
   "cell_type": "code",
   "execution_count": null,
   "id": "e8b855fa-66c3-4889-990b-938d27ad2dc7",
   "metadata": {},
   "outputs": [],
   "source": [
    "vector[0]"
   ]
  },
  {
   "cell_type": "code",
   "execution_count": null,
   "id": "e52282fc-62e8-4e5b-9b2e-29f168db63ac",
   "metadata": {},
   "outputs": [],
   "source": [
    "vector[2:5]"
   ]
  },
  {
   "cell_type": "markdown",
   "id": "37bb6848-5aee-4dad-aa08-7de9a1c9ab5d",
   "metadata": {},
   "source": [
    "También podemos reemplazar valores dentro del vector:"
   ]
  },
  {
   "cell_type": "code",
   "execution_count": null,
   "id": "51239926-94d1-4f1c-88a6-f33298abf879",
   "metadata": {},
   "outputs": [],
   "source": [
    "vector[-1] = 10"
   ]
  },
  {
   "cell_type": "code",
   "execution_count": null,
   "id": "3adedbcf-c7c6-4162-93dd-c2831c4228fc",
   "metadata": {},
   "outputs": [],
   "source": [
    "vector"
   ]
  },
  {
   "cell_type": "markdown",
   "id": "9aca1d3c-dd34-4c8e-8a50-8f36bccc0aaa",
   "metadata": {},
   "source": [
    "Si establecemos una condición, obtendremos un vector con datos de tipo lógico:"
   ]
  },
  {
   "cell_type": "code",
   "execution_count": null,
   "id": "b522afb3-ac50-4e73-98f3-7189d6879579",
   "metadata": {},
   "outputs": [],
   "source": [
    "vector > 2"
   ]
  },
  {
   "cell_type": "markdown",
   "id": "c4f83ffb-138a-4135-884e-e32ad8712239",
   "metadata": {},
   "source": [
    "Podemos crear una copia del vector usando el método `.copy`:"
   ]
  },
  {
   "cell_type": "code",
   "execution_count": null,
   "id": "828811fd-087b-40eb-8162-a254b8f2fe77",
   "metadata": {},
   "outputs": [],
   "source": [
    "copia = vector.copy()"
   ]
  },
  {
   "cell_type": "markdown",
   "id": "d7db24d1-57b8-4ecd-85b4-52069ae42309",
   "metadata": {},
   "source": [
    "De esta forma, si modificamos un valor de la copia, el original permanecerá igual:"
   ]
  },
  {
   "cell_type": "code",
   "execution_count": null,
   "id": "c310ce12-583e-4e5d-8ba8-bbd724e56e84",
   "metadata": {},
   "outputs": [],
   "source": [
    "copia[0] = 0"
   ]
  },
  {
   "cell_type": "code",
   "execution_count": null,
   "id": "b9626a65-4161-4a0b-bc66-46d0239e707d",
   "metadata": {},
   "outputs": [],
   "source": [
    "print(vector)\n",
    "print(copia)"
   ]
  },
  {
   "cell_type": "markdown",
   "id": "999a39b3-bc94-4817-9fdd-7cee078bc68a",
   "metadata": {},
   "source": [
    "### **2. Matrices**\n",
    "\n",
    "Usaremos la función `array` y una **lista de listas** para crear una matriz:"
   ]
  },
  {
   "cell_type": "code",
   "execution_count": null,
   "id": "c91cabc1-9936-4fa3-afd7-541235b88e6b",
   "metadata": {},
   "outputs": [],
   "source": [
    "matriz = np.array([[1, 2, 3], [4, 5, 6], [7, 8, 9]])"
   ]
  },
  {
   "cell_type": "code",
   "execution_count": null,
   "id": "e5637a3b-aa7b-4e90-9f89-e01f6d881083",
   "metadata": {},
   "outputs": [],
   "source": [
    "print(matriz)"
   ]
  },
  {
   "cell_type": "markdown",
   "id": "2289e4e1-c66b-434a-bcb5-07613358944e",
   "metadata": {},
   "source": [
    "Para observa la forma de la matriz, usaremos el atributo `.shape`:"
   ]
  },
  {
   "cell_type": "code",
   "execution_count": null,
   "id": "48ebfd19-cdde-4b4e-922d-ab1c40faa59f",
   "metadata": {},
   "outputs": [],
   "source": [
    "matriz.shape"
   ]
  },
  {
   "cell_type": "markdown",
   "id": "45302252-035d-4ce9-b8e9-b3f4d202119e",
   "metadata": {},
   "source": [
    "Podemos usar el método `.reshape` para cambiar la forma de la matriz:"
   ]
  },
  {
   "cell_type": "code",
   "execution_count": null,
   "id": "20522e1d-01b6-4916-9c8c-64b76755c27e",
   "metadata": {},
   "outputs": [],
   "source": [
    "matriz.reshape((1, 9))"
   ]
  },
  {
   "cell_type": "markdown",
   "id": "f48fc26c-630a-4263-810d-2ef2a03f6102",
   "metadata": {},
   "source": [
    "La transpuesta de una matriz se calcula usando el atributo `.T`:"
   ]
  },
  {
   "cell_type": "code",
   "execution_count": null,
   "id": "14bc79aa-9ddf-4fb6-bfa4-949413a93a63",
   "metadata": {},
   "outputs": [],
   "source": [
    "print(matriz.T)"
   ]
  },
  {
   "cell_type": "markdown",
   "id": "a125fe9f-8f93-4a30-9526-24c3bc9e4050",
   "metadata": {},
   "source": [
    "Para el siguiente ejemplo, tenemos dos matrices de 2 x 2, llamadas A y B:"
   ]
  },
  {
   "cell_type": "code",
   "execution_count": null,
   "id": "09ac809f-e691-481e-a93a-cc2410f9581c",
   "metadata": {},
   "outputs": [],
   "source": [
    "A = np.array([[1, 1], [1, 1]])\n",
    "B = np.array([[-1, 0], [0, -1]])"
   ]
  },
  {
   "cell_type": "code",
   "execution_count": null,
   "id": "4d808a22-62d3-4ed2-af44-52415ad1a981",
   "metadata": {},
   "outputs": [],
   "source": [
    "print(A)"
   ]
  },
  {
   "cell_type": "code",
   "execution_count": null,
   "id": "814c637f-8662-4a30-96c5-8f8f9936705d",
   "metadata": {},
   "outputs": [],
   "source": [
    "print(B)"
   ]
  },
  {
   "cell_type": "markdown",
   "id": "2bc67d2a-1a6a-454b-b731-81406380fd62",
   "metadata": {},
   "source": [
    "Podemos agrupar las matrices horizontalmente usando la función `hstack`:"
   ]
  },
  {
   "cell_type": "code",
   "execution_count": null,
   "id": "774f9f15-eae8-41bf-8b34-026d03a1c37c",
   "metadata": {},
   "outputs": [],
   "source": [
    "np.hstack([A, B])"
   ]
  },
  {
   "cell_type": "markdown",
   "id": "c839d385-c015-4040-857b-abd3e80669bc",
   "metadata": {},
   "source": [
    "O verticalmente usando `vstack`:"
   ]
  },
  {
   "cell_type": "code",
   "execution_count": null,
   "id": "51bc7935-703f-4b68-9712-04bada04e3fd",
   "metadata": {},
   "outputs": [],
   "source": [
    "np.vstack([A, B])"
   ]
  },
  {
   "cell_type": "markdown",
   "id": "65d13935-a1e7-459e-a4a3-1e4dc54d21c2",
   "metadata": {},
   "source": [
    "También podemos usar la función `concatenate` para agruparlos de acuerdo a un eje (0 para vertical y 1 para horizontal)."
   ]
  },
  {
   "cell_type": "code",
   "execution_count": null,
   "id": "c532c4a2-f8f7-4f79-9b7d-b776796d3d58",
   "metadata": {},
   "outputs": [],
   "source": [
    "np.concatenate([A, B], axis=0)"
   ]
  },
  {
   "cell_type": "code",
   "execution_count": null,
   "id": "b105baba-3971-4a88-8743-a93851c261e5",
   "metadata": {},
   "outputs": [],
   "source": [
    "np.concatenate([A, B], axis=1)"
   ]
  },
  {
   "cell_type": "markdown",
   "id": "caf25ba6-ebd7-4acb-b828-e010b5f39f6a",
   "metadata": {},
   "source": [
    "### **3. Álgebra lineal en Numpy**\n",
    "\n",
    "Tenemos dos vectores $v_{1}$ y $v_{2}$:"
   ]
  },
  {
   "cell_type": "code",
   "execution_count": null,
   "id": "610adabe-d5a1-4576-9ae6-19703acfc545",
   "metadata": {},
   "outputs": [],
   "source": [
    "v1 = np.array([1, 2, 3, 4])\n",
    "v2 = np.array([5, 6, 7, 8])"
   ]
  },
  {
   "cell_type": "markdown",
   "id": "b5086da9-3696-4f82-b74d-a0ed9607b48e",
   "metadata": {},
   "source": [
    "Podemos sumar y restar los vectores:"
   ]
  },
  {
   "cell_type": "code",
   "execution_count": null,
   "id": "ef547207-39d1-4c75-8083-7293faf8d10a",
   "metadata": {},
   "outputs": [],
   "source": [
    "print(v1 + v2)"
   ]
  },
  {
   "cell_type": "code",
   "execution_count": null,
   "id": "5b3efb2e-fe9e-4816-aaef-8e3d409325c0",
   "metadata": {},
   "outputs": [],
   "source": [
    "print(v1 - v2)"
   ]
  },
  {
   "cell_type": "markdown",
   "id": "64aa1a15-e778-4d5f-903e-7b7b25bee0f0",
   "metadata": {},
   "source": [
    "Multiplicar y dividirlos:"
   ]
  },
  {
   "cell_type": "code",
   "execution_count": null,
   "id": "aa286d3e-b338-45d9-a554-882ff838b1ef",
   "metadata": {},
   "outputs": [],
   "source": [
    "print(v1 * v2)"
   ]
  },
  {
   "cell_type": "code",
   "execution_count": null,
   "id": "9d81625a-dff7-4295-9fc4-91f7e443546e",
   "metadata": {},
   "outputs": [],
   "source": [
    "print(v1 / v2)"
   ]
  },
  {
   "cell_type": "markdown",
   "id": "4e7df69c-3f04-4f10-9103-f93539035393",
   "metadata": {},
   "source": [
    "Calcular el producto escalar:"
   ]
  },
  {
   "cell_type": "code",
   "execution_count": null,
   "id": "cbf1aa5d-57a4-4de7-a7a2-d81cc054194a",
   "metadata": {},
   "outputs": [],
   "source": [
    "np.dot(v1, v2)"
   ]
  },
  {
   "cell_type": "markdown",
   "id": "4b781a0f-0583-481a-b587-74f5a94b74df",
   "metadata": {},
   "source": [
    "También podemos calcular la suma de componentes, máximo, mínimo, media, varianza y desviación estándar de cada vector:"
   ]
  },
  {
   "cell_type": "code",
   "execution_count": null,
   "id": "6a57d1db-b5fc-4601-872c-c6e953e9d284",
   "metadata": {},
   "outputs": [],
   "source": [
    "print(v1)"
   ]
  },
  {
   "cell_type": "markdown",
   "id": "a8682d22-f742-4452-8e5c-6fc8cd587096",
   "metadata": {},
   "source": [
    "#### Suma"
   ]
  },
  {
   "cell_type": "code",
   "execution_count": null,
   "id": "0a0f1cb5-5ada-4d06-80c0-003060a6347f",
   "metadata": {},
   "outputs": [],
   "source": [
    "v1.sum()"
   ]
  },
  {
   "cell_type": "markdown",
   "id": "7e839add-679d-4318-853c-dae8669b27c5",
   "metadata": {},
   "source": [
    "#### Máximo"
   ]
  },
  {
   "cell_type": "code",
   "execution_count": null,
   "id": "5b566065-7de5-437f-8b75-7337506a16bb",
   "metadata": {},
   "outputs": [],
   "source": [
    "v1.max()"
   ]
  },
  {
   "cell_type": "markdown",
   "id": "4ea8a5b0-b32b-4d87-bd90-80c04a5b94e4",
   "metadata": {},
   "source": [
    "#### Mínimo"
   ]
  },
  {
   "cell_type": "code",
   "execution_count": null,
   "id": "0f15dd5d-8337-4ab3-8322-270ae775cace",
   "metadata": {},
   "outputs": [],
   "source": [
    "v1.min()"
   ]
  },
  {
   "cell_type": "markdown",
   "id": "a41da017-a796-4125-9412-03590dd79a33",
   "metadata": {},
   "source": [
    "#### Media"
   ]
  },
  {
   "cell_type": "code",
   "execution_count": null,
   "id": "cdea7ee2-78fd-44e3-a756-312e49337f4f",
   "metadata": {},
   "outputs": [],
   "source": [
    "v1.mean()"
   ]
  },
  {
   "cell_type": "markdown",
   "id": "70423792-ef36-4a77-9ac9-ef4b6f775585",
   "metadata": {},
   "source": [
    "#### Varianza"
   ]
  },
  {
   "cell_type": "code",
   "execution_count": null,
   "id": "b0116f9e-5137-425f-a3b0-476132196e3b",
   "metadata": {},
   "outputs": [],
   "source": [
    "v1.var()"
   ]
  },
  {
   "cell_type": "markdown",
   "id": "0169a81b-8baf-4847-aeca-b93149c08d2c",
   "metadata": {},
   "source": [
    "#### Desviación estándar"
   ]
  },
  {
   "cell_type": "code",
   "execution_count": null,
   "id": "8f5f6f17-b52b-4487-a3c4-85e5c5616a79",
   "metadata": {},
   "outputs": [],
   "source": [
    "v1.std()"
   ]
  },
  {
   "cell_type": "markdown",
   "id": "b4c6b8fd-b6e5-4de9-abdd-8450ad4393f7",
   "metadata": {},
   "source": [
    "### Espacios lineales\n",
    "\n",
    "Podemos crear espacios lineales usando la función `arange`:"
   ]
  },
  {
   "cell_type": "code",
   "execution_count": null,
   "id": "d9275062-8961-4748-bd4a-72630b306eea",
   "metadata": {},
   "outputs": [],
   "source": [
    "np.arange(1, 10, 1)"
   ]
  },
  {
   "cell_type": "markdown",
   "id": "1fe0734d-6330-4dac-ab47-d0fab1f34251",
   "metadata": {},
   "source": [
    "Y también usando `linspace`:"
   ]
  },
  {
   "cell_type": "code",
   "execution_count": null,
   "id": "0c26ca98-02af-4c52-8503-f7738e93bd69",
   "metadata": {},
   "outputs": [],
   "source": [
    "np.linspace(1, 10, 10)"
   ]
  },
  {
   "cell_type": "markdown",
   "id": "45125e00-919d-4258-b039-1a99e4957adb",
   "metadata": {},
   "source": [
    "También podemos obtener números aleatorios usando el módulo `random`.\\\n",
    "El resultado puede ser un número, vector o matriz, dependiendo de la forma dentro del paréntesis:"
   ]
  },
  {
   "cell_type": "markdown",
   "id": "03ae1c61-0193-4a07-92da-377dcaee85b4",
   "metadata": {},
   "source": [
    "Por ejemplo, eligiremos un número aleatorio entre 0 y 1:"
   ]
  },
  {
   "cell_type": "code",
   "execution_count": null,
   "id": "594e02e5-3a30-4e36-8ce0-47fd8f77e773",
   "metadata": {},
   "outputs": [],
   "source": [
    "np.random.random()"
   ]
  },
  {
   "cell_type": "markdown",
   "id": "c93fa31b-5f07-48a7-939b-a9372a5b6aa0",
   "metadata": {},
   "source": [
    "Un número aleatorio de una distribución uniforme entre 0 y 5:"
   ]
  },
  {
   "cell_type": "code",
   "execution_count": null,
   "id": "e8022b31-e5e0-4094-b85c-d13ae12f1823",
   "metadata": {},
   "outputs": [],
   "source": [
    "np.random.uniform(0, 5)"
   ]
  },
  {
   "cell_type": "markdown",
   "id": "74dd47c7-3612-4cb3-b790-2830312c33cc",
   "metadata": {},
   "source": [
    "Una matriz de 2 $\\times$ 2 compuesta por números aleatorios de una distribución normal de media 0 y varianza 1"
   ]
  },
  {
   "cell_type": "code",
   "execution_count": null,
   "id": "86c638fd-09f8-402c-b431-42aa05eea37f",
   "metadata": {},
   "outputs": [],
   "source": [
    "np.random.randn(2, 2)"
   ]
  },
  {
   "cell_type": "markdown",
   "id": "9c1cab85-2d4e-4426-a900-e5b15e43ed0d",
   "metadata": {},
   "source": [
    "Por último, podemos establecer condiciones y devolver resultados en base a estos usando la función `where`.\\\n",
    "Por ejemplo, reemplazaremos los valores de $v_{1}$ mayores a 2 por el valor de 0 y los menores por el valor de 1:"
   ]
  },
  {
   "cell_type": "code",
   "execution_count": null,
   "id": "4803a892-5801-428c-aa50-4136c344b0c8",
   "metadata": {},
   "outputs": [],
   "source": [
    "np.where(v1 > 2, 0, 1)"
   ]
  }
 ],
 "metadata": {
  "kernelspec": {
   "display_name": "Python 3 (ipykernel)",
   "language": "python",
   "name": "python3"
  },
  "language_info": {
   "codemirror_mode": {
    "name": "ipython",
    "version": 3
   },
   "file_extension": ".py",
   "mimetype": "text/x-python",
   "name": "python",
   "nbconvert_exporter": "python",
   "pygments_lexer": "ipython3",
   "version": "3.8.10"
  }
 },
 "nbformat": 4,
 "nbformat_minor": 5
}

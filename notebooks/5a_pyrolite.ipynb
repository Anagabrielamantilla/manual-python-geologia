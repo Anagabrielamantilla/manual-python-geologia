{
 "cells": [
  {
   "cell_type": "markdown",
   "id": "0a016d31-9ea7-4553-a003-2227b093dea3",
   "metadata": {},
   "source": [
    "# <span style=\"color:gold\">**Pyrolite**</span>\n",
    "***\n",
    "\n",
    "### **Editado por: Kevin Alexander Gómez**\n",
    "#### Contacto: kevinalexandr19@gmail.com | [Linkedin](https://www.linkedin.com/in/kevin-alexander-g%C3%B3mez-2b0263111/) | [Github](https://github.com/kevinalexandr19)\n",
    "***"
   ]
  },
  {
   "cell_type": "markdown",
   "id": "0baa6c7e-5faa-4692-a86f-6af80e023a0d",
   "metadata": {},
   "source": [
    "### **Descripción**\n",
    "\n",
    "En este tutorial, aprenderás a usar <span style=\"color:gold\">Pyrolite</span>, una librería de Python para la visualización de información geoquímica a través de diagramas ternarios.\n",
    "\n",
    "Este Notebook es parte del proyecto [**Python para Geólogos**](https://github.com/kevinalexandr19/manual-python-geologia), y ha sido creado con la finalidad de facilitar el aprendizaje en Python para estudiantes y profesionales en el campo de la Geología.\n",
    "***"
   ]
  },
  {
   "cell_type": "markdown",
   "id": "41f9daa5-adf5-4898-b9bd-3cfab07296d2",
   "metadata": {},
   "source": [
    "Empezaremos importando la función `pyroplot` del módulo `pyrolite.plot`:\n",
    "> También importaremos `pandas` para procesar la información de entrada y `matplotlib` para generar el gráfico principal.\\\n",
    "> Usaremos la data geoquímica de `rocas.csv` para crear los gráficos."
   ]
  },
  {
   "cell_type": "code",
   "execution_count": null,
   "id": "26b6768d-b9df-40f2-9fd3-3ef0bae1bbbf",
   "metadata": {},
   "outputs": [],
   "source": [
    "import pandas as pd\n",
    "import matplotlib.pyplot as plt\n",
    "from pyrolite.plot import pyroplot"
   ]
  },
  {
   "cell_type": "code",
   "execution_count": null,
   "id": "e2938f9c-6356-408c-bef8-264b4646adcd",
   "metadata": {},
   "outputs": [],
   "source": [
    "data = pd.read_csv(\"files/rocas.csv\")"
   ]
  },
  {
   "cell_type": "code",
   "execution_count": null,
   "id": "4f546e75-552e-49fa-a77e-c9dc3dcf0165",
   "metadata": {},
   "outputs": [],
   "source": [
    "data.sample(5)"
   ]
  },
  {
   "cell_type": "markdown",
   "id": "34d18141-33cf-47d9-96de-d4651c754685",
   "metadata": {},
   "source": [
    "### **1. Diagrama ternario usando `pyroplot.scatter`**\n",
    "\n",
    "Para crear un gráfico con Pyrolite, debemos seguir los siguientes pasos:\n",
    "> Es recomendable usar los `subplots` de Matplotlib, de esta forma podemos referenciar múltiples figuras usando el parámetro `ax`.\\\n",
    "> Además, si usamos `pyroplot`, debemos colocar primero el DataFrame con la información, de esta forma: `DataFrame.pyroplot.scatter`."
   ]
  },
  {
   "cell_type": "markdown",
   "id": "a5a487fc-ff58-48b5-a778-75cce5962225",
   "metadata": {},
   "source": [
    "Crearemos un diagrama ternario de sílice (SiO2), magnesio (MgO) y hierro total (FeOT) usando `plt.subplots`.\n",
    "\n",
    "Para crear el diagrama de dispersión, usaremos `pyroplot.scatter` y el parámetro `ax` para referenciar la figura:"
   ]
  },
  {
   "cell_type": "code",
   "execution_count": null,
   "id": "a2913e21-c3d5-4c60-9ae5-1232c870cfb8",
   "metadata": {},
   "outputs": [],
   "source": [
    "fig, ax = plt.subplots(figsize=(6, 6))\n",
    "\n",
    "ax = data[[\"SiO2\", \"MgO\", \"FeOT\"]].pyroplot.scatter(ax=ax)\n",
    "\n",
    "plt.show()"
   ]
  },
  {
   "cell_type": "markdown",
   "id": "b0b7dd7f-aa3c-4a55-9a09-4bc25843da0b",
   "metadata": {},
   "source": [
    "Podemos modificar los puntos del diagrama usando los parámetros `c` de color, `s` de tamaño y `marker` para la forma de los puntos:"
   ]
  },
  {
   "cell_type": "code",
   "execution_count": null,
   "id": "8ab9c87d-ebea-4473-b65b-64044c52e89b",
   "metadata": {},
   "outputs": [],
   "source": [
    "fig, ax = plt.subplots(figsize=(6, 6))\n",
    "\n",
    "ax = data[[\"SiO2\", \"MgO\", \"FeOT\"]].pyroplot.scatter(ax=ax, c=\"green\", s=5, marker=\"o\")\n",
    "\n",
    "plt.show()"
   ]
  },
  {
   "cell_type": "markdown",
   "id": "390149f1-3a95-4919-a5cc-10200193a5f6",
   "metadata": {},
   "source": [
    "Podemos agregar una grilla, haciendo uso de `grid` y para elegir en que eje trazaremos la grilla podemos usar el parámetro `axis`: `l` para la izquierda, `r` para la derecha y `t` para arriba.\\\n",
    "También podemos modificar el tipo de línea de la grilla con el parámetro `linestyle` y su grosor con `linewidth`.\\\n",
    "Las etiquetas de cada esquina del diagrama pueden ser modificadas con `set_llabel`, `set_rlabel` y `set_tlabel`.\n",
    "\n",
    "\n",
    "Ahora, colocaremos una grilla del lado izquierdo, con líneas discontinuas y de grosor 2:"
   ]
  },
  {
   "cell_type": "code",
   "execution_count": null,
   "id": "c128b49f-510a-473f-8e95-06d5e7cf7ee5",
   "metadata": {},
   "outputs": [],
   "source": [
    "fig, ax = plt.subplots(figsize=(6, 6))\n",
    "\n",
    "ax = data[[\"SiO2\", \"MgO\", \"FeOT\"]].pyroplot.scatter(ax=ax, c=\"green\", s=5, marker=\"o\")\n",
    "\n",
    "ax.grid(axis=\"l\", linestyle=\"--\", linewidth=2)\n",
    "\n",
    "plt.show()"
   ]
  },
  {
   "cell_type": "markdown",
   "id": "bede297b-c24d-4b56-b6f3-2d0244791608",
   "metadata": {},
   "source": [
    "Por último, agregaremos un título a la figura con la función `suptitle`:"
   ]
  },
  {
   "cell_type": "code",
   "execution_count": null,
   "id": "c32288c4-1290-47bb-afee-d94af459a9d4",
   "metadata": {},
   "outputs": [],
   "source": [
    "fig, ax = plt.subplots(figsize=(6, 6))\n",
    "\n",
    "ax = data[[\"SiO2\", \"MgO\", \"FeOT\"]].pyroplot.scatter(ax=ax, c=\"green\", s=5, marker=\"o\")\n",
    "\n",
    "ax.grid(axis=\"l\", linestyle=\"--\", linewidth=2)\n",
    "\n",
    "plt.suptitle(\"Diagrama ternario $SiO_{2} - MgO - FeOT$\", fontsize=18)\n",
    "plt.show()"
   ]
  },
  {
   "cell_type": "markdown",
   "id": "a7880c11-0cfd-4503-979e-4a2ad9f98986",
   "metadata": {},
   "source": [
    "### **2. Reajustando los límites del diagrama ternario con `set_ternary_lim`**\n",
    "Ahora que ya tenemos una figura inicial, modificaremos el gráfico para observar mejor la dispersión de puntos.\\\n",
    "Usaremos la función `set_ternary_lim` para recortar la parte inferior del diagrama ternario. Los parámetros de esta función corresponden a los límites que tendrá el diagrama ternario en las 3 direcciones: izquierda con `lmax` y `lmin`, derecha con `rmax` y `rmin`, y arriba con `tmax` y `tmin`.\n",
    "\n",
    "Para este caso, los límites serán: izquierda entre 0.0 y 0.7, derecha entre 0.0 y 0.7, y arriba entre 0.3 y 1.0.\\\n",
    "También modificaremos la grilla, adelgazando sus líneas y agregando todos los ejes:"
   ]
  },
  {
   "cell_type": "code",
   "execution_count": null,
   "id": "33b142a3-b46a-4a8a-972d-5cd386481e4f",
   "metadata": {},
   "outputs": [],
   "source": [
    "fig, ax = plt.subplots(figsize=(6, 6))\n",
    "\n",
    "ax = data[[\"SiO2\", \"MgO\", \"FeOT\"]].pyroplot.scatter(ax=ax, c=\"green\", s=5, marker=\"o\")\n",
    "\n",
    "ax.set_ternary_lim(lmin=0.0, lmax=0.7,\n",
    "                    rmin=0.0, rmax=0.7, \n",
    "                    tmin=0.3, tmax=1.0)\n",
    "\n",
    "ax.grid(axis=\"both\", linestyle=\"--\", linewidth=1)\n",
    "\n",
    "plt.suptitle(\"Diagrama ternario $SiO_{2} - MgO - FeOT$\", fontsize=18)\n",
    "plt.show()"
   ]
  },
  {
   "cell_type": "markdown",
   "id": "59441f9d-ff60-434f-80b6-73018d3cb831",
   "metadata": {},
   "source": [
    "### **3. Agregando una distribución de probabilidad usando `pyroplot.density`**\n",
    "Podemos agregar una distribución de probabilidad sobre los puntos a través de la función `pyroplot.density`.\\\n",
    "La sintáxis es similar al de `pyroplot.scatter`, teniendo como parámetros:\n",
    "- `contours` para establecer los valores a partir del cuales serán trazadas las líneas de contorno.\n",
    "- `linewidths`, `linestyles` y `colors` para el grosor, estilo y color de cada una de estas líneas.\n",
    "\n",
    "Para la figura, usaremos 3 líneas de contorno:\n",
    "- La primera, de valor 0.95, grosor 1, estilo continuo y color rojo.\n",
    "- La segunda, de valor 0.66, grosor 1, estilo discontinuo, y de color azul\n",
    "- La tercera, de valor 0.33, grosor 1, estilo discontinuo y punteado, y color amarillo."
   ]
  },
  {
   "cell_type": "code",
   "execution_count": null,
   "id": "35f7b2ea-cf35-475a-8f78-af8dea4c6d64",
   "metadata": {},
   "outputs": [],
   "source": [
    "fig, ax = plt.subplots(figsize=(8, 8))\n",
    "\n",
    "ax = data[[\"SiO2\", \"MgO\", \"FeOT\"]].pyroplot.scatter(ax=ax, c=\"green\", s=5, marker=\"o\")\n",
    "\n",
    "ax = data[[\"SiO2\", \"MgO\", \"FeOT\"]].pyroplot.density(ax=ax, contours=[0.95, 0.66, 0.33], linewidths=1, linestyles=[\"-\", \"--\", \"-.\"], colors=[\"red\", \"blue\", \"yellow\"])\n",
    "\n",
    "ax.set_ternary_lim(lmin=0.0, lmax=0.7,\n",
    "                    rmin=0.0, rmax=0.7, \n",
    "                    tmin=0.3, tmax=1.0)\n",
    "\n",
    "ax.grid(axis=\"both\", linestyle=\"--\", linewidth=1)\n",
    "\n",
    "plt.suptitle(\"Diagrama ternario $SiO_{2} - MgO - FeOT$\", fontsize=18)\n",
    "plt.show()"
   ]
  }
 ],
 "metadata": {
  "kernelspec": {
   "display_name": "Python 3 (ipykernel)",
   "language": "python",
   "name": "python3"
  },
  "language_info": {
   "codemirror_mode": {
    "name": "ipython",
    "version": 3
   },
   "file_extension": ".py",
   "mimetype": "text/x-python",
   "name": "python",
   "nbconvert_exporter": "python",
   "pygments_lexer": "ipython3",
   "version": "3.8.10"
  }
 },
 "nbformat": 4,
 "nbformat_minor": 5
}

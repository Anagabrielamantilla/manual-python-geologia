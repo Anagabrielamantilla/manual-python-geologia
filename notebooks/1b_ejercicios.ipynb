{
 "cells": [
  {
   "cell_type": "markdown",
   "id": "da087cb8-c06f-4dd1-a6fb-7ee1c2295ae6",
   "metadata": {},
   "source": [
    "# **Ejercicios de Python para Geología**\n",
    "***\n",
    "\n",
    "### **Editado por: Kevin Alexander Gómez**\n",
    "#### Contacto: kevinalexandr19@gmail.com | [Linkedin](https://www.linkedin.com/in/kevin-alexander-g%C3%B3mez-2b0263111/) | [Github](https://github.com/kevinalexandr19)\n",
    "***"
   ]
  },
  {
   "cell_type": "markdown",
   "id": "9dcd870e-a842-4e44-a989-555ddd1d1ce0",
   "metadata": {},
   "source": [
    "### **Descripción**\n",
    "\n",
    "Usando este manual, resolverás problemas de Geología a través dei uso de Python.\n",
    "\n",
    "Este Notebook es parte del [**Manual de Python aplicado a la Geología**](https://github.com/kevinalexandr19/manual-python-geologia), y ha sido creado con la finalidad de facilitar el aprendizaje en Python para estudiantes y profesionales en el campo de la Geología.\n",
    "\n",
    "***"
   ]
  },
  {
   "cell_type": "markdown",
   "id": "e1c25fe9-f00e-4a4a-8cec-be8a7d20f2d0",
   "metadata": {},
   "source": [
    "### **1. Reporte de resultados en una mina**\n",
    "\n",
    "Una mina de Au obtuvo los siguientes resultados de producción para un determinado semestre:\n",
    "\n",
    "| Mes | Au (onzas) |\n",
    "| --- | --- |\n",
    "| Enero | 80 |\n",
    "| Febrero | 105 |\n",
    "| Marzo | 45 |\n",
    "| Abril | 80 |\n",
    "| Mayo | 75 |\n",
    "| Junio | 125 |\n",
    "\n",
    "Para obtener un reporte general de los resultados, se pide:\n",
    " - El total de onzas Au producidas en el semestre. Asignarlo a la variable `total`.\n",
    " - El costo de operación mensual de la mina fue de 40000 dólares. Asignarlo a la variable `costo_operacion`.\n",
    " - El precio de una onza de Au es de 1000 dólares. Asignarlo a la variable `precio`.\n",
    " - Usando estas tres variables, calcular la ganancia semestral de la mina asignándola a la variable `ganancia`.\n",
    " - Mostrar el resultado general usando la función `print`, usando el siguiente formato:\\\n",
    " `\"Durante el semestre, la mina produjo ___ onzas de Au con una ganancia total de ___ dólares\"`"
   ]
  },
  {
   "cell_type": "code",
   "execution_count": null,
   "id": "6ea317e4-7dc1-4eeb-8eea-f4eb43907da7",
   "metadata": {},
   "outputs": [],
   "source": [
    "total = 80 + 105 + 45 + 80 + 75 + 125\n",
    "costo_operacion = 40000\n",
    "precio = 1000"
   ]
  },
  {
   "cell_type": "code",
   "execution_count": null,
   "id": "8c67f2a9-843b-4d3c-8639-961e2240dd30",
   "metadata": {},
   "outputs": [],
   "source": [
    "ganancia = total*precio - costo_operacion*6"
   ]
  },
  {
   "cell_type": "code",
   "execution_count": null,
   "id": "abc801e3-1d71-4e32-ae91-87d1254ae379",
   "metadata": {},
   "outputs": [],
   "source": [
    "print(f\"Durante el semestre, la mina produjo {total} onzas de Au con una ganancia total de {ganancia} dólares\")"
   ]
  },
  {
   "cell_type": "markdown",
   "id": "c33a5980-312e-42b2-a630-891d0574340f",
   "metadata": {},
   "source": [
    "***"
   ]
  },
  {
   "cell_type": "markdown",
   "id": "bd1713d5-6145-477c-a162-a2d2b756413d",
   "metadata": {},
   "source": [
    "### **2. Riesgo geológico en una edificación**\n",
    "¿Cuál es la probabilidad de que un edificio sufra un terremoto de magnitud 7 teniendo en cuenta que su vida útil es de 100 años, y el período de retorno del terremoto es de 500 años?. Usar la siguiente fórmula para el cálculo de la probabilidad de excedencia:\n",
    "\n",
    "<center> $\\Large p = 1 - (1 - \\frac{1}{T})^{t}$ </center>\n",
    "\n",
    "Donde:\n",
    "\n",
    "- $p$ : probabilidad de excedencia\n",
    "- $t$ : vida útil de la estructura\n",
    "- $T$ : período de retorno"
   ]
  },
  {
   "cell_type": "code",
   "execution_count": null,
   "id": "c6b3ccac-a7be-4481-9d93-20e040a835a2",
   "metadata": {},
   "outputs": [],
   "source": [
    "t = 100\n",
    "T = 500\n",
    "p = 1 - (1 - (1/T))**t"
   ]
  },
  {
   "cell_type": "code",
   "execution_count": null,
   "id": "2f504959-903d-4beb-a0e5-3e2f987104e3",
   "metadata": {},
   "outputs": [],
   "source": [
    "print(p)"
   ]
  },
  {
   "cell_type": "markdown",
   "id": "d8dd93e7-f775-4542-916a-a68c190e8688",
   "metadata": {},
   "source": [
    "Respuesta: la probabilidad de que la edificación sufra un terremoto de magnitud 7 es de $18\\%$."
   ]
  },
  {
   "cell_type": "markdown",
   "id": "ff7cdb19-2acb-47da-a5c6-92debe29bb4b",
   "metadata": {},
   "source": [
    "***"
   ]
  },
  {
   "cell_type": "markdown",
   "id": "ef8cc0f4-d7ab-46cf-8bff-2615662149a7",
   "metadata": {
    "tags": []
   },
   "source": [
    "### **3. Mineralogía de una muestra de roca (Parte 1)**\n",
    "\n",
    "Una muestra de granodiorita tiene la siguiente composición mineralógica: cuarzo $(48\\%)$, plagioclasas $(27\\%)$, feldespato $(11\\%)$, biotita $(8\\%)$, pirita $(6\\%)$.\\\n",
    "Crear un diccionario en Python que guarde la mineralogía de la muestra, el porcentaje debe ser representado en fracción (ejemplo: 25% es igual a 0.25)."
   ]
  },
  {
   "cell_type": "code",
   "execution_count": null,
   "id": "635d9045-1ce0-413e-99ef-1c9203a15c43",
   "metadata": {},
   "outputs": [],
   "source": [
    "muestra = {\"cuarzo\": 0.48, \"plagioclasas\": 0.27, \"feldespato\": 0.11, \"biotita\": 0.08, \"pirita\": 0.06}"
   ]
  },
  {
   "cell_type": "code",
   "execution_count": null,
   "id": "84c8ee13-78b7-49b5-b235-7678c91f7b72",
   "metadata": {},
   "outputs": [],
   "source": [
    "muestra"
   ]
  },
  {
   "cell_type": "markdown",
   "id": "307ebd99-9696-48bc-ab49-f67f16f460dd",
   "metadata": {},
   "source": [
    "### **4. Mineralogía de una muestra de roca (Parte 2)**\n",
    "\n",
    "Usando el diccionario obtenido en el ejercicio **14.3**, crear un bucle definido que muestre el nombre y el porcentaje de cada mineral.\\\n",
    "Usar el siguiente formato: `Abundancia de ____ en la muestra: _____ %`\n",
    "> Nota: usar la función `print` para mostrar los resultados de cada mineral."
   ]
  },
  {
   "cell_type": "code",
   "execution_count": null,
   "id": "c8a333d2-575d-449e-953a-27c5434034ec",
   "metadata": {},
   "outputs": [],
   "source": [
    "for mineral, porcentaje in muestra.items():\n",
    "    print(f\"Abundancia de {mineral} en la muestra: {porcentaje:.0%}\")"
   ]
  },
  {
   "cell_type": "markdown",
   "id": "c3677163-5fef-4041-b85d-5bd3119fbe60",
   "metadata": {},
   "source": [
    "***"
   ]
  },
  {
   "cell_type": "markdown",
   "id": "62422aec-03a5-4905-9cfc-177ef81ceb71",
   "metadata": {},
   "source": [
    "### **5. Normalización de porcentajes para clasificación petrográfica**\n",
    "\n",
    "Crear una función con nombre `streckeisen` con las siguientes características:\n",
    "- La función usará como parámetro de entrada a un **diccionario**.\n",
    "- La función tomará los porcentajes de `cuarzo`, `feldespato` y `plagioclasas` del diccionario y los normalizará.\n",
    "- La función debe devolver como resultado un diccionario conteniendo solamente los 3 minerales y sus respectivos porcentajes normalizados.\n",
    "\n",
    "Usar el diccionario del ejercicio **14.3** en la función y mostrar el resultado final."
   ]
  },
  {
   "cell_type": "code",
   "execution_count": null,
   "id": "2ca12420-e3ef-4753-bc60-d3d0d39764f4",
   "metadata": {},
   "outputs": [],
   "source": [
    "def streckeisen(diccionario):\n",
    "    cz = diccionario.get(\"cuarzo\", 0)\n",
    "    plg = diccionario.get(\"plagioclasas\", 0)\n",
    "    fp = diccionario.get(\"feldespato\", 0)\n",
    "    \n",
    "    suma = cz + plg + fp\n",
    "    \n",
    "    cz /= suma\n",
    "    plg /= suma\n",
    "    fp /= suma\n",
    "    \n",
    "    resultado = dict([(\"cuarzo\", cz), (\"plagioclasas\", plg), (\"feldespato\", fp)])\n",
    "    return resultado    "
   ]
  },
  {
   "cell_type": "code",
   "execution_count": null,
   "id": "0fc92ff8-828e-40c1-ab13-5401a07c98be",
   "metadata": {},
   "outputs": [],
   "source": [
    "streckeisen(muestra)"
   ]
  },
  {
   "cell_type": "markdown",
   "id": "03f2caa8-20b3-49f7-a88e-8f8f7b1e98c4",
   "metadata": {},
   "source": [
    "### **6. Prueba de algoritmo**\n",
    "\n",
    "Usar la función `streckeisen` creada en el ejercicio **14.5** para normalizar una muestra con la siguiente mineralogía:\\\n",
    "Cuarzo $(41\\%)$, plagioclasas $(25\\%)$, anfíboles $(17\\%)$, biotita $(12\\%)$, pirita $(5\\%)$.\n",
    "> Nota:  en caso la función no evalúe la muestra de forma correcta o indique error, se deberá modificar la función hasta que pueda resolverla."
   ]
  },
  {
   "cell_type": "code",
   "execution_count": null,
   "id": "6f7ccf20-8d6f-486a-a4c5-71f010714e12",
   "metadata": {},
   "outputs": [],
   "source": [
    "muestra2 = {\"cuarzo\": 0.41, \"plagioclasas\": 0.25, \"anfíboles\": 0.17, \"biotita\": 0.12, \"pirita\": 0.05}"
   ]
  },
  {
   "cell_type": "code",
   "execution_count": null,
   "id": "e9ad8e4c-67fb-443d-acec-df38237a7f97",
   "metadata": {},
   "outputs": [],
   "source": [
    "streckeisen(muestra2)"
   ]
  },
  {
   "cell_type": "markdown",
   "id": "90d44959-69df-4e02-a816-927c7d77a22f",
   "metadata": {},
   "source": [
    "***"
   ]
  },
  {
   "cell_type": "markdown",
   "id": "c3550e66-2161-480f-80ab-3ae79217783e",
   "metadata": {},
   "source": [
    "### **7. Buzamiento aparente en un talud**\n",
    "Un estrato rocoso que aflora en el talud de una carretera tiene un azimut de 150° y un buzamiento aparente de 33°. Calcular el buzamiento real del estrato teniendo en cuenta que el azimut del talud de carretera es de 180°. Usar la siguiente fórmula:\n",
    "<center> $ \\Large \\phi_{real} = arctan(\\frac{tan(\\phi_{aparente})}{cos(\\beta)})$ </center>\n",
    "Donde:\n",
    "\n",
    "- $\\phi_{real}$ : buzamiento real\n",
    "- $\\phi_{aparente}$ : buzamiento aparente\n",
    "- $\\beta$ : ángulo entre el azimut del estrato y el azimut del talud\n",
    "\n",
    "> **Nota:** usar la librería `math` o `numpy` para realizar el cálculo trigonométrico."
   ]
  },
  {
   "cell_type": "markdown",
   "id": "61e3cfa3-e0ed-4a15-b543-e19ff6ff09cf",
   "metadata": {},
   "source": [
    "Asignando los valores de buzamiento aparente a `dip_aparente` y el ángulo $\\beta$ a `beta`:"
   ]
  },
  {
   "cell_type": "code",
   "execution_count": null,
   "id": "62fc09df-c7c7-484b-aac8-5fd0db8d5faf",
   "metadata": {},
   "outputs": [],
   "source": [
    "dip_aparente = 33\n",
    "beta = abs(180 - 150)"
   ]
  },
  {
   "cell_type": "markdown",
   "id": "b56d619b-e92e-451a-901a-b863dcf82687",
   "metadata": {},
   "source": [
    "Ahora, importaremos la librería `math` para poder usar las funciones tangente, seno y arcotangente.\\\n",
    "Primero usaremos la función `math.radians()` para transformar los ángulos de grados sexagesimales a radianes."
   ]
  },
  {
   "cell_type": "code",
   "execution_count": null,
   "id": "a21713b5-76ec-4d60-91fd-776c06567143",
   "metadata": {},
   "outputs": [],
   "source": [
    "import math"
   ]
  },
  {
   "cell_type": "code",
   "execution_count": null,
   "id": "06d0f187-1cf5-4c60-86cd-1e326bff38ab",
   "metadata": {},
   "outputs": [],
   "source": [
    "dip_aparente = math.radians(dip_aparente)\n",
    "beta = math.radians(beta)"
   ]
  },
  {
   "cell_type": "markdown",
   "id": "b1043efc-fcf8-4cdb-ab4e-ce505da995b5",
   "metadata": {},
   "source": [
    "Ahora, usaremos `math.atan()`, `math.tan()` y `math.sin()` para calcular el buzamiento real en radianes:"
   ]
  },
  {
   "cell_type": "code",
   "execution_count": null,
   "id": "6de4d781-00f5-4569-840a-339e8e150288",
   "metadata": {},
   "outputs": [],
   "source": [
    "dip_real = math.atan((math.tan(dip_aparente) / math.cos(beta)))\n",
    "dip_real"
   ]
  },
  {
   "cell_type": "markdown",
   "id": "10866ead-b495-4c06-9f5a-5113efc1a1f9",
   "metadata": {},
   "source": [
    "El buzamiento está en radianes, debemos transformarlo a grados sexagesimales:"
   ]
  },
  {
   "cell_type": "code",
   "execution_count": null,
   "id": "99c7aa15-800e-4cab-b840-70d996b183e3",
   "metadata": {},
   "outputs": [],
   "source": [
    "math.degrees(dip_real)"
   ]
  },
  {
   "cell_type": "markdown",
   "id": "c30b9049-4bf5-412f-bf5d-de63b7e6ffd9",
   "metadata": {},
   "source": [
    "Respuesta: el buzamiento real del estrato rocoso es de aprox. 37°."
   ]
  }
 ],
 "metadata": {
  "kernelspec": {
   "display_name": "Python 3 (ipykernel)",
   "language": "python",
   "name": "python3"
  },
  "language_info": {
   "codemirror_mode": {
    "name": "ipython",
    "version": 3
   },
   "file_extension": ".py",
   "mimetype": "text/x-python",
   "name": "python",
   "nbconvert_exporter": "python",
   "pygments_lexer": "ipython3",
   "version": "3.8.10"
  }
 },
 "nbformat": 4,
 "nbformat_minor": 5
}

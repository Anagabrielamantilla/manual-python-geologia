{
 "cells": [
  {
   "cell_type": "markdown",
   "id": "cbaac784-5e6b-43be-8468-9bc49cb4bcb7",
   "metadata": {},
   "source": [
    "# Red estereográfica interactiva\n",
    "***\n",
    "### **Editado por: Kevin Alexander Gómez**\n",
    "#### Contacto: kevinalexandr19@gmail.com | [Linkedin](https://www.linkedin.com/in/kevin-alexander-g%C3%B3mez-2b0263111/) | [Github](https://github.com/kevinalexandr19)\n",
    "***\n",
    "### **Descripción**\n",
    "\n",
    "En este notebook, probarás una versión interactiva de la red estereográfica de Wulff, modificando los parámetros de rumbo, buzamiento y cabeceo.\n",
    "\n",
    "Este Notebook es parte del proyecto [**Python para Geólogos**](https://github.com/kevinalexandr19/manual-python-geologia), y ha sido creado con la finalidad de facilitar el aprendizaje en Python para estudiantes y profesionales en el campo de la Geología.\n",
    "\n",
    "***\n",
    "\n",
    "Usaremos un módulo propio de este proyecto, llamado `stereonet`, que contiene el código de esta red interactiva:"
   ]
  },
  {
   "cell_type": "code",
   "execution_count": null,
   "id": "4f66d0f0-6368-49e2-a118-e48ac07377b6",
   "metadata": {},
   "outputs": [],
   "source": [
    "from files.stereonet import stereonet\n",
    "stereonet()"
   ]
  },
  {
   "cell_type": "markdown",
   "id": "43e0ef62-b59e-40e6-8497-59e10566269b",
   "metadata": {},
   "source": [
    "***\n",
    "### Acerca de la Stereonet interactiva:\n",
    "- El objetivo de esta aplicación es explicar de manera visual los conceptos de rumbo, buzamiento y cabeceo dentro de una red esterográfica.\n",
    "- El código utilizado para crear este widget está compuesto principalmente por las librerías `matplotlib`, `mplstereonet` y `ipywidgets`.\n",
    "- El módulo `stereonet` se encuentra en la carpeta `files` del repositorio."
   ]
  }
 ],
 "metadata": {
  "kernelspec": {
   "display_name": "Python 3 (ipykernel)",
   "language": "python",
   "name": "python3"
  },
  "language_info": {
   "codemirror_mode": {
    "name": "ipython",
    "version": 3
   },
   "file_extension": ".py",
   "mimetype": "text/x-python",
   "name": "python",
   "nbconvert_exporter": "python",
   "pygments_lexer": "ipython3",
   "version": "3.8.10"
  }
 },
 "nbformat": 4,
 "nbformat_minor": 5
}

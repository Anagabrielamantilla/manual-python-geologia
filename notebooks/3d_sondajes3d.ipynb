{
 "cells": [
  {
   "cell_type": "markdown",
   "id": "ac0cd5ce-73fd-4197-b14d-b6a9737ff10f",
   "metadata": {
    "tags": []
   },
   "source": [
    "# <span style=\"color:gold\">**Visualización de sondajes en 3D**</span>\n",
    "***\n",
    "\n",
    "### **Editado por: Kevin Alexander Gómez**\n",
    "#### Contacto: kevinalexandr19@gmail.com | [Linkedin](https://www.linkedin.com/in/kevin-alexander-g%C3%B3mez-2b0263111/) | [Github](https://github.com/kevinalexandr19)\n",
    "***"
   ]
  },
  {
   "cell_type": "markdown",
   "id": "3f2c53c4-aba2-4257-bcc8-329f5667d8db",
   "metadata": {
    "tags": []
   },
   "source": [
    "### **Descripción**\n",
    "\n",
    "En este tutorial, le daremos un vistazo a un ejemplo de visualización de sondajes en 3D usando <span style=\"color:gold\">Plotly</span>.\n",
    "\n",
    "Este Notebook es parte del proyecto [**Python para Geólogos**](https://github.com/kevinalexandr19/manual-python-geologia), y ha sido creado con la finalidad de facilitar el aprendizaje en Python para estudiantes y profesionales en el campo de la Geología.\n",
    "***"
   ]
  },
  {
   "cell_type": "markdown",
   "id": "71e63ff9-7c7d-4e68-b5cf-9939ab57ae1a",
   "metadata": {},
   "source": [
    "Empezaremos importando `pandas` para cargar los archivos `collar.csv`, `survey.csv` y `lith.csv`, que contienen la información necesaria para graficar los sondajes.\\\n",
    "También importaremos la función `DrillData` del módulo `sondaje3d`.\n",
    "> Nota: agregaremos `files.` delante de `sondaje3d` debido a que el módulo se encuentra dentro de la carpeta `files`."
   ]
  },
  {
   "cell_type": "code",
   "execution_count": null,
   "id": "a656861c-a6c5-44d3-a7d9-5c7f2b3da0e6",
   "metadata": {},
   "outputs": [],
   "source": [
    "import pandas as pd\n",
    "from files.sondaje3d import DrillData"
   ]
  },
  {
   "cell_type": "markdown",
   "id": "8706e1c8-5373-445c-8a1e-9187bae2de55",
   "metadata": {},
   "source": [
    "Cargamos los archivos usando la función `read_csv`:"
   ]
  },
  {
   "cell_type": "code",
   "execution_count": null,
   "id": "600e2542-9ddf-4d69-bd23-252b7ae94c8d",
   "metadata": {},
   "outputs": [],
   "source": [
    "collar = pd.read_csv(\"files/collar.csv\") # Collar\n",
    "survey = pd.read_csv(\"files/survey.csv\") # Survey\n",
    "table = pd.read_csv(\"files/lith.csv\") # Litología"
   ]
  },
  {
   "cell_type": "markdown",
   "id": "c313d5d6-73ee-4146-ac8d-2b7c898f77aa",
   "metadata": {},
   "source": [
    "La función `DrillData` crea un objeto que almacena la información necesaria para realizar la visualización en 3D de los sondajes:\n",
    "- `collar` es el parámetro que referencia al archivo `collar` de los sondajes.\n",
    "- `survey` es el parámetro que referencia al archivo `survey` de los sondajes.\n",
    "- `table` es el parámetro que referencia la información geológica de los sondajes.\n",
    "- `table_name` es el nombre arbitrario que le colocaremos a nuestra información geológica (e.g. `Leyes`, `Litología`, etc.)\n",
    "\n",
    "> Nota: Por el momento, el módulo `sondaje3d` solo puede plotear valores categóricos.\n",
    "\n",
    "Asignamos la información a la variable `data` y la tabla con información geológica tendrá por nombre `Litología`."
   ]
  },
  {
   "cell_type": "code",
   "execution_count": null,
   "id": "c95dc8ad-b134-430e-a97c-12929d42e93f",
   "metadata": {},
   "outputs": [],
   "source": [
    "data = DrillData(collar=collar,\n",
    "                 survey=survey,\n",
    "                 table=table,\n",
    "                 table_name=\"Litología\")"
   ]
  },
  {
   "cell_type": "markdown",
   "id": "ed96561c-bf0e-45c9-94cd-8afb154f0e54",
   "metadata": {},
   "source": [
    "Ahora, procedemos a validar los datos usando el método `validate`.\\\n",
    "Este método empieza revisando que el nombre de las columnas en cada tabla sea el correcto.\n",
    "> Para `collar` las columnas deben tener los nombres: `ID`, `X`, `Y`, `Z`.\\\n",
    "> Para `survey` las columnas deben tener los nombres: `ID`, `AT`, `AZ`, `DIP`.\\\n",
    "> Para `table` las columnas deben tener los nombres: `ID`, `FROM`, `TO`, y cualquier otra columna con valores categóricos.\n",
    "\n",
    "También revisa que los tipos de datos en cada columna sea el correcto.\n",
    "> La columna `ID` debe contener datos de tipo `object`.\\\n",
    "> Las columnas `X`, `Y`, `Z`, `AT`, `AZ`, `DIP`, `FROM` y `TO` deben contener datos de tipo `float64`.\n",
    "\n",
    "Si la información no es validada, no podremos realizar la visualización de los sondajes en 3D."
   ]
  },
  {
   "cell_type": "code",
   "execution_count": null,
   "id": "d0231116-5268-457e-9dbe-f8f0c59a6c18",
   "metadata": {},
   "outputs": [],
   "source": [
    "data.validate()"
   ]
  },
  {
   "cell_type": "markdown",
   "id": "cfca102c-e982-4a59-82cf-70a287476723",
   "metadata": {},
   "source": [
    "Una vez validados los sondajes, usaremos el método `get_points` para generar el input que utilizaremos en la visualización 3D:\n",
    "> El nombre de la columna con los valores categóricos se llama `ROCK`."
   ]
  },
  {
   "cell_type": "code",
   "execution_count": null,
   "id": "9561438b-c6f9-4455-8935-0fac0f0ef13a",
   "metadata": {},
   "outputs": [],
   "source": [
    "data.get_points(\"ROCK\")"
   ]
  },
  {
   "cell_type": "markdown",
   "id": "4c6494f0-46e8-4733-b09c-a7cc53edf700",
   "metadata": {},
   "source": [
    "Luego de generar el input, usaremos el método `plot_3d` para visualizar los sondajes en 3D:\n",
    "> Clic izquierdo para girar la vista en 3D.\\\n",
    "> Shift + click derecho para mover la posición de la vista en 3D."
   ]
  },
  {
   "cell_type": "code",
   "execution_count": null,
   "id": "40f6475c-071b-4ca3-a63b-3aa20afc3ddc",
   "metadata": {},
   "outputs": [],
   "source": [
    "data.plot_3d()"
   ]
  },
  {
   "cell_type": "markdown",
   "id": "9c1dafeb-dbb9-4903-bb58-396da6883f23",
   "metadata": {},
   "source": [
    "***"
   ]
  }
 ],
 "metadata": {
  "kernelspec": {
   "display_name": "Python 3 (ipykernel)",
   "language": "python",
   "name": "python3"
  },
  "language_info": {
   "codemirror_mode": {
    "name": "ipython",
    "version": 3
   },
   "file_extension": ".py",
   "mimetype": "text/x-python",
   "name": "python",
   "nbconvert_exporter": "python",
   "pygments_lexer": "ipython3",
   "version": "3.8.10"
  }
 },
 "nbformat": 4,
 "nbformat_minor": 5
}

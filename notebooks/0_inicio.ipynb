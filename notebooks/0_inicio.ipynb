{
 "cells": [
  {
   "cell_type": "markdown",
   "id": "88d1867c-0e40-44ba-905a-ee94950f9fd2",
   "metadata": {
    "deletable": false,
    "editable": false
   },
   "source": [
    "# Bienvenido al Manual de Python aplicado a la Geología!!!\n",
    "\n",
    "### **Versión: 1.5 (Marzo 2022)**\n",
    "### Editado por: Kevin Alexander Gómez\n",
    "\n",
    "***\n",
    "Este manual ha sido creado con la finalidad de facilitar el aprendizaje en Python para estudiantes y profesionales en el campo de la Geología.\n",
    "\n",
    "Desarrollando un pensamiento algorítmico, aprenderás a usar código en Python para la solución de problemas en Geología.\n",
    "\n",
    "\n",
    "***\n",
    "### Para ejecutar un bloque de código, presiona las teclas `Shift + Enter`:"
   ]
  },
  {
   "cell_type": "code",
   "execution_count": null,
   "id": "61a2d059-c9ee-4e2b-92bd-e2e321dc1650",
   "metadata": {
    "deletable": false,
    "editable": false
   },
   "outputs": [],
   "source": [
    "2 + 2"
   ]
  },
  {
   "cell_type": "code",
   "execution_count": null,
   "id": "b8382707-542c-4485-88f0-ecbdffbf18e7",
   "metadata": {
    "deletable": false,
    "editable": false
   },
   "outputs": [],
   "source": [
    "5 * 5"
   ]
  },
  {
   "cell_type": "code",
   "execution_count": null,
   "id": "9a52b750-6ff4-449f-a955-5f4e81ae8549",
   "metadata": {
    "deletable": false,
    "editable": false
   },
   "outputs": [],
   "source": [
    "print(\"Hola Python!!!\")"
   ]
  },
  {
   "cell_type": "markdown",
   "id": "9fc6c43e-4d96-4d8f-951d-cd0d238112f4",
   "metadata": {
    "deletable": false,
    "editable": false
   },
   "source": [
    "***\n",
    "## **Índice (elige un tema para aprender)**\n",
    "Todos los capítulos están disponibles dentro del repositorio como notebooks de Jupyter `.ipynb`.\n",
    "\n",
    "**Nota:** si estás dentro de Binder, no olvides cerrar cada notebook con la opción `Shut Down Kernel` para ahorrar la memoria del servidor dentro la nube.\n",
    "\n",
    "1. Fundamentos de Python\\\n",
    "  [1a. Python básico](1a_python_basico.ipynb)\\\n",
    "  [1b. Ejercicios de Python en Geología](1b_ejercicios.ipynb)\\\n",
    "  [1c. Ejercicios resueltos de Python en Geología](1c_solucionario.ipynb)\n",
    "2. Librerías fundamentales de Python\\\n",
    "  [2a. Numpy](2a_numpy.ipynb)\\\n",
    "  [2b. Pandas](2b_pandas.ipynb)\\\n",
    "  [2c. Matplotlib](2c_matplotlib.ipynb)\n",
    "3. Librerías con aplicación en Geología\\\n",
    "  [3a. Seaborn](3a_seaborn.ipynb)\\\n",
    "  [3b. Pyrolite](3b_pyrolite.ipynb)\\\n",
    "  [3c. Mplstereonet](3c_mplstereonet.ipynb)\n",
    "4. Ciencia de datos\\\n",
    "  [4a. Análisis descriptivo](4a_analisis_descriptivo.ipynb)\\\n",
    "  [4b. Visualización de datos](4b_visualizacion_datos.ipynb)\n",
    "5. Aplicaciones en Geología\\\n",
    "  [5a. Visualizando registros de pozo](5a_registro_pozos.ipynb)\n",
    "\n",
    "\n",
    "***\n",
    "### Referencias\n",
    "- Maurizio Petrelli (2021). [Introduction to Python in Earth Science Data Analysis](https://link.springer.com/book/10.1007/978-3-030-78055-5). Repositorio en [Github](https://github.com/petrelli-m/python_earth_science_book)\n",
    "- Barbieri, R., Garelik, C. (2022). [La matemática y las geociencias](https://editorial.unrn.edu.ar/index.php/catalogo/346/view_bl/62/lecturas-de-catedra/106/la-matematica-y-las-geociencias?tab=getmybooksTab&is_show_data=1). Editorial UNRN (pp. 15 y 136)."
   ]
  }
 ],
 "metadata": {
  "jupytext": {
   "formats": "ipynb,md"
  },
  "kernelspec": {
   "display_name": "Python 3 (ipykernel)",
   "language": "python",
   "name": "python3"
  },
  "language_info": {
   "codemirror_mode": {
    "name": "ipython",
    "version": 3
   },
   "file_extension": ".py",
   "mimetype": "text/x-python",
   "name": "python",
   "nbconvert_exporter": "python",
   "pygments_lexer": "ipython3",
   "version": "3.8.10"
  }
 },
 "nbformat": 4,
 "nbformat_minor": 5
}

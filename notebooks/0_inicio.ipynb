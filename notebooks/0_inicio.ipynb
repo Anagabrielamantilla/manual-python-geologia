{
 "cells": [
  {
   "cell_type": "markdown",
   "id": "88d1867c-0e40-44ba-905a-ee94950f9fd2",
   "metadata": {
    "deletable": false,
    "editable": false
   },
   "source": [
    "# Bienvenido al Manual de Python aplicado a la Geología!!!\n",
    "\n",
    "### **Versión: 1.4 (Febrero 2022)**\n",
    "### Editado por: Kevin Alexander Gómez\n",
    "\n",
    "***\n",
    "Este manual ha sido creado con la finalidad de facilitar el aprendizaje en Python para estudiantes y profesionales en el campo de la Geología.\n",
    "\n",
    "Desarrollando un pensamiento algorítmico, aprenderás a usar código en Python para la solución de problemas en Geología.\n",
    "\n",
    "\n",
    "***\n",
    "## **Índice (elige un tema para aprender)**\n",
    "Todos los capítulos están disponibles dentro del repositorio como notebooks de Jupyter `.ipynb`.\n",
    "\n",
    "**Nota:** si estás dentro de Binder, no olvides cerrar cada notebook con la opción `Shut Down Kernel` para ahorrar la memoria del servidor dentro la nube.\n",
    "\n",
    "1. Fundamentos de Python\\\n",
    "  [1a. Python básico](1a_python_basico.ipynb)\\\n",
    "  [1b. Ejercicios de Python en Geología](1b_ejercicios.ipynb)\n",
    "2. Librerías fundamentales de Python\\\n",
    "  [2a. Numpy](2a_numpy.ipynb)\\\n",
    "  [2b. Pandas](2b_pandas.ipynb)\\\n",
    "  [2c. Matplotlib](2c_matplotlib.ipynb)\n",
    "3. Librerías con aplicación en Geología\\\n",
    "  [3a. Seaborn](3a_seaborn.ipynb)\\\n",
    "  [3b. Pyrolite](3b_pyrolite.ipynb)\\\n",
    "  [3c. Mplstereonet](3c_mplstereonet.ipynb)\n",
    "4. Ciencia de datos\\\n",
    "  [4a. Análisis descriptivo](4a_analisis_descriptivo.ipynb)\\\n",
    "  [4b. Visualización de datos](4b_visualizacion_datos.ipynb)\n",
    "5. Aplicaciones en Geología\\\n",
    "  [5a. Visualizando registros de pozo](5a_registro_pozos.ipynb)\n",
    "\n",
    "\n",
    "***\n",
    "### Referencias\n",
    "- Maurizio Petrelli (2021). [Introduction to Python in Earth Science Data Analysis](https://link.springer.com/book/10.1007/978-3-030-78055-5). Repositorio en [Github](https://github.com/petrelli-m/python_earth_science_book)"
   ]
  }
 ],
 "metadata": {
  "jupytext": {
   "formats": "ipynb,md"
  },
  "kernelspec": {
   "display_name": "Python 3 (ipykernel)",
   "language": "python",
   "name": "python3"
  },
  "language_info": {
   "codemirror_mode": {
    "name": "ipython",
    "version": 3
   },
   "file_extension": ".py",
   "mimetype": "text/x-python",
   "name": "python",
   "nbconvert_exporter": "python",
   "pygments_lexer": "ipython3",
   "version": "3.8.10"
  }
 },
 "nbformat": 4,
 "nbformat_minor": 5
}

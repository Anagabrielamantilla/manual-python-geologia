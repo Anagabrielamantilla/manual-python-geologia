{
 "cells": [
  {
   "cell_type": "markdown",
   "id": "88d1867c-0e40-44ba-905a-ee94950f9fd2",
   "metadata": {
    "deletable": true,
    "editable": true
   },
   "source": [
    "# <span style=\"color:gold\">Bienvenido a Python para Geólogos!!!</span>\n",
    "\n",
    "### <span style=\"color:lightgreen\">**Versión: 1.7 (Mayo 2022)**</span>\n",
    "### Editado por: Kevin Alexander Gómez\n",
    "\n",
    "***\n",
    "Este proyecto fue creado con la finalidad de <span style=\"color:lightgreen\">facilitar el aprendizaje</span> en Python para estudiantes y profesionales en el campo de la Geología.\n",
    "\n",
    "Desarrollando un <span style=\"color:lightgreen\">pensamiento algorítmico</span>, aprenderás a usar código en Python para la solución de problemas en Geología.\n",
    "\n",
    "\n",
    "***\n",
    "### Para ejecutar un bloque de código, presiona las teclas `Shift + Enter`:"
   ]
  },
  {
   "cell_type": "code",
   "execution_count": null,
   "id": "61a2d059-c9ee-4e2b-92bd-e2e321dc1650",
   "metadata": {},
   "outputs": [],
   "source": [
    "2 + 2"
   ]
  },
  {
   "cell_type": "code",
   "execution_count": null,
   "id": "b8382707-542c-4485-88f0-ecbdffbf18e7",
   "metadata": {},
   "outputs": [],
   "source": [
    "5 * 5"
   ]
  },
  {
   "cell_type": "code",
   "execution_count": null,
   "id": "9a52b750-6ff4-449f-a955-5f4e81ae8549",
   "metadata": {},
   "outputs": [],
   "source": [
    "print(\"Hola Python!!!\")"
   ]
  },
  {
   "cell_type": "markdown",
   "id": "9fc6c43e-4d96-4d8f-951d-cd0d238112f4",
   "metadata": {
    "editable": true
   },
   "source": [
    "***\n",
    "## <span style=\"color:gold\">**Índice (elige un tema para aprender)**</span>\n",
    "Todos los capítulos están disponibles dentro del repositorio como notebooks de Jupyter `.ipynb`.\n",
    "\n",
    "**Nota:** si estás dentro de Binder, no olvides cerrar cada notebook con la opción `Shut Down Kernel` para ahorrar la memoria del servidor dentro la nube.\n",
    "\n",
    "1. Fundamentos de Python\\\n",
    "  [1a. Python básico](1a_python_basico.ipynb)\\\n",
    "  [1b. Numpy](1b_numpy.ipynb)\\\n",
    "  [1c. Pandas](1c_pandas.ipynb)\\\n",
    "  [1d. Matplotlib](1d_matplotlib.ipynb)\\\n",
    "  [1e. Ejercicios de Python en Geología](1e_ejercicios.ipynb)\\\n",
    "  [1f. Ejercicios resueltos de Python en Geología](1f_solucionario.ipynb)\n",
    "2. Estadística\\\n",
    "  [2a. Bootstrap](2a_bootstrap.ipynb)\n",
    "3. Ciencia de datos\\\n",
    "  [3a. Seaborn](3a_seaborn.ipynb)\\\n",
    "  [3b. Análisis descriptivo](3b_analisis_descriptivo.ipynb)\\\n",
    "  [3c. Visualización de datos](3c_visualizacion_datos.ipynb)\n",
    "4. Geoestadística\\\n",
    "  [4a. Declustering](4a_declustering.ipynb)\\\n",
    "  [4b. Variograma](4b_variograma.ipynb)\n",
    "5. Geoquímica\\\n",
    "  [5a. Pyrolite](5a_pyrolite.ipynb)\n",
    "6. Geofísica\\\n",
    "  [6a. Visualizando registros de pozo](6a_registro_pozos.ipynb)\n",
    "7. Geología estructural\\\n",
    "  [7a. Mplstereonet](7a_mplstereonet.ipynb)\\\n",
    "  [7b. Red estereográfica interactiva](7b_stereonet.ipynb)\n",
    "8. Geotecnia\\\n",
    "  [8a. Estimación de la probabilidad de falla en un talud](8a_simulacion_montecarlo.ipynb)\n",
    "\n",
    "\n",
    "\n",
    "***\n",
    "### <span style=\"color:gold\">Referencias</span>\n",
    "- Maurizio Petrelli (2021). [Introduction to Python in Earth Science Data Analysis](https://link.springer.com/book/10.1007/978-3-030-78055-5). Repositorio en [Github](https://github.com/petrelli-m/python_earth_science_book)\n",
    "- Barbieri, R., Garelik, C. (2022). [La matemática y las geociencias](https://editorial.unrn.edu.ar/index.php/catalogo/346/view_bl/62/lecturas-de-catedra/106/la-matematica-y-las-geociencias?tab=getmybooksTab&is_show_data=1). Editorial UNRN (pp. 15 y 136).\n",
    "- Marsden, Eric. (2021). [Monte Carlo simulation for estimating slope failure risk](https://risk-engineering.org/notebook/monte-carlo-slope-stability.html).\n",
    "- Pyrcz, M. (2020). [Python Numerical Demos](https://github.com/GeostatsGuy/PythonNumericalDemos)."
   ]
  },
  {
   "cell_type": "markdown",
   "id": "5b4ca469-6fbc-4e71-9741-676e56afdfdb",
   "metadata": {},
   "source": [
    "***"
   ]
  }
 ],
 "metadata": {
  "jupytext": {
   "formats": "ipynb,md"
  },
  "kernelspec": {
   "display_name": "Python 3 (ipykernel)",
   "language": "python",
   "name": "python3"
  },
  "language_info": {
   "codemirror_mode": {
    "name": "ipython",
    "version": 3
   },
   "file_extension": ".py",
   "mimetype": "text/x-python",
   "name": "python",
   "nbconvert_exporter": "python",
   "pygments_lexer": "ipython3",
   "version": "3.8.10"
  }
 },
 "nbformat": 4,
 "nbformat_minor": 5
}

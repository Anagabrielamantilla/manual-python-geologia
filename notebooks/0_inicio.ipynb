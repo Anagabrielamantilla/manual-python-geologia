{
 "cells": [
  {
   "cell_type": "markdown",
   "id": "88d1867c-0e40-44ba-905a-ee94950f9fd2",
   "metadata": {
    "deletable": false,
    "editable": false
   },
   "source": [
    "# <span style=\"color:gold\">Bienvenido a Python para Geólogos!!!</span>\n",
    "\n",
    "### <span style=\"color:lightgreen\">**Versión: 1.9 (Noviembre 2022)**</span>\n",
    "### Editado por: Kevin Alexander Gómez\n",
    "\n",
    "***\n",
    "Este proyecto fue creado con la finalidad de <span style=\"color:lightgreen\">facilitar el aprendizaje</span> en Python para estudiantes y profesionales en el campo de la Geología.\n",
    "\n",
    "Desarrollando un <span style=\"color:lightgreen\">pensamiento algorítmico</span>, aprenderás a usar código en Python para la solución de problemas en Geología.\n",
    "\n",
    "\n",
    "***\n",
    "### Para ejecutar un bloque de código, presiona las teclas `Shift + Enter`:"
   ]
  },
  {
   "cell_type": "code",
   "execution_count": null,
   "id": "61a2d059-c9ee-4e2b-92bd-e2e321dc1650",
   "metadata": {
    "deletable": false,
    "editable": false
   },
   "outputs": [],
   "source": [
    "2 + 2"
   ]
  },
  {
   "cell_type": "code",
   "execution_count": null,
   "id": "b8382707-542c-4485-88f0-ecbdffbf18e7",
   "metadata": {
    "deletable": false,
    "editable": false
   },
   "outputs": [],
   "source": [
    "5 * 5"
   ]
  },
  {
   "cell_type": "code",
   "execution_count": null,
   "id": "9a52b750-6ff4-449f-a955-5f4e81ae8549",
   "metadata": {
    "deletable": false,
    "editable": false
   },
   "outputs": [],
   "source": [
    "print(\"Hola Python!!!\")"
   ]
  },
  {
   "cell_type": "markdown",
   "id": "9fc6c43e-4d96-4d8f-951d-cd0d238112f4",
   "metadata": {
    "deletable": false,
    "editable": false
   },
   "source": [
    "***\n",
    "## <span style=\"color:gold\">**Índice (elige un tema para aprender)**</span>\n",
    "Todos los capítulos están disponibles dentro del repositorio como notebooks de Jupyter `.ipynb`.\n",
    "\n",
    "**Nota:** si estás dentro de Binder, no olvides cerrar cada notebook con la opción `Shut Down Kernel` para ahorrar la memoria del servidor dentro la nube.\n",
    "\n",
    "1. Fundamentos de Python\\\n",
    "  [1a. Python básico](1a_python_basico.ipynb)\\\n",
    "  [1b. Numpy](1b_numpy.ipynb)\\\n",
    "  [1c. Pandas](1c_pandas.ipynb)\\\n",
    "  [1d. Matplotlib](1d_matplotlib.ipynb)\\\n",
    "  [1e. Ejercicios de Python en Geología](1e_ejercicios.ipynb)\\\n",
    "  [1f. Ejercicios resueltos de Python en Geología](1f_solucionario.ipynb)\n",
    "2. Estadística y Visualización de datos\\\n",
    "  [2a. Bootstrap](2a_bootstrap.ipynb)\\\n",
    "  [2b. Análisis descriptivo](2b_analisis_descriptivo.ipynb)\\\n",
    "  [2c. Ejemplos de visualización de datos](2c_visualizacion_datos.ipynb)\\\n",
    "  [2d. Visualización de sondajes en 3D](2d_sondajes3d.ipynb)\\\n",
    "  [2e. Visualización de un modelo de bloques en 3D](2e_bloques3d.ipynb)\n",
    "3. Ciencia de datos y Machine Learning\\\n",
    "  [3a. Seaborn](3a_seaborn.ipynb)\\\n",
    "  [3b. Agregando interactividad dentro de Python](3b_ipywidgets.ipynb)\\\n",
    "  [3c. Árboles de decisión](3c_decisiontree.ipynb)\n",
    "4. Geoestadística\\\n",
    "  [4a. Introducción al Variograma](4a_variograma.ipynb)\\\n",
    "  [4b. Variograma 1D](4b_variograma1d.ipynb)\\\n",
    "  [4c. Declustering](4c_declustering.ipynb)\\\n",
    "  [4d. Interpolación 2D - Inverso de la distancia](4d_idw.ipynb)\n",
    "5. Análisis geoespacial\\\n",
    "  [5a. Shapely](5a_shapely.ipynb)\\\n",
    "  [5b. Geopandas](5b_geopandas.ipynb)\\\n",
    "  [5c. Rioxarray](5c_rioxarray.ipynb)\\\n",
    "  [5d. Leafmap](5c_leafmap.ipynb)\n",
    "6. Geoquímica\\\n",
    "  [6a. Pyrolite](6a_pyrolite.ipynb)\n",
    "7. Geofísica\\\n",
    "  [7a. Visualizando registros de pozo](7a_registro_pozos.ipynb)\n",
    "8. Geología estructural\\\n",
    "  [8a. Mplstereonet](8a_mplstereonet.ipynb)\\\n",
    "  [8b. Red estereográfica interactiva](8b_stereonet.ipynb)\n",
    "9. Geotecnia\\\n",
    "  [9a. Estimación de la probabilidad de fallo en un talud](9a_simulacion_montecarlo.ipynb)\n",
    "\n",
    "\n",
    "\n",
    "### <span style=\"color:gold\">Plantillas de trabajo</span>\n",
    "- [Plantilla para visualizar sondajes en 3D](plantilla_sondaje3d.ipynb)\n",
    "\n",
    "\n",
    "***\n",
    "### <span style=\"color:gold\">Referencias</span>\n",
    "- Barbieri, R., Garelik, C. (2022). [La matemática y las geociencias](https://editorial.unrn.edu.ar/index.php/catalogo/346/view_bl/62/lecturas-de-catedra/106/la-matematica-y-las-geociencias?tab=getmybooksTab&is_show_data=1). Editorial UNRN (pp. 15 y 136).\n",
    "- Mälicke, M. (2022). [SciKit-GStat 1.0: a SciPy-flavored geostatistical variogram estimation toolbox written in Python](https://gmd.copernicus.org/articles/15/2505/2022). European Geosciences Union, Volume 15, issue 6. Institute for Water and River Basin Management, Karlsruhe Institute of Technology (KIT), Karlsruhe, Germany.\n",
    "- Marsden, Eric. (2021). [Monte Carlo simulation for estimating slope failure risk](https://risk-engineering.org/notebook/monte-carlo-slope-stability.html).\n",
    "- Petrelli, M. (2021). [Introduction to Python in Earth Science Data Analysis](https://link.springer.com/book/10.1007/978-3-030-78055-5). Repositorio en [Github](https://github.com/petrelli-m/python_earth_science_book)\n",
    "- Pyrcz, M. (2020). [Python Numerical Demos](https://github.com/GeostatsGuy/PythonNumericalDemos).\n",
    "- Suarez-Burgoa, L. (2017). [Matematización de la geología](https://www.researchgate.net/publication/313464003_Matematizacion_de_la_geologia). Boletín de Ciencias de la Tierra 41 (pp. 30 - 38). Universidad Nacional de Colombia."
   ]
  },
  {
   "cell_type": "markdown",
   "id": "5b4ca469-6fbc-4e71-9741-676e56afdfdb",
   "metadata": {
    "deletable": false,
    "editable": false
   },
   "source": [
    "***"
   ]
  }
 ],
 "metadata": {
  "jupytext": {
   "formats": "ipynb,md"
  },
  "kernelspec": {
   "display_name": "Python 3 (ipykernel)",
   "language": "python",
   "name": "python3"
  },
  "language_info": {
   "codemirror_mode": {
    "name": "ipython",
    "version": 3
   },
   "file_extension": ".py",
   "mimetype": "text/x-python",
   "name": "python",
   "nbconvert_exporter": "python",
   "pygments_lexer": "ipython3",
   "version": "3.8.10"
  }
 },
 "nbformat": 4,
 "nbformat_minor": 5
}

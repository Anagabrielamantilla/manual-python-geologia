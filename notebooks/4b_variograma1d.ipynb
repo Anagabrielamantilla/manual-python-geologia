{
 "cells": [
  {
   "cell_type": "markdown",
   "id": "102e097d-b47c-49f8-bfd4-ec87d5ef35a9",
   "metadata": {},
   "source": [
    "# <span style=\"color:gold\">**Variograma 1D**</span>\n",
    "***\n",
    "\n",
    "### **Editado por: Kevin Alexander Gómez**\n",
    "#### Contacto: kevinalexandr19@gmail.com | [Linkedin](https://www.linkedin.com/in/kevin-alexander-g%C3%B3mez-2b0263111/) | [Github](https://github.com/kevinalexandr19)\n",
    "\n",
    "Este tutorial está basado en el trabajo de [Michael Pyrcz](https://github.com/GeostatsGuy/PythonNumericalDemos).\n",
    "***"
   ]
  },
  {
   "cell_type": "markdown",
   "id": "eca1e294-e18b-4ef0-9682-e340fd6c3a84",
   "metadata": {},
   "source": [
    "### **Descripción**\n",
    "\n",
    "En este tutorial, utilizaremos el módulo `gamma` para modelar un variograma 1D.\n",
    "\n",
    "Este Notebook es parte del proyecto [**Python para Geólogos**](https://github.com/kevinalexandr19/manual-python-geologia), y ha sido creado con la finalidad de facilitar el aprendizaje en Python para estudiantes y profesionales en el campo de la Geología.\n",
    "\n",
    "***"
   ]
  },
  {
   "cell_type": "markdown",
   "id": "f4b29df6-77de-4a9e-bd99-0199b9a9e616",
   "metadata": {},
   "source": [
    "## **1. Procesamiento de datos**\n",
    "Empezamos importando `pandas` para cargar el archivo `assay.csv`.\\\n",
    "Seleccionaremos las leyes y coordenadas de uno de los taladros para modelar el variograma 1D.\n",
    "> La librería `gamma` contiene funciones para geoestadística. Actualmente se ubica en la carpeta `files`.\\\n",
    "> **Nota:** por el momento, solo se pueden trabajar con variogramas 1D.\\\n",
    "> En una versión posterior se habilitará la posiblidad de usar variogramas 2D y 3D."
   ]
  },
  {
   "cell_type": "code",
   "execution_count": null,
   "id": "fc5b26cc-c79d-46f5-95db-40325c9ab9bf",
   "metadata": {},
   "outputs": [],
   "source": [
    "import pandas as pd\n",
    "import numpy as np\n",
    "import files.gamma as gam"
   ]
  },
  {
   "cell_type": "code",
   "execution_count": null,
   "id": "036e6290-6015-45ae-ac31-01094ae79202",
   "metadata": {},
   "outputs": [],
   "source": [
    "data = pd.read_csv(\"files/assay.csv\")[[\"ID\", \"FROM\", \"TO\", \"CU_pct\"]]\n",
    "data = data[data[\"ID\"] == \"DH010\"].drop(columns=[\"ID\"]).reset_index()"
   ]
  },
  {
   "cell_type": "markdown",
   "id": "fd8503c6-fdbd-4bb0-846b-859275c16a15",
   "metadata": {},
   "source": [
    "Para crear la columna de coordenadas, calcularemos el centroide para cada tramo del sondaje:"
   ]
  },
  {
   "cell_type": "code",
   "execution_count": null,
   "id": "959e6b3c-0668-413a-9327-94954dbbc961",
   "metadata": {},
   "outputs": [],
   "source": [
    "data[\"coords\"] = (data[\"FROM\"] + data[\"TO\"]) / 2"
   ]
  },
  {
   "cell_type": "markdown",
   "id": "3fe89f24-4bf1-42b8-939e-ff70deb831f6",
   "metadata": {},
   "source": [
    "Ahora, seleccionamos los valores y coordenadas y los almacenaremos en las variables `values` y `coords`:"
   ]
  },
  {
   "cell_type": "code",
   "execution_count": null,
   "id": "3aa5bcc4-4acb-44cb-ace4-a40f9fa910bb",
   "metadata": {},
   "outputs": [],
   "source": [
    "values = data[\"CU_pct\"].values\n",
    "coords = data[\"coords\"].values"
   ]
  },
  {
   "cell_type": "markdown",
   "id": "2b108805-7051-4c99-bcf1-bf739ce7475e",
   "metadata": {},
   "source": [
    "## **2. Creación del variograma**\n",
    "\n",
    "Usaremos la función `Variogram` para crear el objeto que representará el variograma dentro de Python.\\\n",
    "Asignaremos el variograma a la variable `var1d`:"
   ]
  },
  {
   "cell_type": "code",
   "execution_count": null,
   "id": "44130717-fb7f-4193-b8e5-86e273f928f0",
   "metadata": {},
   "outputs": [],
   "source": [
    "var1d = gam.Variogram(values=values, coords=coords)"
   ]
  },
  {
   "cell_type": "markdown",
   "id": "56b69a90-3e9a-41d1-818f-b42bc9f4d44c",
   "metadata": {},
   "source": [
    "## **3. Intervalos de espaciamiento (Binning)**\n",
    "\n",
    "Las posiciones de las muestras no siempre son exactas, o están distribuidas a distancias exactas.\\\n",
    "Existe por lo tanto, una necesidad de agrupar las muestras de acuerdo al espaciamiento que tienen entre sí (**lag classes**).\n",
    "\n",
    "El objetivo de esta parte es el de ajustar el intervalo de espaciamiento entre muestras, con la finalidad de facilitar y asegurar que el modelamiento del variograma sea correcto.\n",
    "> **Nota:** La función de ajuste personalizado del intervalo de espaciamiento sigue en desarrollo.\n",
    "\n",
    "Para esto, usaremos el método `binning`, que generará un agrupamiento de los espaciamientos y también podremos visualizarlo de manera interactiva:\n",
    "> El gráfico inferior coloca todas las distancias de separación entre muestras a lo largo de una recta numérica.\\\n",
    "> Es posible distinguir agrupamientos (clusters) a lo largo de dicha recta.\\\n",
    "> Desliza el valor `h0` para cambiar el intervalo de espaciamiento entre muestras."
   ]
  },
  {
   "cell_type": "code",
   "execution_count": null,
   "id": "79030fb7-c87c-4a40-834b-1172666d4694",
   "metadata": {},
   "outputs": [],
   "source": [
    "var1d.binning()"
   ]
  },
  {
   "cell_type": "markdown",
   "id": "3e29960e-c837-40de-834b-abd9fc24e807",
   "metadata": {},
   "source": [
    "Notamos que el intervalo de espaciamiento mínimo entre muestras es de **2 metros**."
   ]
  },
  {
   "cell_type": "markdown",
   "id": "5f747b8f-adab-4438-8679-cec94b1c2be6",
   "metadata": {},
   "source": [
    "## **4. Ajuste del variograma (Fitting)**\n",
    "\n",
    "Una vez hemos seleccionado un intervalo de espaciamiento adecuado, podemos graficar el **variograma experimental** y usarlo para ajustar un modelo de variograma que puede ser lineal, exponencial, esférico o gaussiano.\n",
    "\n",
    "Usaremos el método `fitting` para generar los datos de ajuste de cada tipo de modelo y, a través de una visualización interactiva, podemos elegir aquel modelo que se ajuste mejor al variograma experimental:\n",
    "> **Nota:** El ajuste del modelo aún no tiene en cuenta la ponderación por número de pares en el variograma experimental.\\\n",
    "> Esta funcionalidad aún se encuentra en desarrollo, y será agregada en una versión posterior.\n",
    "\n",
    "Desliza el valor `n_points` para cambiar el número de puntos de ajuste, y `model` para elegir el modelo."
   ]
  },
  {
   "cell_type": "code",
   "execution_count": null,
   "id": "57ca16a1-5831-4189-8c01-5e23aabc56f1",
   "metadata": {},
   "outputs": [],
   "source": [
    "var1d.fitting()"
   ]
  },
  {
   "cell_type": "markdown",
   "id": "57f192b7-99fa-491c-b8e7-aa18925f4f6d",
   "metadata": {},
   "source": [
    "Podemos notar que el mejor ajuste se produce con el modelo **esférico** y usando 88 puntos."
   ]
  },
  {
   "cell_type": "markdown",
   "id": "54cf8799-1fcf-4d42-886c-e2bf8679ab1e",
   "metadata": {},
   "source": [
    "***"
   ]
  }
 ],
 "metadata": {
  "kernelspec": {
   "display_name": "Python 3 (ipykernel)",
   "language": "python",
   "name": "python3"
  },
  "language_info": {
   "codemirror_mode": {
    "name": "ipython",
    "version": 3
   },
   "file_extension": ".py",
   "mimetype": "text/x-python",
   "name": "python",
   "nbconvert_exporter": "python",
   "pygments_lexer": "ipython3",
   "version": "3.8.10"
  }
 },
 "nbformat": 4,
 "nbformat_minor": 5
}

{
 "cells": [
  {
   "cell_type": "markdown",
   "id": "479d894d-8e47-44f4-87a9-316c3137aa09",
   "metadata": {},
   "source": [
    "# <span style=\"color:gold\">**Bootstrap**</span>\n",
    "***\n",
    "\n",
    "### **Editado por: Kevin Alexander Gómez**\n",
    "#### Contacto: kevinalexandr19@gmail.com | [Linkedin](https://www.linkedin.com/in/kevin-alexander-g%C3%B3mez-2b0263111/) | [Github](https://github.com/kevinalexandr19)\n",
    "Este tutorial está basado en el trabajo de [Michael Pyrcz](https://github.com/GeostatsGuy/PythonNumericalDemos).\n",
    "***"
   ]
  },
  {
   "cell_type": "markdown",
   "id": "90f9c483-60f2-45ed-803d-03ea9901ae0e",
   "metadata": {},
   "source": [
    "### **Descripción**\n",
    "\n",
    "En este tutorial, revisaremos el concepto de <span style=\"color:gold\">bootstrap</span> en estadística, usando la librería Numpy.\n",
    "\n",
    "Este Notebook es parte del proyecto [**Python para Geólogos**](https://github.com/kevinalexandr19/manual-python-geologia), y ha sido creado con la finalidad de facilitar el aprendizaje en Python para estudiantes y profesionales en el campo de la Geología.\n",
    "***"
   ]
  },
  {
   "cell_type": "markdown",
   "id": "70563011-14a8-4661-8604-010d7d1cd667",
   "metadata": {},
   "source": [
    "## **1. ¿Qué significa bootstrap?**\n",
    "***\n",
    "\n",
    "Si tenemos un conjuntos de datos, podemos realizar un <span style=\"color:gold\">remuestreo</span> o <span style=\"color:gold\">bootstrap</span> para obtener un nuevo conjunto de datos que será extraído de manera aleatoria y con reemplazo a partir del conjunto original.\n",
    "\n",
    "<img src=\"resources/bootstrap.jpeg\" alt=\"Las 4 fases en el análisis de datos\" width=\"800\"/>\n",
    "\n",
    "Este procedimiento estadístico permite simular las condiciones de muestreo original y calcular medidas como el error estándar, intervalos de confianza y pruebas de hipótesis.\\\n",
    "Es importante tener en cuenta que este método no incrementa la cantidad de información en el conjunto de datos, solamente nos ayuda a <span style=\"color:lightgreen\">obtener una mejor estimación acerca de la distribución de las muestras</span>.\n"
   ]
  },
  {
   "cell_type": "markdown",
   "id": "0f196d38-1558-44e8-b8c0-449d3fc610dc",
   "metadata": {},
   "source": [
    "## **2. Generación de datos**\n",
    "***\n",
    "Usando Python, generaremos un conjunto inicial de datos."
   ]
  },
  {
   "cell_type": "code",
   "execution_count": null,
   "id": "5516ef2b-2065-48d6-a03a-ed3b9a8477f6",
   "metadata": {},
   "outputs": [],
   "source": [
    "import scipy\n",
    "import numpy as np\n",
    "import pandas as pd\n",
    "import math\n",
    "import random as rand\n",
    "import matplotlib.pyplot as plt"
   ]
  },
  {
   "cell_type": "markdown",
   "id": "f6feb5da-3b75-4d76-9f9d-4176f85876c0",
   "metadata": {},
   "source": [
    "Asumiremos que el conjunto tiene una distribución normal o gaussiana $N[0,1]$:"
   ]
  },
  {
   "cell_type": "code",
   "execution_count": null,
   "id": "69581ec0-bbda-4956-91f7-95904863cc7d",
   "metadata": {},
   "outputs": [],
   "source": [
    "# Número de muestras en el conjunto original\n",
    "n = 10\n",
    "# Número de conjuntos a crear con bootstrap\n",
    "m = 100\n",
    "\n",
    "# Generador aleatorio de datos\n",
    "rng = np.random.default_rng()\n",
    "\n",
    "# Creación del conjunto original\n",
    "data = np.zeros(n)\n",
    "for i in range(0, n):\n",
    "    data[i] = rng.normal() "
   ]
  },
  {
   "cell_type": "markdown",
   "id": "c0b8da7e-120f-43c9-97b9-ec5f48ee2deb",
   "metadata": {},
   "source": [
    "Observamos el conjunto original de datos:"
   ]
  },
  {
   "cell_type": "code",
   "execution_count": null,
   "id": "12c81655-45a1-4e59-88c1-3932dffe12b1",
   "metadata": {},
   "outputs": [],
   "source": [
    "print(data)"
   ]
  },
  {
   "cell_type": "markdown",
   "id": "d7a79b6a-1b7d-4ff2-87b3-e4413077b31a",
   "metadata": {},
   "source": [
    "A partir de este conjunto original, tomaremos `n` muestras con reemplazo unas `m` veces:"
   ]
  },
  {
   "cell_type": "code",
   "execution_count": null,
   "id": "9e1295fe-4c1d-4c29-acb3-a8b5d177c110",
   "metadata": {},
   "outputs": [],
   "source": [
    "bootstrap = np.zeros((n, m)) \n",
    "\n",
    "for i in range(0, m):\n",
    "    for sample in range(0, n):\n",
    "        bootstrap[sample, i] = np.random.choice(data)\n",
    "\n",
    "print(f\"El conjunto de remuestreo tiene un tamaño de {bootstrap.shape}\")"
   ]
  },
  {
   "cell_type": "markdown",
   "id": "209cfda9-cd6e-4552-a699-52923405700b",
   "metadata": {},
   "source": [
    "En total, tenemos 100 conjuntos de datos, cada uno de estos conjuntos contiene 10 muestras tomadas del conjunto original (con repetición).\n",
    "\n",
    "Observamos los primeros 5 conjuntos generados:"
   ]
  },
  {
   "cell_type": "code",
   "execution_count": null,
   "id": "37cd0c3a-60ea-450b-9dda-425200ae12a6",
   "metadata": {},
   "outputs": [],
   "source": [
    "bootstrap[:, :5]"
   ]
  },
  {
   "cell_type": "markdown",
   "id": "15aaa681-7b1e-403d-89c0-832247003b2a",
   "metadata": {},
   "source": [
    "## **3. Cálculo de medidas estadísticas**\n",
    "***\n",
    "Ahora que tenemos los 100 conjuntos de remuestreo, calcularemos los valores de media y varianza para cada uno de estos conjuntos:"
   ]
  },
  {
   "cell_type": "code",
   "execution_count": null,
   "id": "92af9731-a011-44d8-a0fc-74dd9eca3aec",
   "metadata": {},
   "outputs": [],
   "source": [
    "media = np.zeros(m)\n",
    "varianza = np.zeros(m)\n",
    "\n",
    "for i in range(0, m):\n",
    "    media[i] = np.mean(bootstrap[:, i])\n",
    "    varianza[i] = np.var(bootstrap[:, i])"
   ]
  },
  {
   "cell_type": "markdown",
   "id": "32f9360a-bbd9-40ef-8987-88f71ef0ec62",
   "metadata": {},
   "source": [
    "Observamos los resultados:"
   ]
  },
  {
   "cell_type": "code",
   "execution_count": null,
   "id": "17062dd3-bcbe-482e-b621-ca9b8936040d",
   "metadata": {},
   "outputs": [],
   "source": [
    "media"
   ]
  },
  {
   "cell_type": "code",
   "execution_count": null,
   "id": "1915ce37-83bd-4b7b-853a-439e500607df",
   "metadata": {},
   "outputs": [],
   "source": [
    "varianza"
   ]
  },
  {
   "cell_type": "markdown",
   "id": "cb298b5c-6b3f-49e5-8266-0777a6750755",
   "metadata": {},
   "source": [
    "## **4. Visualización de la incertidumbre**\n",
    "***\n",
    "Ahora que tenemos la media y varianza de los conjuntos generados a través de bootstrap, crearemos histogramas para visualizar su distribución:"
   ]
  },
  {
   "cell_type": "code",
   "execution_count": null,
   "id": "152914b3-58c1-447c-aa3b-2d35c7a005d6",
   "metadata": {},
   "outputs": [],
   "source": [
    "fig, (ax1, ax2) = plt.subplots(1, 2, figsize=(15, 6))\n",
    "\n",
    "ax1.hist(media, bins=20)\n",
    "ax1.set_title(\"Media - Bootstrap\")\n",
    "ax1.set_xlabel(\"Valor\")\n",
    "ax1.set_ylabel(\"Frecuencia\")\n",
    "\n",
    "ax2.hist(varianza, bins=20)\n",
    "ax2.set_title(\"Varianza - Bootstrap\")\n",
    "ax2.set_xlabel(\"Valor\")\n",
    "ax2.set_ylabel(\"Frecuencia\")\n",
    "\n",
    "plt.show()"
   ]
  },
  {
   "cell_type": "markdown",
   "id": "db7b7bf9-8c5f-4786-b38b-522587eba46e",
   "metadata": {},
   "source": [
    "Por último, generaremos un resumen estadístico de los valores de media y varianza:"
   ]
  },
  {
   "cell_type": "code",
   "execution_count": null,
   "id": "643ee060-6b56-414a-855b-8fad6e232ef2",
   "metadata": {
    "tags": []
   },
   "outputs": [],
   "source": [
    "df = pd.DataFrame({\"Media\": media, \"Varianza\": varianza})\n",
    "df.describe()"
   ]
  },
  {
   "cell_type": "markdown",
   "id": "42a4c920-a335-4810-9a98-11a31ed90864",
   "metadata": {},
   "source": [
    "En conclusión:\n",
    "- La incertidumbre disminuye rápidamente conforme aumentamos el número de muestras.\n",
    "- Usando bootstrap, el valor de incertidumbre para la media se aproxima al error estándar.\n",
    "- Este método nos permite encontrar valores de incertidumbre para cualquier medida estadística.\n",
    "- El método de bootstrap no toma en cuenta el contexto espacial (e.g. ubicación de los datos, correlación espacial, etc.).\n",
    "\n",
    "\n",
    "***"
   ]
  }
 ],
 "metadata": {
  "kernelspec": {
   "display_name": "Python 3 (ipykernel)",
   "language": "python",
   "name": "python3"
  },
  "language_info": {
   "codemirror_mode": {
    "name": "ipython",
    "version": 3
   },
   "file_extension": ".py",
   "mimetype": "text/x-python",
   "name": "python",
   "nbconvert_exporter": "python",
   "pygments_lexer": "ipython3",
   "version": "3.8.10"
  }
 },
 "nbformat": 4,
 "nbformat_minor": 5
}

{
 "cells": [
  {
   "cell_type": "markdown",
   "id": "c492ff15-e2bb-4dae-a362-7264ee49a4ad",
   "metadata": {},
   "source": [
    "# **Pandas**\n",
    "***\n",
    "\n",
    "### **Editado por: Kevin Alexander Gómez**\n",
    "#### Contacto: kevinalexandr19@gmail.com | [Linkedin](https://www.linkedin.com/in/kevin-alexander-g%C3%B3mez-2b0263111/) | [Github](https://github.com/kevinalexandr19)\n",
    "***"
   ]
  },
  {
   "cell_type": "markdown",
   "id": "7d6f7440-6254-4f97-ae05-ef24af8f860f",
   "metadata": {},
   "source": [
    "### **Descripción**\n",
    "\n",
    "Usando este manual, aprenderás a usar Pandas, una librería usada para el análisis de datos tabulares en Python.\n",
    "\n",
    "Este Notebook es parte del proyecto [**Python para Geólogos**](https://github.com/kevinalexandr19/manual-python-geologia), y ha sido creado con la finalidad de facilitar el aprendizaje en Python para estudiantes y profesionales en el campo de la Geología.\n",
    "\n",
    "***"
   ]
  },
  {
   "cell_type": "markdown",
   "id": "a5cd7345-616c-4c8b-b4a6-661eef08c208",
   "metadata": {},
   "source": [
    "## **1. ¿Qué es Pandas?**\n",
    "Pandas (abreviación de `Panel Data`) es una herramienta rápida, flexible y poderosa para el análisis y manipulación de datos, desarrollado en Python.\\\n",
    "Con Pandas, podemos representar información tabular (hojas de trabajo o bases de datos) a través del uso de `Series` y `DataFrame`.\n",
    "\n",
    "### **1.1 ¿Cuáles son las ventajas de Pandas?**\n",
    "- Podemos explorar, limpiar y procesar nuestros datos de manera eficiente.\n",
    "- Permite la integración de diversos formatos de archivo o fuentes de datos como `csv`, `excel`, `sql`, `json`, etc.\n",
    "- Contiene funciones de selección y filtrado para filas y columnas específicas.\n",
    "- No hay necesidad de usar bucles para procesar cada fila de una tabla, la manipulación de datos en una columna se realiza por elementos.\n",
    "- Se pueden realizar cálculos estadísticos básicos (media, mediana, varianza, etc.) de manera sencilla.\n",
    "- Permite agrupar y desagrupar datos por categorías de una forma rápida.\n",
    "- Permite la concatenación de múltiples tablas por columna o por fila.\n",
    "- Contiene herramientas para el análisis de series temporales.\n",
    "- Contiene herramientas para la limpieza y extracción de datos textuales."
   ]
  },
  {
   "cell_type": "markdown",
   "id": "bc55c035-8d50-4c9b-91a0-3c64e96c11dd",
   "metadata": {},
   "source": [
    "***"
   ]
  },
  {
   "cell_type": "markdown",
   "id": "2d8548db-0d9e-4f7e-a11f-fdc5af926278",
   "metadata": {},
   "source": [
    "Revisaremos las `Series` y `DataFrame` usando el siguiente ejemplo:\n",
    "\n",
    "### Análisis químico de muestras\n",
    "Usando la siguiente información tabular, se pide transcribir la información y almacenarla en archivos de formato CSV y Excel.\n",
    "\n",
    "| Muestra |Au (ppm)  |Ag (ppm)  |Cu (%)   |Zn (%)  |Pb (%)  |\n",
    "|:-------:|:--------:|:--------:|:-------:|:------:|:------:|\n",
    "|A        |5.0       |51.2      |3.2      |4.0     |3.4     |\n",
    "|B        |6.1       |62.7      |4.5      |6.1     |5.5     |\n",
    "|C        |4.2       |54.8      |2.1      |3.5     |3.1     |\n",
    "|D        |2.4       |47.1      |4.8      |6.4     |5.8     |\n",
    "|E        |8.3       |40.3      |5.4      |8.9     |6.7     |"
   ]
  },
  {
   "cell_type": "markdown",
   "id": "d3f93285-2be7-4a6a-9b40-9c4d7bc940d9",
   "metadata": {},
   "source": [
    "Empezaremos importando `pandas` y usaremos `pd` como una referencia abreviada de esta librería:"
   ]
  },
  {
   "cell_type": "code",
   "execution_count": null,
   "id": "5526cf17-ae8e-423b-970c-05b76d1ad43f",
   "metadata": {},
   "outputs": [],
   "source": [
    "import pandas as pd"
   ]
  },
  {
   "cell_type": "markdown",
   "id": "5297d30f-c50e-4838-a09d-7d0479f447b7",
   "metadata": {},
   "source": [
    "## **2. Series**\n",
    "\n",
    "Empezaremos creando un objeto llamado `Series`, que es similar a un `array` de Numpy, pero además lleva un **índice** o `index`.\\\n",
    "En este caso, lo crearemos a partir de una lista que contenga los valores de la columna de `Au`:"
   ]
  },
  {
   "cell_type": "code",
   "execution_count": null,
   "id": "37781cba-2de6-415e-8d52-9c1fd8332a5b",
   "metadata": {},
   "outputs": [],
   "source": [
    "au = pd.Series([5.0, 6.1, 4.2, 2.4, 8.3], index=[\"A\", \"B\", \"C\", \"D\", \"E\"])"
   ]
  },
  {
   "cell_type": "code",
   "execution_count": null,
   "id": "8f9eb034-e5c4-4507-947e-23bbb14e4322",
   "metadata": {},
   "outputs": [],
   "source": [
    "au"
   ]
  },
  {
   "cell_type": "markdown",
   "id": "0180e8e3-8b4d-4b67-91c5-a4aa5511436c",
   "metadata": {},
   "source": [
    "Los objetos de tipo `Series` representan unidades de filas y columnas.\n",
    "\n",
    "También podemos crear una serie a partir de un diccionario. En este caso, usaremos la columna de `Ag`:"
   ]
  },
  {
   "cell_type": "code",
   "execution_count": null,
   "id": "0cec5829-7da4-45bf-86c5-f789aa858b5d",
   "metadata": {},
   "outputs": [],
   "source": [
    "ag = pd.Series({\"A\": 51.2, \"B\": 62.7, \"C\": 54.8, \"D\": 47.1, \"E\": 40.3})"
   ]
  },
  {
   "cell_type": "code",
   "execution_count": null,
   "id": "ae9c6ab6-275a-4a83-8547-d13f128851f2",
   "metadata": {},
   "outputs": [],
   "source": [
    "ag"
   ]
  },
  {
   "cell_type": "markdown",
   "id": "60ec6e24-e35a-4834-bca4-faf7da497616",
   "metadata": {},
   "source": [
    "Podemos obtener el índice a través del atributo `index`:"
   ]
  },
  {
   "cell_type": "code",
   "execution_count": null,
   "id": "a4a8305b-cf6d-48e9-8311-a5bad74fe6cd",
   "metadata": {},
   "outputs": [],
   "source": [
    "ag.index"
   ]
  },
  {
   "cell_type": "markdown",
   "id": "1857edf0-1977-45fa-a689-cd8df1bc1732",
   "metadata": {},
   "source": [
    "Y los valores a través del atributo `values`:"
   ]
  },
  {
   "cell_type": "code",
   "execution_count": null,
   "id": "843e88d9-1892-4e7c-946c-42c1384dc1e2",
   "metadata": {},
   "outputs": [],
   "source": [
    "ag.values"
   ]
  },
  {
   "cell_type": "markdown",
   "id": "9d781ca5-3fca-4a95-8e20-7b031f4c633f",
   "metadata": {},
   "source": [
    "Crearemos una nueva serie para la columna de `Cu`:"
   ]
  },
  {
   "cell_type": "code",
   "execution_count": null,
   "id": "2164f488-5977-4f23-9ce2-771b93a8af3a",
   "metadata": {},
   "outputs": [],
   "source": [
    "cu = pd.Series({\"A\": 3.2, \"B\": 4.5, \"C\": 2.1, \"D\": 4.8, \"E\": 5.4})\n",
    "cu"
   ]
  },
  {
   "cell_type": "markdown",
   "id": "535a4cfe-2367-44d4-b385-e125e6c92cc6",
   "metadata": {},
   "source": [
    "Podemos crear una copia usando el método `copy`:"
   ]
  },
  {
   "cell_type": "code",
   "execution_count": null,
   "id": "c254196e-5ba6-4f13-9a9f-2349f704c26a",
   "metadata": {},
   "outputs": [],
   "source": [
    "copia = cu.copy()\n",
    "copia"
   ]
  },
  {
   "cell_type": "markdown",
   "id": "3289b1b0-345f-4c3a-910f-5cccb2925e70",
   "metadata": {},
   "source": [
    "Y también podemos modificar y agregar valores dentro de una serie.\\\n",
    "Si modificamos una copia, el original no es alterado:"
   ]
  },
  {
   "cell_type": "code",
   "execution_count": null,
   "id": "32dd96d9-e718-4978-bf80-092613baa93a",
   "metadata": {},
   "outputs": [],
   "source": [
    "copia[0] = 0\n",
    "copia[\"F\"] = 10\n",
    "copia"
   ]
  },
  {
   "cell_type": "markdown",
   "id": "cca18fab-a7e7-4ef7-9ae2-1859575af2cf",
   "metadata": {},
   "source": [
    "Ahora crearemos las columnas para el `Zn` y el `Pb`:"
   ]
  },
  {
   "cell_type": "code",
   "execution_count": null,
   "id": "4d21b17d-5ec4-44f9-a01d-ed37a2ed150d",
   "metadata": {},
   "outputs": [],
   "source": [
    "index = [\"A\", \"B\", \"C\", \"D\", \"E\"]\n",
    "\n",
    "zn = pd.Series(dict(zip(index, [4.0, 6.1, 3.5, 6.4, 8.9])))\n",
    "pb = pd.Series(dict(zip(index, [3.4, 5.5, 3.1, 5.8, 6.7])))"
   ]
  },
  {
   "cell_type": "code",
   "execution_count": null,
   "id": "5141100e-cd2b-445e-91e7-abc125d2fe68",
   "metadata": {},
   "outputs": [],
   "source": [
    "zn"
   ]
  },
  {
   "cell_type": "code",
   "execution_count": null,
   "id": "bd17361a-b208-4742-add4-5665c6ab0eeb",
   "metadata": {},
   "outputs": [],
   "source": [
    "pb"
   ]
  },
  {
   "cell_type": "markdown",
   "id": "4468dbca-7e07-47bd-95b1-b4a5603d656f",
   "metadata": {},
   "source": [
    "Podemos hacer slicing dentro de una serie:"
   ]
  },
  {
   "cell_type": "code",
   "execution_count": null,
   "id": "d7dbe192-07f4-44ae-977e-c58b40da5e88",
   "metadata": {},
   "outputs": [],
   "source": [
    "# Segunda y tercera fila de la columna Zn\n",
    "zn[1:3]"
   ]
  },
  {
   "cell_type": "code",
   "execution_count": null,
   "id": "09b1f9ad-e9c6-48df-a1a5-8edcaf7fc7ef",
   "metadata": {},
   "outputs": [],
   "source": [
    "# De la tercera a la quinta fila de la columna Pb\n",
    "pb[\"C\": \"E\"]"
   ]
  },
  {
   "cell_type": "markdown",
   "id": "b1892707-4861-4ce4-8680-c5a6958da1dc",
   "metadata": {},
   "source": [
    "Podemos usar el método `loc` para ubicar un elemento dentro de una serie a partir del nombre asignado en su índice:"
   ]
  },
  {
   "cell_type": "code",
   "execution_count": null,
   "id": "15d729ec-2b9a-49f3-bae8-7b5be95fac5e",
   "metadata": {},
   "outputs": [],
   "source": [
    "# La segunda fila de la columna Zn tiene por nombre \"B\"\n",
    "zn.loc[\"B\"]"
   ]
  },
  {
   "cell_type": "markdown",
   "id": "c57d6f1e-8754-42a3-9979-1c8296139a9c",
   "metadata": {},
   "source": [
    "O también podemos usar `iloc` para ubicar el elemento de acuerdo al orden de posición en la serie:"
   ]
  },
  {
   "cell_type": "code",
   "execution_count": null,
   "id": "7e23ecb8-fec0-4e26-ab7a-92d2cf2afb48",
   "metadata": {},
   "outputs": [],
   "source": [
    "# La segunda fila de la columna Zn tiene por posición 1\n",
    "zn.iloc[1]"
   ]
  },
  {
   "cell_type": "markdown",
   "id": "343b2fe6-b44c-41c2-b989-ec590ba6f4f8",
   "metadata": {},
   "source": [
    "## **3. DataFrame**\n",
    "\n",
    "Un `DataFrame` agrupa objetos de tipo `Series` para generar una tabla de filas y columnas.\\\n",
    "Cada fila y columna del DataFrame puede llevar un nombre específico.\n",
    "\n",
    "Usaremos las columnas de `Au`, `Ag`, `Cu`, `Zn` y `Pb` que hemos creado anteriormente para generar el DataFrame:"
   ]
  },
  {
   "cell_type": "code",
   "execution_count": null,
   "id": "82e9c7cb-8a4d-441f-82cc-90aec4080bf8",
   "metadata": {},
   "outputs": [],
   "source": [
    "data = pd.DataFrame({\"Au\": au, \"Ag\": ag, \"Cu\": cu, \"Zn\": zn, \"Pb\": pb})\n",
    "data"
   ]
  },
  {
   "cell_type": "markdown",
   "id": "d7161eed-7a13-40e5-8222-4c6cd8d90eb5",
   "metadata": {},
   "source": [
    "Podemos usar el método `head` para observar solamente las primeras filas de una tabla:"
   ]
  },
  {
   "cell_type": "code",
   "execution_count": null,
   "id": "6806f423-6f3f-4ae1-ae5f-53860ce2b133",
   "metadata": {},
   "outputs": [],
   "source": [
    "data.head(2)"
   ]
  },
  {
   "cell_type": "markdown",
   "id": "ba19b0d3-0e4c-44b2-86b3-92062244f09d",
   "metadata": {},
   "source": [
    "Y también podemos usar el método `tail` para observar solamente las últimas fila de una tabla:"
   ]
  },
  {
   "cell_type": "code",
   "execution_count": null,
   "id": "971a3079-743a-4e0b-a7bf-4e81480ffdd1",
   "metadata": {},
   "outputs": [],
   "source": [
    "data.tail(3)"
   ]
  },
  {
   "cell_type": "markdown",
   "id": "dc65ff82-1eb2-40b4-84fc-5b5df1afae0e",
   "metadata": {},
   "source": [
    "## **4. Manipulación de datos**"
   ]
  },
  {
   "cell_type": "markdown",
   "id": "aa31235e-0004-44ad-a623-118ab86b505a",
   "metadata": {},
   "source": [
    "Podemos eliminar los índices utilizando el método `reset_index`:"
   ]
  },
  {
   "cell_type": "code",
   "execution_count": null,
   "id": "91479fc1-8148-4513-9a96-2222cf480654",
   "metadata": {},
   "outputs": [],
   "source": [
    "data.reset_index()"
   ]
  },
  {
   "cell_type": "markdown",
   "id": "2be930b5-111b-4999-a6d7-af5a5f73c92a",
   "metadata": {},
   "source": [
    "Si agregamos el parámetro `drop=True`, el índice anterior será descartado:"
   ]
  },
  {
   "cell_type": "code",
   "execution_count": null,
   "id": "d74613d2-6028-4768-80bd-ab8083fa3224",
   "metadata": {},
   "outputs": [],
   "source": [
    "data.reset_index(drop=True)"
   ]
  },
  {
   "cell_type": "markdown",
   "id": "1637c18a-cb11-483c-ac60-cacc3f9642b5",
   "metadata": {},
   "source": [
    "Si queremos hacer permanente el cambio, podemos utilizar el parámetro `inplace=True`:"
   ]
  },
  {
   "cell_type": "code",
   "execution_count": null,
   "id": "7ea349cf-db92-4445-97de-0f3b201dcdb6",
   "metadata": {},
   "outputs": [],
   "source": [
    "data.reset_index(drop=True, inplace=True)\n",
    "data"
   ]
  },
  {
   "cell_type": "markdown",
   "id": "0a6cc3e0-4dfd-41cf-968e-23122b72e530",
   "metadata": {},
   "source": [
    "Podemos agregar un nuevo índice usando el atributo `index`:"
   ]
  },
  {
   "cell_type": "code",
   "execution_count": null,
   "id": "7eaef4b1-e3df-4f50-aab0-e6cdf23e4aeb",
   "metadata": {},
   "outputs": [],
   "source": [
    "data.index = [\"A\", \"B\", \"C\", \"D\", \"E\"]\n",
    "data"
   ]
  },
  {
   "cell_type": "markdown",
   "id": "3ecd0dec-79ff-4c14-afeb-b14fdf7aedec",
   "metadata": {},
   "source": [
    "Podemos extraer los nombres de las columnas con el atributo `columns`:"
   ]
  },
  {
   "cell_type": "code",
   "execution_count": null,
   "id": "f71721f2-9153-4c92-93a4-07f10ab26bbb",
   "metadata": {},
   "outputs": [],
   "source": [
    "data.columns"
   ]
  },
  {
   "cell_type": "markdown",
   "id": "188f73f8-be70-4e23-9f99-9134b334da78",
   "metadata": {},
   "source": [
    "También podemos crear una copia de la tabla con `copy`:"
   ]
  },
  {
   "cell_type": "code",
   "execution_count": null,
   "id": "258d6fda-6c04-4491-89ac-f269a353492e",
   "metadata": {},
   "outputs": [],
   "source": [
    "copia = data.copy()\n",
    "copia"
   ]
  },
  {
   "cell_type": "markdown",
   "id": "da0a34ae-372b-40d4-a060-d39cc0c94309",
   "metadata": {},
   "source": [
    "Podemos seleccionar columnas a través de su nombre:"
   ]
  },
  {
   "cell_type": "code",
   "execution_count": null,
   "id": "97274fa1-3717-417e-94fa-386ed3aa439b",
   "metadata": {},
   "outputs": [],
   "source": [
    "data[\"Au\"]"
   ]
  },
  {
   "cell_type": "code",
   "execution_count": null,
   "id": "02b52801-5faf-41a3-a280-97966acf0ccf",
   "metadata": {},
   "outputs": [],
   "source": [
    "data[[\"Au\", \"Zn\", \"Cu\"]]"
   ]
  },
  {
   "cell_type": "markdown",
   "id": "40a940bf-bb09-478f-8b5c-e3b5f0c3c124",
   "metadata": {},
   "source": [
    "Podemos seleccionar filas haciendo slicing:"
   ]
  },
  {
   "cell_type": "code",
   "execution_count": null,
   "id": "9d762e83-7464-4e3c-a96e-c9bb2618b554",
   "metadata": {},
   "outputs": [],
   "source": [
    "data[1:]"
   ]
  },
  {
   "cell_type": "code",
   "execution_count": null,
   "id": "a6bbfd67-806a-4862-a93b-28ebf2761a97",
   "metadata": {},
   "outputs": [],
   "source": [
    "data[\"B\":]"
   ]
  },
  {
   "cell_type": "markdown",
   "id": "5d9fd476-858c-4d6f-b5b6-b5edcb41bb79",
   "metadata": {},
   "source": [
    "Y también podemos seleccionar elementos específicos utilizando `loc`.\\\n",
    "Las filas y columnas se especifican usando listas separadas:"
   ]
  },
  {
   "cell_type": "code",
   "execution_count": null,
   "id": "56851ee2-d3bc-49ff-9215-578569317bf3",
   "metadata": {},
   "outputs": [],
   "source": [
    "data.loc[[\"A\", \"C\"], [\"Ag\", \"Pb\"]]"
   ]
  },
  {
   "cell_type": "markdown",
   "id": "19e1217c-c617-413d-ab36-c9c97fb4a2e0",
   "metadata": {},
   "source": [
    "También podemos utilizar rangos:"
   ]
  },
  {
   "cell_type": "code",
   "execution_count": null,
   "id": "ea7e583d-fa90-4fef-b49e-6130d3ce81db",
   "metadata": {},
   "outputs": [],
   "source": [
    "data.loc[\"A\": \"D\", :]"
   ]
  },
  {
   "cell_type": "markdown",
   "id": "4ca2d825-ea4a-452b-948f-bd806f9d06ba",
   "metadata": {},
   "source": [
    "Con `iloc` el proceso es similar, pero en vez de utilizar los nombres utilizamos el orden de posición:"
   ]
  },
  {
   "cell_type": "code",
   "execution_count": null,
   "id": "ade17472-aef3-4628-bb8f-f2e14723e68b",
   "metadata": {},
   "outputs": [],
   "source": [
    "data.iloc[[0, 2], [1, 4]]"
   ]
  },
  {
   "cell_type": "code",
   "execution_count": null,
   "id": "4d218fdf-f0ac-4719-ab11-39fdb1344e06",
   "metadata": {},
   "outputs": [],
   "source": [
    "data.iloc[0:4, :]"
   ]
  },
  {
   "cell_type": "markdown",
   "id": "224f0c8d-4d21-43d5-a6f5-3a76c3699b3d",
   "metadata": {},
   "source": [
    "Podemos extraer el tipo de dato de cada columna con el atributo `dtypes`:"
   ]
  },
  {
   "cell_type": "code",
   "execution_count": null,
   "id": "947cff4a-25a7-4f40-955f-8ad5fab41493",
   "metadata": {},
   "outputs": [],
   "source": [
    "data.dtypes"
   ]
  },
  {
   "cell_type": "markdown",
   "id": "07ce8de5-5374-4620-99fb-fb04ad711e86",
   "metadata": {},
   "source": [
    "También podemos colocarle un nombre al índice:"
   ]
  },
  {
   "cell_type": "code",
   "execution_count": null,
   "id": "35425c36-d449-4450-bba9-6616cb1ea559",
   "metadata": {},
   "outputs": [],
   "source": [
    "data.index.name = \"Muestras\"\n",
    "data"
   ]
  },
  {
   "cell_type": "markdown",
   "id": "beb15e5a-78f4-4bfe-9d33-e48f2f0cc256",
   "metadata": {},
   "source": [
    "Podemos eliminar filas y columnas utilizando el método `drop` (para hacer el cambio permanente, agregar el parámetro `inplace=True`:"
   ]
  },
  {
   "cell_type": "code",
   "execution_count": null,
   "id": "566276d8-7601-4162-bc61-bfbe8a4c4cbe",
   "metadata": {},
   "outputs": [],
   "source": [
    "data.drop(columns=[\"Au\", \"Ag\"], index=[\"A\", \"B\"])"
   ]
  },
  {
   "cell_type": "markdown",
   "id": "632a3d78-87a2-4ef4-a7e4-1fd046f78ec2",
   "metadata": {},
   "source": [
    "También podemos agregar nuevas columnas, como por ejemplo, la suma de concentraciones de `Cu`, `Zn` y `Pb`:"
   ]
  },
  {
   "cell_type": "code",
   "execution_count": null,
   "id": "f6bb5e90-ad11-430d-a350-caada71318ab",
   "metadata": {},
   "outputs": [],
   "source": [
    "data[\"Cu + Zn + Pb\"] = data[\"Cu\"] + data[\"Zn\"] + data[\"Pb\"]\n",
    "data"
   ]
  },
  {
   "cell_type": "markdown",
   "id": "e9c6cb47-ef80-44ad-9aa1-b72cb88d472c",
   "metadata": {},
   "source": [
    "Si utilizamos expresiones lógicas, obtendremos un arreglo con valores de tipo lógico:"
   ]
  },
  {
   "cell_type": "code",
   "execution_count": null,
   "id": "7e280dbc-378d-4509-b94a-f6fce9dc4682",
   "metadata": {},
   "outputs": [],
   "source": [
    "data[\"Au\"] > 5.0"
   ]
  },
  {
   "cell_type": "markdown",
   "id": "6fd99c8b-66c7-4b00-818b-9585cd3bc5b9",
   "metadata": {},
   "source": [
    "Podemos usar este arreglo para filtrar los datos de acuerdo a una condición:"
   ]
  },
  {
   "cell_type": "code",
   "execution_count": null,
   "id": "1743f4bb-2f91-4d7f-a4eb-570aa249cc8b",
   "metadata": {},
   "outputs": [],
   "source": [
    "data[data[\"Au\"] > 5.0]"
   ]
  },
  {
   "cell_type": "markdown",
   "id": "98d08606-844d-4266-bbeb-e02ff4eec625",
   "metadata": {},
   "source": [
    "Crearemos una columna de datos vacíos para la suma de `Au` y `Ag`:"
   ]
  },
  {
   "cell_type": "code",
   "execution_count": null,
   "id": "c99614f0-f447-48b4-b076-719c7743ed0f",
   "metadata": {},
   "outputs": [],
   "source": [
    "import numpy as np"
   ]
  },
  {
   "cell_type": "code",
   "execution_count": null,
   "id": "1d342d6d-14d6-4033-83f5-24e59c890518",
   "metadata": {},
   "outputs": [],
   "source": [
    "data[\"Au + Ag\"] = np.nan\n",
    "data"
   ]
  },
  {
   "cell_type": "markdown",
   "id": "7ad4bc48-896e-4792-882a-bdd2ef4a3607",
   "metadata": {},
   "source": [
    "Para ubicar valores de tipo `nan` en la tabla, podemos usar el método `isna`:"
   ]
  },
  {
   "cell_type": "code",
   "execution_count": null,
   "id": "fc08c8cd-3eb5-4b5e-a5b7-aa25e7de07ff",
   "metadata": {},
   "outputs": [],
   "source": [
    "data.isna()"
   ]
  },
  {
   "cell_type": "markdown",
   "id": "10ad5001-d589-4332-95f2-f10ccb33ed9d",
   "metadata": {},
   "source": [
    "Si queremos reemplazar los valores `nan`, podemos utilizar el método `fillna`:"
   ]
  },
  {
   "cell_type": "code",
   "execution_count": null,
   "id": "90c18815-1f27-409b-994f-662859a4e768",
   "metadata": {},
   "outputs": [],
   "source": [
    "data.fillna(\"\")"
   ]
  },
  {
   "cell_type": "markdown",
   "id": "7511dbe9-f9e9-44e8-a4f3-fa9c0b4b5ea9",
   "metadata": {},
   "source": [
    "Por último, si queremos eliminar los valores de tipo `nan`, podemos utilizar el método `dropna`.\\\n",
    "El párametro `axis` elimina todas las filas (0) o columnas (1) que contengan valores `nan`."
   ]
  },
  {
   "cell_type": "code",
   "execution_count": null,
   "id": "9238d3ad-0824-45bd-8eee-2e11422bca9c",
   "metadata": {},
   "outputs": [],
   "source": [
    "data.dropna(axis=1)"
   ]
  },
  {
   "cell_type": "markdown",
   "id": "921ea24e-338a-4042-8169-444e26a341f4",
   "metadata": {},
   "source": [
    "Si queremos hacer el cambio permanente, agregamos el parámetro `inplace=True`:"
   ]
  },
  {
   "cell_type": "code",
   "execution_count": null,
   "id": "e2b64bf1-ab22-4097-99a4-b870f6d04cfd",
   "metadata": {},
   "outputs": [],
   "source": [
    "data.dropna(axis=1, inplace=True)\n",
    "data"
   ]
  }
 ],
 "metadata": {
  "kernelspec": {
   "display_name": "Python 3 (ipykernel)",
   "language": "python",
   "name": "python3"
  },
  "language_info": {
   "codemirror_mode": {
    "name": "ipython",
    "version": 3
   },
   "file_extension": ".py",
   "mimetype": "text/x-python",
   "name": "python",
   "nbconvert_exporter": "python",
   "pygments_lexer": "ipython3",
   "version": "3.8.10"
  }
 },
 "nbformat": 4,
 "nbformat_minor": 5
}

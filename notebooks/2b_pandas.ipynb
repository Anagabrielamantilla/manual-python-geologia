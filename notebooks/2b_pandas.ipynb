{
 "cells": [
  {
   "cell_type": "markdown",
   "id": "c492ff15-e2bb-4dae-a362-7264ee49a4ad",
   "metadata": {},
   "source": [
    "# **Pandas**\n",
    "***\n",
    "\n",
    "### **Editado por: Kevin Alexander Gómez**\n",
    "#### Contacto: kevinalexandr19@gmail.com | [Linkedin](https://www.linkedin.com/in/kevin-alexander-g%C3%B3mez-2b0263111/) | [Github](https://github.com/kevinalexandr19)\n",
    "***"
   ]
  },
  {
   "cell_type": "markdown",
   "id": "7d6f7440-6254-4f97-ae05-ef24af8f860f",
   "metadata": {},
   "source": [
    "### **Descripción**\n",
    "\n",
    "Usando este manual, aprenderás a usar Pandas, una librería usada para el análisis de datos tabulares en Python.\n",
    "\n",
    "Este Notebook es parte del [**Manual de Python aplicado a la Geología**](https://github.com/kevinalexandr19/manual-python-geologia), y ha sido creado con la finalidad de facilitar el aprendizaje en Python para estudiantes y profesionales en el campo de la Geología.\n",
    "\n",
    "***"
   ]
  },
  {
   "cell_type": "markdown",
   "id": "d3f93285-2be7-4a6a-9b40-9c4d7bc940d9",
   "metadata": {},
   "source": [
    "Empezaremos importando la librería: \n",
    "> Usaremos `pd` como una referencia abreviada de la librería.\\\n",
    "> También usaremos Numpy para generar información."
   ]
  },
  {
   "cell_type": "code",
   "execution_count": null,
   "id": "5526cf17-ae8e-423b-970c-05b76d1ad43f",
   "metadata": {},
   "outputs": [],
   "source": [
    "import pandas as pd\n",
    "import numpy as np"
   ]
  },
  {
   "cell_type": "markdown",
   "id": "5297d30f-c50e-4838-a09d-7d0479f447b7",
   "metadata": {},
   "source": [
    "### **1. Series**\n",
    "\n",
    "Empezaremos creando un objeto llamado `Series`, que es similar a un `array` de Numpy, excepto que llevan un **índice (index)**:"
   ]
  },
  {
   "cell_type": "code",
   "execution_count": null,
   "id": "37781cba-2de6-415e-8d52-9c1fd8332a5b",
   "metadata": {},
   "outputs": [],
   "source": [
    "pd.Series(np.random.random((4,)))"
   ]
  },
  {
   "cell_type": "markdown",
   "id": "0180e8e3-8b4d-4b67-91c5-a4aa5511436c",
   "metadata": {},
   "source": [
    "Los objetos de tipo `Series` representan unidades de filas y columnas.\n",
    "\n",
    "También podemos crear una serie usando un diccionario:"
   ]
  },
  {
   "cell_type": "code",
   "execution_count": null,
   "id": "0cec5829-7da4-45bf-86c5-f789aa858b5d",
   "metadata": {},
   "outputs": [],
   "source": [
    "rocas = pd.Series({\"A\": \"andesita\", \"B\": \"basalto\", \"C\": \"diorita\", \"D\": \"granito\"})"
   ]
  },
  {
   "cell_type": "code",
   "execution_count": null,
   "id": "ae9c6ab6-275a-4a83-8547-d13f128851f2",
   "metadata": {},
   "outputs": [],
   "source": [
    "rocas"
   ]
  },
  {
   "cell_type": "markdown",
   "id": "60ec6e24-e35a-4834-bca4-faf7da497616",
   "metadata": {},
   "source": [
    "Podemos obtener el índice a través del atributo `.index`:"
   ]
  },
  {
   "cell_type": "code",
   "execution_count": null,
   "id": "a4a8305b-cf6d-48e9-8311-a5bad74fe6cd",
   "metadata": {},
   "outputs": [],
   "source": [
    "rocas.index"
   ]
  },
  {
   "cell_type": "markdown",
   "id": "1857edf0-1977-45fa-a689-cd8df1bc1732",
   "metadata": {},
   "source": [
    "Y los valores a través del atributo `.values`:"
   ]
  },
  {
   "cell_type": "code",
   "execution_count": null,
   "id": "843e88d9-1892-4e7c-946c-42c1384dc1e2",
   "metadata": {},
   "outputs": [],
   "source": [
    "rocas.values"
   ]
  },
  {
   "cell_type": "markdown",
   "id": "3289b1b0-345f-4c3a-910f-5cccb2925e70",
   "metadata": {},
   "source": [
    "Modificaremos el último valor de la serie `rocas` y la cambiaremos por `andesita`:"
   ]
  },
  {
   "cell_type": "code",
   "execution_count": null,
   "id": "32dd96d9-e718-4978-bf80-092613baa93a",
   "metadata": {},
   "outputs": [],
   "source": [
    "rocas[-1] = \"andesita\"\n",
    "rocas"
   ]
  },
  {
   "cell_type": "markdown",
   "id": "4468dbca-7e07-47bd-95b1-b4a5603d656f",
   "metadata": {},
   "source": [
    "Por último, seleccionaremos el tercer elemento de la serie. Podemos hacer esto de dos formas:\\\n",
    "Usando el método `iloc` para ubicarlo a partir del número de posición en el índice:"
   ]
  },
  {
   "cell_type": "code",
   "execution_count": null,
   "id": "d7dbe192-07f4-44ae-977e-c58b40da5e88",
   "metadata": {},
   "outputs": [],
   "source": [
    "rocas.iloc[2]"
   ]
  },
  {
   "cell_type": "markdown",
   "id": "b1892707-4861-4ce4-8680-c5a6958da1dc",
   "metadata": {},
   "source": [
    "O podemos usar el método `loc` para ubicarlo a partir del nombre asignado al índice:"
   ]
  },
  {
   "cell_type": "code",
   "execution_count": null,
   "id": "15d729ec-2b9a-49f3-bae8-7b5be95fac5e",
   "metadata": {},
   "outputs": [],
   "source": [
    "rocas.loc[\"C\"]"
   ]
  },
  {
   "cell_type": "markdown",
   "id": "343b2fe6-b44c-41c2-b989-ec590ba6f4f8",
   "metadata": {},
   "source": [
    "### **2. DataFrame**\n",
    "\n",
    "El otro tipo de objeto usado en Pandas es el `DataFrame`, que agrupa objetos de tipo `Series` en una tabla de filas y columnas.\\\n",
    "Cada fila y columna del DataFrame puede llevar un nombre específico.\n",
    "\n",
    "Como ejemplo, crearemos un DataFrame de 2 filas y 3 columnas usando un `array` y una lista de columnas A, B y C:"
   ]
  },
  {
   "cell_type": "code",
   "execution_count": null,
   "id": "82e9c7cb-8a4d-441f-82cc-90aec4080bf8",
   "metadata": {},
   "outputs": [],
   "source": [
    "df = pd.DataFrame(np.random.random((2, 3)), columns=[\"A\", \"B\", \"C\"])\n",
    "df"
   ]
  },
  {
   "cell_type": "markdown",
   "id": "0a6cc3e0-4dfd-41cf-968e-23122b72e530",
   "metadata": {},
   "source": [
    "Podemos modificar los índices usando el atributo `.index`:"
   ]
  },
  {
   "cell_type": "code",
   "execution_count": null,
   "id": "7eaef4b1-e3df-4f50-aab0-e6cdf23e4aeb",
   "metadata": {},
   "outputs": [],
   "source": [
    "df.index = [\"Fila 1\", \"Fila 2\"]\n",
    "df"
   ]
  },
  {
   "cell_type": "markdown",
   "id": "c5550cae-e36f-490e-92e9-407208b740a7",
   "metadata": {},
   "source": [
    "Y por último, agregaremos una columna D con valores de tipo string:"
   ]
  },
  {
   "cell_type": "code",
   "execution_count": null,
   "id": "2b98ab0a-a78d-4e33-be11-c6a107424fe0",
   "metadata": {},
   "outputs": [],
   "source": [
    "df[\"D\"] = [\"abcdef\", \"ghijkl\"]\n",
    "df"
   ]
  }
 ],
 "metadata": {
  "kernelspec": {
   "display_name": "Python 3 (ipykernel)",
   "language": "python",
   "name": "python3"
  },
  "language_info": {
   "codemirror_mode": {
    "name": "ipython",
    "version": 3
   },
   "file_extension": ".py",
   "mimetype": "text/x-python",
   "name": "python",
   "nbconvert_exporter": "python",
   "pygments_lexer": "ipython3",
   "version": "3.8.10"
  }
 },
 "nbformat": 4,
 "nbformat_minor": 5
}

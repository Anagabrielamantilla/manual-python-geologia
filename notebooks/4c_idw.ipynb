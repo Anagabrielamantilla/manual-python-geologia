{
 "cells": [
  {
   "cell_type": "markdown",
   "id": "b09bed0d-0608-499b-abcc-371fa1a7f2c2",
   "metadata": {
    "tags": []
   },
   "source": [
    "# <span style=\"color:gold\">**Método del Inverso de la Distancia**</span>\n",
    "\n",
    "***\n",
    "### **Editado por: Kevin Alexander Gómez**\n",
    "#### Contacto: kevinalexandr19@gmail.com | [Linkedin](https://www.linkedin.com/in/kevin-alexander-g%C3%B3mez-2b0263111/) | [Github](https://github.com/kevinalexandr19)\n",
    "Este tutorial está basado en el trabajo de [Hugo Solis](https://github.com/hugosoliss/EDAPythonForGeostatician).\n",
    "***"
   ]
  },
  {
   "cell_type": "markdown",
   "id": "567f576e-7126-484e-813e-c7d8d9fb8a7a",
   "metadata": {
    "tags": []
   },
   "source": [
    "### **Descripción**\n",
    "\n",
    "En este tutorial, revisaremos el método de interpolación **IDW (Inverse Distance Weighting)**.\n",
    "\n",
    "Este Notebook forma parte del proyecto [**Python para Geólogos**](https://github.com/kevinalexandr19/manual-python-geologia), cuya finalidad es la de facilitar el aprendizaje en Python a estudiantes y profesionales en el campo de la Geología.\n",
    "\n",
    "***"
   ]
  },
  {
   "cell_type": "markdown",
   "id": "926d8a43-fcfa-4b80-80b3-d842a824285d",
   "metadata": {},
   "source": [
    "## **¿En qué consiste el método del Inverso de la Distancia?**\n",
    "Abreviado como **IDW**, esta técnica de interpolación no-geoestadística es usada frecuentemente en la estimación de variables regionalizadas.\\\n",
    "El valor estimado es una suma ponderada de todos los puntos cercanos.\\\n",
    "Cada punto tiene un factor de ponderación que depende directamente del inverso de su distancia al punto de interpolación y a su vez es elevado a un exponente."
   ]
  },
  {
   "cell_type": "code",
   "execution_count": null,
   "id": "3d848dd4-b101-4b9f-9a6c-15426700069f",
   "metadata": {},
   "outputs": [],
   "source": [
    "import matplotlib.pyplot as plt\n",
    "import numpy as np\n",
    "import pandas as pd\n",
    "from scipy.spatial import KDTree"
   ]
  },
  {
   "cell_type": "markdown",
   "id": "43edb450-e710-45e7-8e07-031998999bf1",
   "metadata": {},
   "source": [
    "Empezamos cargando la información:\n",
    "> Usaremos los métodos `dropna` y `reset_index` para remover las filas con valores vacíos.\\\n",
    "> Seleccionaremos las columnas `xlocation`, `ylocation`, `zlocation` y `gold`.\\\n",
    "> Usaremos la variable `sample` para almacenar la información inicial."
   ]
  },
  {
   "cell_type": "code",
   "execution_count": null,
   "id": "59a00935-6ece-421d-a5b9-f8ca5996dbaa",
   "metadata": {},
   "outputs": [],
   "source": [
    "sample = pd.read_csv(\"files/ISAACS.csv\").dropna().reset_index()\n",
    "sample = sample[[\"xlocation\", \"ylocation\", \"gold\"]]\n",
    "\n",
    "print(f\"Total de muestras: {len(sample)}\")\n",
    "sample.head()"
   ]
  },
  {
   "cell_type": "markdown",
   "id": "e2f1554b-d657-42dc-a2d3-31c10ac37907",
   "metadata": {},
   "source": [
    "Usando esta información, separaremos el DataFrame en 2 arreglos de Numpy:\n",
    "> Usaremos la variable `sampleXY` para almacenar las coordenadas XY de las muestras.\\\n",
    "> La variable `sampleAu` será usada para almacenar los valores de Au de las muestras."
   ]
  },
  {
   "cell_type": "code",
   "execution_count": null,
   "id": "f36ebfe5-7f01-4ce8-ab63-ce400d801132",
   "metadata": {},
   "outputs": [],
   "source": [
    "sampleXY = sample[[\"xlocation\", \"ylocation\"]].to_numpy()\n",
    "sampleAu = sample[\"gold\"].to_numpy()"
   ]
  },
  {
   "cell_type": "markdown",
   "id": "818f99c3-705a-4721-8d86-6b4eca79634f",
   "metadata": {},
   "source": [
    "Con estos arreglos, visualizaremos la distribución espacial de las leyes de Au:"
   ]
  },
  {
   "cell_type": "code",
   "execution_count": null,
   "id": "661cb15d-ea52-4f9e-80b0-ce33712d8eeb",
   "metadata": {},
   "outputs": [],
   "source": [
    "# Figura principal\n",
    "fig, ax = plt.subplots(figsize=(8, 8), subplot_kw={\"aspect\": 1})\n",
    "\n",
    "# Diagrama de dispersión\n",
    "im = ax.scatter(x=sampleXY[:, 0], y=sampleXY[:, 1], c=sampleAu, edgecolor=\"black\", cmap=\"jet\", s=30)\n",
    "\n",
    "# Barra de colores\n",
    "cbar = fig.colorbar(im, ax=ax, ticks=np.linspace(sampleAu.min(), sampleAu.max(), 9))\n",
    "cbar.ax.set_title(\"Au (ppm)\", fontsize=15, y=1.01)\n",
    "\n",
    "# Texto\n",
    "ax.set_xlabel(\"Este (m)\", fontsize=18)\n",
    "ax.set_ylabel(\"Norte (m)\", fontsize=18)\n",
    "ax.set_title(\"Leyes de Au\", fontsize=22, y=1.01)\n",
    "\n",
    "# Grilla\n",
    "ax.grid()\n",
    "ax.set_axisbelow(True) # Puntos por encima de la grilla\n",
    "\n",
    "plt.show()"
   ]
  },
  {
   "cell_type": "markdown",
   "id": "eeb9e49b-391b-4c9a-8282-d07964cf98bd",
   "metadata": {},
   "source": [
    "## **Grilla 2D para la interpolación**\n",
    "\n",
    "Estableceremos una grilla de puntos para realizar la interpolación 2D:\n",
    "- La grilla tendrá 26 x 30 = 780 puntos.\n",
    "- La distancia entre puntos será de 10 metros en ambas direcciones (X e Y).\n",
    "- El primer punto (ubicado en la esquina inferior izquierda de la grilla) tendrá las coordenadas (5, 5).\n",
    "- La extensión total de la grilla será de 260 m x 300 m."
   ]
  },
  {
   "cell_type": "code",
   "execution_count": null,
   "id": "3bcd8cbe-c8ef-4faa-ba1a-b49801fe2d66",
   "metadata": {},
   "outputs": [],
   "source": [
    "# Extensión de la grilla\n",
    "nx, ny = 26, 30 \n",
    "\n",
    "# Distancia entre cada punto\n",
    "dx, dy = 10, 10 \n",
    "\n",
    "# Punto inferior izquierdo\n",
    "xmin, ymin = 5, 5\n",
    "\n",
    "# Punto superior derecho\n",
    "xmax = xmin + (nx * dx)\n",
    "ymax = ymin + (ny * dy)"
   ]
  },
  {
   "cell_type": "markdown",
   "id": "e85f3201-86e2-4126-b2db-7023cac23590",
   "metadata": {},
   "source": [
    "Almacenaremos los puntos en un arreglo de nombre `gridXY`:"
   ]
  },
  {
   "cell_type": "code",
   "execution_count": null,
   "id": "3bd5b7ea-9841-462f-adc3-219767bcf54b",
   "metadata": {},
   "outputs": [],
   "source": [
    "# Ubicación de todos los puntos en la grilla\n",
    "xx, yy = np.meshgrid(np.arange(xmin, xmax, dx), np.arange(ymin, ymax, dy), indexing=\"ij\")\n",
    "gridXY = np.array([xx.ravel(), yy.ravel()])\n",
    "print(gridXY.shape)"
   ]
  },
  {
   "cell_type": "markdown",
   "id": "be535fff-eb39-45f3-a4bd-d0a4062ebaa4",
   "metadata": {},
   "source": [
    "La grilla tiene 2 dimensiones y contiene 26 x 30 = 780 puntos en total.\n",
    "\n",
    "Usando este arreglo y la figura anterior, visualizaremos la grilla de estimación:"
   ]
  },
  {
   "cell_type": "code",
   "execution_count": null,
   "id": "2c98a0f5-9249-4306-9ecc-30e463112082",
   "metadata": {},
   "outputs": [],
   "source": [
    "# Figura principal\n",
    "fig, ax = plt.subplots(figsize=(8, 8), subplot_kw={\"aspect\": 1})\n",
    "\n",
    "# Diagrama de dispersión\n",
    "ax.scatter(gridXY[0], gridXY[1], c=\"gray\", s=30)\n",
    "im = ax.scatter(x=sampleXY[:, 0], y=sampleXY[:, 1], c=sampleAu, edgecolor=\"black\", cmap=\"jet\", s=30)\n",
    "\n",
    "# Barra de colores\n",
    "cbar = fig.colorbar(im, ax=ax, ticks=np.linspace(sampleAu.min(), sampleAu.max(), 9))\n",
    "cbar.ax.set_title(\"Au (ppm)\", fontsize=15, y=1.01)\n",
    "\n",
    "# Texto\n",
    "ax.set_xlabel(\"Este (m)\", fontsize=18)\n",
    "ax.set_ylabel(\"Norte (m)\", fontsize=18)\n",
    "ax.set_title(\"Grilla de interpolación 2D\", fontsize=22, y=1.01)\n",
    "\n",
    "# Grilla\n",
    "ax.grid()\n",
    "ax.set_axisbelow(True)\n",
    "\n",
    "plt.show()"
   ]
  },
  {
   "cell_type": "markdown",
   "id": "5ed323f2-a96a-4dff-8478-f12cfedcc55d",
   "metadata": {
    "tags": []
   },
   "source": [
    "## **Estimación usando el método IDW**\n",
    "Interpolaremos el valor de Au en cada punto de la grilla usando el método IDW sobre los valores de Au en las muestras.\\\n",
    "Usaremos la función de interpolación `idw2D`, desarrollada para este tutorial:"
   ]
  },
  {
   "cell_type": "code",
   "execution_count": null,
   "id": "39bc389b-a1c3-4548-8193-13370e1e715e",
   "metadata": {},
   "outputs": [],
   "source": [
    "def idw2D(sampleXY: np.ndarray, sampleVar: np.ndarray, gridXY: np.ndarray, nsamples: int = 3, power: int = 1) -> np.ndarray:\n",
    "    \"\"\"    Interpolación usando el método IDW en 2 dimensiones.\\n\n",
    "    Parámetros\n",
    "    ----------\n",
    "    sampleXY : np.ndarray, arreglo con la ubicación de las muestras en 2D.\n",
    "    sampleVar : np.ndarray, arreglo con los valores de la variable regionalizada.\n",
    "    gridXY : np.ndarray, arreglo con la ubicación de los puntos que conforman la grilla de interpolación.\n",
    "    nsamples: int, representa el número de muestras cercanas utilizadas en la interpolación.\n",
    "    power: int, representa el exponente que será usado para calcular los factores de ponderación.\\n\n",
    "    \"\"\" \n",
    "    assert nsamples >= 2, \"nsamples debe ser mayor a 2\"\n",
    "    assert power >= 0, \"power debe ser mayor o igual a 0\"\n",
    "    \n",
    "    gridVar = []\n",
    "    \n",
    "    for point in zip(gridXY[0], gridXY[1]):\n",
    "        # Ubicación de n puntos cercanos\n",
    "        kdt = KDTree(sampleXY)\n",
    "        d, k = kdt.query(point, k=nsamples)\n",
    "        nearest = kdt.data[k]\n",
    "        \n",
    "        # Interpolación IDW\n",
    "        if point not in nearest:\n",
    "            wts = 1 / np.power(d, power)\n",
    "            wts /= wts.sum(axis=0)\n",
    "            var = sampleVar[k]\n",
    "            value = np.sum(var * wts)\n",
    "            gridVar.append(value)\n",
    "        \n",
    "        # Si el punto coincide con la ubicación de una muestra\n",
    "        else: \n",
    "            value = sampleVar[k[0]]\n",
    "            gridVar.append(value)\n",
    "    \n",
    "    gridVar = np.array(gridVar)\n",
    "    \n",
    "    return gridVar"
   ]
  },
  {
   "cell_type": "code",
   "execution_count": null,
   "id": "557579a2-2d3e-4912-b484-cb6c6777302b",
   "metadata": {},
   "outputs": [],
   "source": [
    "print(idw2D.__doc__)"
   ]
  },
  {
   "cell_type": "code",
   "execution_count": null,
   "id": "bad46cd8-b1fd-4452-a0ef-cafae49e12da",
   "metadata": {},
   "outputs": [],
   "source": [
    "gridAu = idw2D(sampleXY=sampleXY, sampleVar=sampleAu, gridXY=gridXY, nsamples=3, power=1)\n",
    "gridAu.shape"
   ]
  },
  {
   "cell_type": "markdown",
   "id": "8fa8cb51-1128-4f49-a546-3002e2d5c628",
   "metadata": {},
   "source": [
    "La variable `gridAu` contiene los 780 puntos de la grilla, interpolados con los valores de Au en la muestras.\\\n",
    "Ahora, visualizaremos estos valores interpolados:"
   ]
  },
  {
   "cell_type": "code",
   "execution_count": null,
   "id": "3ff1dce1-a590-4893-9429-55873d95d3df",
   "metadata": {},
   "outputs": [],
   "source": [
    "# Figura principal\n",
    "fig, ax = plt.subplots(figsize=(8, 8), subplot_kw={\"aspect\": 1})\n",
    "\n",
    "# Diagrama de dispersión\n",
    "im = ax.scatter(gridXY[0], gridXY[1], c=gridAu, edgecolor=\"black\", cmap=\"jet\", marker=\"s\", s=120)\n",
    "ax.scatter(sampleXY[:, 0], sampleXY[:, 1], c=sampleAu, edgecolor=\"black\", cmap=\"jet\", s=25)\n",
    "\n",
    "# Barra de colores\n",
    "cbar = fig.colorbar(im, ax=ax, ticks=np.linspace(gridAu.min(), gridAu.max(), 9))\n",
    "cbar.ax.set_title(\"Au (ppm)\", fontsize=15, y=1.01)\n",
    "\n",
    "# Texto\n",
    "ax.set_xlabel(\"Este (m)\", fontsize=18)\n",
    "ax.set_ylabel(\"Norte (m)\", fontsize=18)\n",
    "ax.set_title(\"Interpolación de leyes de Au\", fontsize=22, y=1.01)\n",
    "\n",
    "# Grilla\n",
    "ax.grid()\n",
    "ax.set_axisbelow(True)\n",
    "\n",
    "plt.show()"
   ]
  },
  {
   "cell_type": "markdown",
   "id": "65d08236-1c5e-4a40-931e-972c3f2b3bd6",
   "metadata": {},
   "source": [
    "Como podemos observar, el método IDW nos permite estimar los valores de Au en puntos que no han sido muestreados.\\\n",
    "Por último, podemos realizar una visualización interactiva y variar los parámetros `nsamples` y `power` de la función `idw2D`:"
   ]
  },
  {
   "cell_type": "code",
   "execution_count": null,
   "id": "4b787654-8af5-4013-bb76-1adbc8f8a782",
   "metadata": {},
   "outputs": [],
   "source": [
    "from ipywidgets import interact"
   ]
  },
  {
   "cell_type": "code",
   "execution_count": null,
   "id": "24693343-49ab-44d1-bbdc-5427fcb79b55",
   "metadata": {},
   "outputs": [],
   "source": [
    "def plot_idw2D(nsamples, power):\n",
    "    gridAu = idw2D(sampleXY, sampleAu, gridXY, nsamples, power)\n",
    "    \n",
    "    # Figura principal\n",
    "    fig, ax = plt.subplots(figsize=(8, 8), subplot_kw={\"aspect\": 1})\n",
    "\n",
    "    # Diagrama de dispersión\n",
    "    im = ax.scatter(gridXY[0], gridXY[1], c=gridAu, edgecolor=\"black\", cmap=\"jet\", marker=\"s\", s=120)\n",
    "    ax.scatter(sampleXY[:, 0], sampleXY[:, 1], c=sampleAu, edgecolor=\"black\", cmap=\"jet\", s=25)\n",
    "    \n",
    "    # Barra de colores\n",
    "    cbar = fig.colorbar(im, ax=ax, ticks=np.linspace(gridAu.min(), gridAu.max(), 9))\n",
    "    cbar.ax.set_title(\"Au (ppm)\", fontsize=15, y=1.01)\n",
    "\n",
    "    # Texto\n",
    "    ax.set_xlabel(\"Este (m)\", fontsize=18)\n",
    "    ax.set_ylabel(\"Norte (m)\", fontsize=18)\n",
    "    ax.set_title(\"Interpolación de leyes de Au\", fontsize=22, y=1.01)\n",
    "\n",
    "    # Grilla\n",
    "    ax.grid()\n",
    "    ax.set_axisbelow(True)\n",
    "\n",
    "    plt.show()\n",
    "\n",
    "interact(plot_idw2D, nsamples=(2, 10, 1), power=(0, 3, 1));"
   ]
  },
  {
   "cell_type": "markdown",
   "id": "d6c499e1-5533-49aa-9027-238d252982e4",
   "metadata": {},
   "source": [
    "***"
   ]
  }
 ],
 "metadata": {
  "kernelspec": {
   "display_name": "Python 3 (ipykernel)",
   "language": "python",
   "name": "python3"
  },
  "language_info": {
   "codemirror_mode": {
    "name": "ipython",
    "version": 3
   },
   "file_extension": ".py",
   "mimetype": "text/x-python",
   "name": "python",
   "nbconvert_exporter": "python",
   "pygments_lexer": "ipython3",
   "version": "3.8.10"
  }
 },
 "nbformat": 4,
 "nbformat_minor": 5
}

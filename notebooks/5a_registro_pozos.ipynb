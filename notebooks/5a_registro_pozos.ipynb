{
 "cells": [
  {
   "cell_type": "markdown",
   "id": "00e60caf-9a85-4a34-9070-31cf5b7cd649",
   "metadata": {},
   "source": [
    "# **Visualizando registros de pozo**\n",
    "***\n",
    "\n",
    "### **Editado por: Kevin Alexander Gómez**\n",
    "#### Contacto: kevinalexandr19@gmail.com | [Linkedin](https://www.linkedin.com/in/kevin-alexander-g%C3%B3mez-2b0263111/) | [Github](https://github.com/kevinalexandr19)\n",
    "***"
   ]
  },
  {
   "cell_type": "markdown",
   "id": "19204e35-7a3d-4f92-8ce9-47cca8eb8ca8",
   "metadata": {},
   "source": [
    "### **Descripción**\n",
    "\n",
    "En este tutorial, aprenderás a visualizar registros de pozo usando Matplotlib.\\\n",
    "Es recomendable haber terminado primero el [tutorial de Matplotlib](2c_matplotlib.ipynb).\n",
    "\n",
    "Este Notebook es parte del [**Manual de Python aplicado a la Geología**](https://github.com/kevinalexandr19/manual-python-geologia), y ha sido creado con la finalidad de facilitar el aprendizaje en Python para estudiantes y profesionales en el campo de la Geología.\n",
    "\n",
    "***"
   ]
  },
  {
   "cell_type": "markdown",
   "id": "66eae54d-19d3-4588-8b87-51f261d420e3",
   "metadata": {},
   "source": [
    "## ¿Qué es un registro de pozo?\n",
    "\n",
    "Un registro de pozo es una medición in-situ de las propiedades físicas del subsuelo en función de la profundidad.\n",
    "\n",
    "Podemos graficar un registro de pozo para realizar el análisis e interpretación de los datos en el subsuelo.\n",
    "\n",
    "Sus aplicaciones principales se encuentran en geofísica, minería, hidrogeología e hidrocarburos.\n",
    "\n",
    "<img src=\"resources/well_log_illustration.png\" alt=\"Las 4 fases en el análisis de datos\" width=\"600\"/>"
   ]
  },
  {
   "cell_type": "markdown",
   "id": "ec887297-bd8a-4687-bfc8-19b3253e9c27",
   "metadata": {},
   "source": [
    "## Cargando la información del pozo\n",
    "\n",
    "Para este tutorial, usaremos el archivo `registro_pozos.csv` que cuenta con datos de profundidad, densidad, gamma-ray, porosidad neutrón y resistividad.\n",
    "\n",
    "Primero, importaremos `pandas` y `matplotlib`:"
   ]
  },
  {
   "cell_type": "code",
   "execution_count": null,
   "id": "7131d070-0a26-49ac-9260-c3204cb954ac",
   "metadata": {},
   "outputs": [],
   "source": [
    "import pandas as pd\n",
    "import matplotlib.pyplot as plt"
   ]
  },
  {
   "cell_type": "markdown",
   "id": "47a0bb60-40cd-4a44-95a3-c5e7c492804a",
   "metadata": {},
   "source": [
    "Cargamos el archivo:"
   ]
  },
  {
   "cell_type": "code",
   "execution_count": null,
   "id": "299c3b5d-5b24-4455-9611-f93d9708dc01",
   "metadata": {},
   "outputs": [],
   "source": [
    "data = pd.read_csv(\"files/registro_pozos.csv\")"
   ]
  },
  {
   "cell_type": "markdown",
   "id": "01fba9a9-d471-4b18-9628-5607930d3ca2",
   "metadata": {},
   "source": [
    "Y ahora, mostramos la información:"
   ]
  },
  {
   "cell_type": "code",
   "execution_count": null,
   "id": "23de6613-72bc-4000-8385-c76759a48e23",
   "metadata": {},
   "outputs": [],
   "source": [
    "data.head()"
   ]
  },
  {
   "cell_type": "markdown",
   "id": "aab49e3e-1315-499d-b28a-fc0938f8b951",
   "metadata": {},
   "source": [
    "## Visualizando la información del pozo\n",
    "Empezaremos visualizando la columna de `Densidad Aparente` usando la función `plot` de `matplotlib`:"
   ]
  },
  {
   "cell_type": "code",
   "execution_count": null,
   "id": "8f7de841-81aa-4cf8-8e14-c1754074a08d",
   "metadata": {},
   "outputs": [],
   "source": [
    "plt.plot(data[\"Densidad Aparente\"], data[\"Profundidad\"])\n",
    "plt.show()"
   ]
  },
  {
   "cell_type": "markdown",
   "id": "29c98782-7883-4ba9-9971-e9f808d7a441",
   "metadata": {},
   "source": [
    "Mejoraremos la figura usando la función `figure` y el parámetro `figsize` para cambiar el tamaño de la figura:"
   ]
  },
  {
   "cell_type": "code",
   "execution_count": null,
   "id": "eb927d62-8ed0-44da-bceb-11aeb8d42c2c",
   "metadata": {},
   "outputs": [],
   "source": [
    "plt.figure(figsize=(5, 11))\n",
    "plt.plot(data[\"Densidad Aparente\"], data[\"Profundidad\"])\n",
    "plt.show()"
   ]
  },
  {
   "cell_type": "markdown",
   "id": "fcfdae1a-557f-4e7a-b12f-d97dc75bfb36",
   "metadata": {},
   "source": [
    "También podemos modificar el grosor de la línea con el parámetro `linewidth` o `lw` y el color con `c`:"
   ]
  },
  {
   "cell_type": "code",
   "execution_count": null,
   "id": "2e1f50a4-ee3e-456a-ad70-2029e2c96462",
   "metadata": {},
   "outputs": [],
   "source": [
    "plt.figure(figsize=(5, 11))\n",
    "plt.plot(data[\"Densidad Aparente\"], data[\"Profundidad\"], lw=1, c=\"green\")\n",
    "plt.show()"
   ]
  },
  {
   "cell_type": "markdown",
   "id": "6741668e-e4ac-4156-8d6e-f38341cf8ae6",
   "metadata": {},
   "source": [
    "Podemos agregar una grilla usando la función `grid`: "
   ]
  },
  {
   "cell_type": "code",
   "execution_count": null,
   "id": "6ad30aae-3a8c-457d-898e-32cd776d8688",
   "metadata": {},
   "outputs": [],
   "source": [
    "plt.figure(figsize=(5, 11))\n",
    "plt.plot(data[\"Densidad Aparente\"], data[\"Profundidad\"], lw=1, c=\"green\")\n",
    "plt.grid()\n",
    "plt.show()"
   ]
  },
  {
   "cell_type": "markdown",
   "id": "aa7e9dde-1b27-4859-8d4b-32c96915a4f6",
   "metadata": {},
   "source": [
    "Podemos agregar una columna adicional usando la función `subplots` y los parámetros `nrows` y `ncols` para especificar la cantidad de filas y columnas respectivamente.\\\n",
    "Ahora, agregaremos la columna de `Gamma Ray`:"
   ]
  },
  {
   "cell_type": "code",
   "execution_count": null,
   "id": "5ea0c191-e966-4c1b-bd9c-5645ebea9f59",
   "metadata": {},
   "outputs": [],
   "source": [
    "fig, axs = plt.subplots(nrows=1, ncols=2, figsize=(10, 11))\n",
    "\n",
    "axs[0].plot(data[\"Densidad Aparente\"], data[\"Profundidad\"], lw=1, c=\"green\")\n",
    "axs[0].grid()\n",
    "\n",
    "axs[1].plot(data[\"Gamma Ray\"], data[\"Profundidad\"], lw=1, c=\"red\")\n",
    "axs[1].grid()\n",
    "\n",
    "plt.show()"
   ]
  },
  {
   "cell_type": "markdown",
   "id": "125038b3-2f41-4617-9227-8216ccd7acc0",
   "metadata": {},
   "source": [
    "También agregaremos la columna de `Porosidad Neutrón`:"
   ]
  },
  {
   "cell_type": "code",
   "execution_count": null,
   "id": "cfce2bcc-b709-46e4-9ea4-08bd3954edef",
   "metadata": {},
   "outputs": [],
   "source": [
    "fig, axs = plt.subplots(nrows=1, ncols=3, figsize=(15, 11))\n",
    "\n",
    "axs[0].plot(data[\"Densidad Aparente\"], data[\"Profundidad\"], lw=1, c=\"green\")\n",
    "axs[0].grid()\n",
    "\n",
    "axs[1].plot(data[\"Gamma Ray\"], data[\"Profundidad\"], lw=1, c=\"red\")\n",
    "axs[1].grid()\n",
    "\n",
    "axs[2].plot(data[\"Porosidad Neutrón\"], data[\"Profundidad\"], lw=1, c=\"blue\")\n",
    "axs[2].grid()\n",
    "\n",
    "plt.show()"
   ]
  },
  {
   "cell_type": "markdown",
   "id": "1691003e-e83c-4dac-ad72-989e86a93c48",
   "metadata": {},
   "source": [
    "Podemos agregar un título a cada figura usando la función `set_title` y el parámetro `fontsize` para cambiar el tamaño del texto:"
   ]
  },
  {
   "cell_type": "code",
   "execution_count": null,
   "id": "37f8c4a3-1b8b-4a2c-aad6-c2ec0804b2ae",
   "metadata": {},
   "outputs": [],
   "source": [
    "fig, axs = plt.subplots(nrows=1, ncols=3, figsize=(15, 11))\n",
    "\n",
    "axs[0].plot(data[\"Densidad Aparente\"], data[\"Profundidad\"], lw=1, c=\"green\")\n",
    "axs[0].grid()\n",
    "axs[0].set_title(\"Densidad Aparente\", fontsize=18)\n",
    "\n",
    "axs[1].plot(data[\"Gamma Ray\"], data[\"Profundidad\"], lw=1, c=\"red\")\n",
    "axs[1].grid()\n",
    "axs[1].set_title(\"Gamma Ray\", fontsize=18)\n",
    "\n",
    "axs[2].plot(data[\"Porosidad Neutrón\"], data[\"Profundidad\"], lw=1, c=\"blue\")\n",
    "axs[2].grid()\n",
    "axs[2].set_title(\"Porosidad Neutrón\", fontsize=18)\n",
    "\n",
    "plt.show()"
   ]
  },
  {
   "cell_type": "markdown",
   "id": "0c766b7a-a11e-4308-8797-b4d18ae64958",
   "metadata": {},
   "source": [
    "También, podemos recortar la altura del gráfico, para esto, necesitamos los valores iniciales y finales de profundidad:"
   ]
  },
  {
   "cell_type": "code",
   "execution_count": null,
   "id": "56a6c3ee-8947-4211-93b2-4f1fcdbe2fd7",
   "metadata": {},
   "outputs": [],
   "source": [
    "z_min = data[\"Profundidad\"].min()\n",
    "z_max = data[\"Profundidad\"].max()"
   ]
  },
  {
   "cell_type": "code",
   "execution_count": null,
   "id": "7511aeee-1653-443e-a4aa-f7dbb2a48618",
   "metadata": {},
   "outputs": [],
   "source": [
    "print(f\"La profundidad varía entre {z_min} y {z_max}\")"
   ]
  },
  {
   "cell_type": "markdown",
   "id": "3422a3d7-2314-4b06-8d84-aca79e654228",
   "metadata": {},
   "source": [
    "Ahora, recortaremos la altura usando la función `set_ylim`:"
   ]
  },
  {
   "cell_type": "code",
   "execution_count": null,
   "id": "378aaa5b-6002-418b-a75c-cf856cb0deb4",
   "metadata": {},
   "outputs": [],
   "source": [
    "fig, axs = plt.subplots(nrows=1, ncols=3, figsize=(15, 11))\n",
    "\n",
    "axs[0].plot(data[\"Densidad Aparente\"], data[\"Profundidad\"], lw=1, c=\"green\")\n",
    "axs[0].grid()\n",
    "axs[0].set_title(\"Densidad Aparente\", fontsize=18)\n",
    "axs[0].set_ylim([z_min, z_max])\n",
    "\n",
    "axs[1].plot(data[\"Gamma Ray\"], data[\"Profundidad\"], lw=1, c=\"red\")\n",
    "axs[1].grid()\n",
    "axs[1].set_title(\"Gamma Ray\", fontsize=18)\n",
    "axs[1].set_ylim([z_min, z_max])\n",
    "\n",
    "axs[2].plot(data[\"Porosidad Neutrón\"], data[\"Profundidad\"], lw=1, c=\"blue\")\n",
    "axs[2].grid()\n",
    "axs[2].set_title(\"Porosidad Neutrón\", fontsize=18)\n",
    "axs[2].set_ylim([z_min, z_max])\n",
    "\n",
    "plt.show()"
   ]
  },
  {
   "cell_type": "markdown",
   "id": "6cd92f44-7095-4e74-a77f-b877e531245f",
   "metadata": {},
   "source": [
    "Por último, agregaremos un título en la parte superior de la figura usando la función `suptitle`:"
   ]
  },
  {
   "cell_type": "code",
   "execution_count": null,
   "id": "38bdb3e6-081c-46a2-bc0b-5e3c277704a5",
   "metadata": {},
   "outputs": [],
   "source": [
    "fig, axs = plt.subplots(nrows=1, ncols=3, figsize=(15, 11))\n",
    "\n",
    "axs[0].plot(data[\"Densidad Aparente\"], data[\"Profundidad\"], lw=1, c=\"green\")\n",
    "axs[0].grid()\n",
    "axs[0].set_title(\"Densidad Aparente\", fontsize=18)\n",
    "axs[0].set_ylim([z_min, z_max])\n",
    "\n",
    "axs[1].plot(data[\"Gamma Ray\"], data[\"Profundidad\"], lw=1, c=\"red\")\n",
    "axs[1].grid()\n",
    "axs[1].set_title(\"Gamma Ray\", fontsize=18)\n",
    "axs[1].set_ylim([z_min, z_max])\n",
    "\n",
    "axs[2].plot(data[\"Porosidad Neutrón\"], data[\"Profundidad\"], lw=1, c=\"blue\")\n",
    "axs[2].grid()\n",
    "axs[2].set_title(\"Porosidad Neutrón\", fontsize=18)\n",
    "axs[2].set_ylim([z_min, z_max])\n",
    "\n",
    "fig.suptitle(\"Registros de pozo\", fontsize=35)\n",
    "\n",
    "plt.show()"
   ]
  }
 ],
 "metadata": {
  "kernelspec": {
   "display_name": "Python 3 (ipykernel)",
   "language": "python",
   "name": "python3"
  },
  "language_info": {
   "codemirror_mode": {
    "name": "ipython",
    "version": 3
   },
   "file_extension": ".py",
   "mimetype": "text/x-python",
   "name": "python",
   "nbconvert_exporter": "python",
   "pygments_lexer": "ipython3",
   "version": "3.8.10"
  }
 },
 "nbformat": 4,
 "nbformat_minor": 5
}

{
 "cells": [
  {
   "cell_type": "markdown",
   "id": "08a1f78b-c5b0-4ede-bff1-e5e33b3d5ddc",
   "metadata": {},
   "source": [
    "# **Matplotlib**\n",
    "***\n",
    "\n",
    "### **Editado por: Kevin Alexander Gómez**\n",
    "#### Contacto: kevinalexandr19@gmail.com | [Linkedin](https://www.linkedin.com/in/kevin-alexander-g%C3%B3mez-2b0263111/) | [Github](https://github.com/kevinalexandr19)\n",
    "***"
   ]
  },
  {
   "cell_type": "markdown",
   "id": "85a64587-9351-4e15-9c59-27414571d4dd",
   "metadata": {},
   "source": [
    "### **Descripción**\n",
    "\n",
    "Usando este manual, aprenderás a usar Matplotlib, una librería fundamental para la visualización de datos en Python.\n",
    "\n",
    "Este Notebook es parte del [**Manual de Python aplicado a la Geología**](https://github.com/kevinalexandr19/manual-python-geologia), y ha sido creado con la finalidad de facilitar el aprendizaje en Python para estudiantes y profesionales en el campo de la Geología.\n",
    "***"
   ]
  },
  {
   "cell_type": "markdown",
   "id": "79d5e670-a7ee-406c-a703-b0412bb864dd",
   "metadata": {},
   "source": [
    "Empezaremos importando el módulo de figuras de `matplotlib` llamado `pyplot`: \n",
    "> Usaremos `plt` como una referencia abreviada del módulo.\\\n",
    "> También importaremos `numpy`."
   ]
  },
  {
   "cell_type": "code",
   "execution_count": null,
   "id": "80dc1e09-76d8-4da7-9c3e-0f037626ed62",
   "metadata": {},
   "outputs": [],
   "source": [
    "import matplotlib.pyplot as plt\n",
    "import numpy as np"
   ]
  },
  {
   "cell_type": "markdown",
   "id": "8ce1ba4f-1787-4b9a-884c-60b3a2b3c0a7",
   "metadata": {},
   "source": [
    "Para los ejemplos de visualización, usaremos las siguientes funciones:\n",
    "- `subplots`: crea el espacio para una o varias figuras ordenadas en filas y columnas.\n",
    "- `scatter`: crea un diagrama de dispersión de puntos.\n",
    "- `plot`: crea una figura de líneas.\n",
    "- `bar`: crea un diagrama de barras.\n",
    "- `hist`: crea un histograma.\n",
    "- `boxplot` y `violinplot`: crean figuras que nos ayudan a visualizar la distribución de los datos.\n",
    "\n",
    "Matplotlib es una librería fuertemente orientada a objetos, por lo tanto, usaremos identificadores.\\\n",
    "Para identificar las figuras, usaremos los siguientes nombres:\n",
    "- `fig`: referencia el cuadro general de la figura.\n",
    "- `axs` o `ax`: referencian a las subfiguras creadas."
   ]
  },
  {
   "cell_type": "markdown",
   "id": "7c78c62c-e07d-469a-a80e-45f3aaa6b93e",
   "metadata": {},
   "source": [
    "### **1. Diagrama de dispersión**"
   ]
  },
  {
   "cell_type": "code",
   "execution_count": null,
   "id": "0b868f8a-99fe-4237-b8eb-b34389294346",
   "metadata": {},
   "outputs": [],
   "source": [
    "x = np.random.randn(1, 50)\n",
    "y = 3*x + np.random.randn(1, 50)\n",
    "\n",
    "\n",
    "fig, ax = plt.subplots(figsize=(6, 6))\n",
    "ax.scatter(x, y)\n",
    "plt.show()"
   ]
  },
  {
   "cell_type": "markdown",
   "id": "0409f17a-66b9-43ac-aa11-ffe5736b1315",
   "metadata": {},
   "source": [
    "### **2. Figura de líneas**\n",
    "\n",
    "Usaremos además el método `legend` para agregar una leyenda y `fontsize` para modificar el tamaño de letra."
   ]
  },
  {
   "cell_type": "code",
   "execution_count": null,
   "id": "18968232-b0a0-4640-8dfa-d44525707195",
   "metadata": {},
   "outputs": [],
   "source": [
    "x = np.arange(1, 11, 1)\n",
    "y = x ** 2\n",
    "z = x ** 3\n",
    "\n",
    "fig, ax = plt.subplots(figsize=(6, 6))\n",
    "ax.plot(x, y, label=\"$x^{2}$\")\n",
    "ax.plot(x, z, label=\"$x^{3}$\")\n",
    "\n",
    "ax.legend(fontsize=16)\n",
    "plt.show()"
   ]
  },
  {
   "cell_type": "markdown",
   "id": "d810076e-d2e4-45c7-9357-3a8794bb05be",
   "metadata": {},
   "source": [
    "### **3. Diagrama de barras**"
   ]
  },
  {
   "cell_type": "code",
   "execution_count": null,
   "id": "a89f6521-f3f1-4a86-beed-6be2957757d1",
   "metadata": {},
   "outputs": [],
   "source": [
    "x = np.array([\"A\", \"B\", \"C\"])\n",
    "y = np.random.randint(1, 100, (3,))\n",
    "\n",
    "fig, ax = plt.subplots(figsize=(6, 6))\n",
    "ax.bar(x, y)\n",
    "plt.show()"
   ]
  },
  {
   "cell_type": "markdown",
   "id": "04a8202d-708c-4d5e-af84-9e1deb0f3a54",
   "metadata": {},
   "source": [
    "### **4. Histograma**"
   ]
  },
  {
   "cell_type": "code",
   "execution_count": null,
   "id": "e2196a45-c291-4265-b345-5772dfb46cf8",
   "metadata": {},
   "outputs": [],
   "source": [
    "x = np.random.randn(10000,)\n",
    "\n",
    "fig, ax = plt.subplots(figsize=(6, 6))\n",
    "ax.hist(x, bins=20)\n",
    "plt.show()"
   ]
  },
  {
   "cell_type": "markdown",
   "id": "01a5bc99-6939-4511-b330-b0f1e6c5e87b",
   "metadata": {},
   "source": [
    "### **5. Boxplot**"
   ]
  },
  {
   "cell_type": "code",
   "execution_count": null,
   "id": "aa5105f9-2fd9-404f-a076-02bc429b24ab",
   "metadata": {},
   "outputs": [],
   "source": [
    "x = np.random.randn(10000,)\n",
    "y = 2*x + 1\n",
    "z = 2 - x\n",
    "\n",
    "fig, ax = plt.subplots(figsize=(6, 6))\n",
    "ax.boxplot([x, y, z])\n",
    "plt.show()"
   ]
  },
  {
   "cell_type": "markdown",
   "id": "ba7aba1e-4629-46a3-9f50-cb0207a761c3",
   "metadata": {},
   "source": [
    "### **6. Violinplot**"
   ]
  },
  {
   "cell_type": "code",
   "execution_count": null,
   "id": "2c1230aa-b517-48f9-a605-18cdceb04107",
   "metadata": {},
   "outputs": [],
   "source": [
    "x = np.random.randn(10000,)\n",
    "y = 2*x + 1\n",
    "z = 2 - x\n",
    "\n",
    "fig, ax = plt.subplots(figsize=(6, 6))\n",
    "ax.violinplot([x, y, z])\n",
    "plt.show()"
   ]
  }
 ],
 "metadata": {
  "kernelspec": {
   "display_name": "Python 3 (ipykernel)",
   "language": "python",
   "name": "python3"
  },
  "language_info": {
   "codemirror_mode": {
    "name": "ipython",
    "version": 3
   },
   "file_extension": ".py",
   "mimetype": "text/x-python",
   "name": "python",
   "nbconvert_exporter": "python",
   "pygments_lexer": "ipython3",
   "version": "3.8.10"
  }
 },
 "nbformat": 4,
 "nbformat_minor": 5
}

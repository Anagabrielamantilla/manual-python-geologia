{
 "cells": [
  {
   "cell_type": "markdown",
   "id": "ac0cd5ce-73fd-4197-b14d-b6a9737ff10f",
   "metadata": {
    "tags": []
   },
   "source": [
    "# <span style=\"color:gold\">**Plantilla para la visualización de sondajes en 3D**</span>\n",
    "***\n",
    "\n",
    "### **Editado por: Kevin Alexander Gómez**\n",
    "#### Contacto: kevinalexandr19@gmail.com | [Linkedin](https://www.linkedin.com/in/kevin-alexander-g%C3%B3mez-2b0263111/) | [Github](https://github.com/kevinalexandr19)\n",
    "***"
   ]
  },
  {
   "cell_type": "markdown",
   "id": "3f2c53c4-aba2-4257-bcc8-329f5667d8db",
   "metadata": {
    "tags": []
   },
   "source": [
    "### **Descripción**\n",
    "\n",
    "Esta plantilla fue desarrollada para ayudar en la visualización de sondajes en 3D usando el módulo <span style=\"color:gold\">sondaje3d.py</span>.\n",
    "\n",
    "Este Notebook es parte del proyecto [**Python para Geólogos**](https://github.com/kevinalexandr19/manual-python-geologia).\n",
    "***"
   ]
  },
  {
   "cell_type": "markdown",
   "id": "5f13b4b9-4c78-4f58-9877-727f2fdb8845",
   "metadata": {},
   "source": [
    "### **Requerimientos para ejecutar el programa**\n",
    "- Colocar este notebook y el módulo `sondaje3d.py` en una misma carpeta\n",
    "- Usar Python 3.8 en adelante\n",
    "- Librerías a instalar:\n",
    "    - numpy\n",
    "    - pandas\n",
    "    - scipy\n",
    "    - tqdm\n",
    "    - plotly"
   ]
  },
  {
   "cell_type": "markdown",
   "id": "71e63ff9-7c7d-4e68-b5cf-9939ab57ae1a",
   "metadata": {},
   "source": [
    "## **Paso 1: cargar las librerías y los archivos de sondajes**\n",
    "\n",
    "Asegurarse que este notebook y el módulo `sondaje3d.py` se encuentren dentro de una misma carpeta.\n",
    "\n",
    "Empezar importando `pandas`, `os` y la función `DrillData` del módulo `sondaje3d`.\n",
    "> Para ejecutar un bloque de código, presione las teclas `shift` + `Enter`."
   ]
  },
  {
   "cell_type": "code",
   "execution_count": 2,
   "id": "a656861c-a6c5-44d3-a7d9-5c7f2b3da0e6",
   "metadata": {},
   "outputs": [],
   "source": [
    "import os\n",
    "import pandas as pd\n",
    "from files.sondaje3d import DrillData"
   ]
  },
  {
   "cell_type": "markdown",
   "id": "8706e1c8-5373-445c-8a1e-9187bae2de55",
   "metadata": {},
   "source": [
    "Buscar la dirección completa de la carpeta que contiene los archivos de sondajes.\\\n",
    "Colocar esta dirección en la variable `ruta`:"
   ]
  },
  {
   "cell_type": "code",
   "execution_count": null,
   "id": "d108b411-10c7-4552-88c0-b035c9b556f0",
   "metadata": {},
   "outputs": [],
   "source": [
    "ruta = \"Inserte la ruta completa de la carpeta con la información de sondajes\"\n",
    "os.chdir(ruta)"
   ]
  },
  {
   "cell_type": "markdown",
   "id": "5235f1ae-ccc2-4c8c-85d5-92660217eedd",
   "metadata": {},
   "source": [
    "Para visualizar los sondajes en 3D, se necesitan 3 archivos:\n",
    "- El archivo **collar**, cuyo nombre por defecto es `collar.csv`\n",
    "- El archivo **survey**, cuyo nombre por defecto es `survey.csv`\n",
    "- El archivo con información geológica para visualizar (litología, alteración, etc.).\n",
    "\n",
    "> Nota: por el momento solo se pueden visualizar valores categóricos con esta herramienta\n",
    "\n",
    "Colocar los nombres de los archivos en las siguientes variables:"
   ]
  },
  {
   "cell_type": "code",
   "execution_count": null,
   "id": "600e2542-9ddf-4d69-bd23-252b7ae94c8d",
   "metadata": {},
   "outputs": [],
   "source": [
    "collar_file = \"Inserte el nombre del archivo de collar (ejm: collar.csv)\"\n",
    "survey_file = \"Inserte el nombre del archivo de survey (ejm: survey.csv)\"\n",
    "table_file = \"Inserte el nombre del archivo con información geológica (ejm: lith.csv)\"\n",
    "\n",
    "collar = pd.read_csv(collar_file)\n",
    "survey = pd.read_csv(survey_file)\n",
    "table = pd.read_csv(table_file)"
   ]
  },
  {
   "cell_type": "markdown",
   "id": "f0409775-ba4a-4456-a457-2ad88a7079b6",
   "metadata": {},
   "source": [
    "Usamos estos archivos para activar la función `DrillData`.\\\n",
    "En la variable `table_name`, se debe colocar un nombre para la tabla con información geológica (ejm: Litología, Alteración, etc.)."
   ]
  },
  {
   "cell_type": "code",
   "execution_count": null,
   "id": "c95dc8ad-b134-430e-a97c-12929d42e93f",
   "metadata": {},
   "outputs": [],
   "source": [
    "table_name = \"Inserte un nombre para describir la tabla\"\n",
    "\n",
    "data = DrillData(collar=collar,\n",
    "                 survey=survey,\n",
    "                 table=table,\n",
    "                 table_name=table_name)"
   ]
  },
  {
   "cell_type": "markdown",
   "id": "c313d5d6-73ee-4146-ac8d-2b7c898f77aa",
   "metadata": {},
   "source": [
    "## **Paso 2: validar la información de los archivos**\n",
    "\n",
    "Es importante que los archivos cumplan las siguientes condiciones:\n",
    "- Nombres de las columnas:\n",
    "    - Para `collar` las columnas deben tener los nombres: `ID`, `X`, `Y`, `Z`.\n",
    "    - Para `survey` las columnas deben tener los nombres: `ID`, `AT`, `AZ`, `DIP`\n",
    "    - Para `table` las columnas deben tener los nombres: `ID`, `FROM`, `TO`, y cualquier otra columna con valores categóricos\n",
    "- Tipos de datos en cada columna:\n",
    "    - La columna `ID` debe contener datos de tipo `string` o `object` (texto).\n",
    "    - Las columnas `X`, `Y`, `Z`, `AT`, `AZ`, `DIP`, `FROM` y `TO` deben contener datos de tipo `float` (numérico).\n",
    "- Los sondajes descritos en todos los archivos deben ser los mismos (ejm: sondaje \"A\" aparece en collar pero no en survey).\n",
    "- Cada sondaje debe tener por lo menos 2 entradas en `survey` (necesario para trazar la trayectoria del sondaje).\n",
    "\n",
    "\n",
    "Si usamos la función `validate`, el programa verificará que se cumplan estas condiciones y generará un resumen de los resultados:"
   ]
  },
  {
   "cell_type": "code",
   "execution_count": null,
   "id": "d0231116-5268-457e-9dbe-f8f0c59a6c18",
   "metadata": {},
   "outputs": [],
   "source": [
    "data.validate()"
   ]
  },
  {
   "cell_type": "markdown",
   "id": "6bcd061d-9ff2-4c9e-be40-c4a37059b5d2",
   "metadata": {},
   "source": [
    "Se debe modificar la información hasta que cumpla con las condiciones de validación."
   ]
  },
  {
   "cell_type": "markdown",
   "id": "531fc3e0-0cff-4147-a242-43d71bdc912e",
   "metadata": {},
   "source": [
    "## **Paso 3: Generar los puntos a usar para la visualización 3D**\n",
    "\n",
    "Si la información ha sido validada, entonces podemos usar la función `get_points` para generar el input del gráfico.\\\n",
    "En la variable `col`, se debe colocar el nombre de la columna de valores categóricos a visualizar:"
   ]
  },
  {
   "cell_type": "code",
   "execution_count": null,
   "id": "9561438b-c6f9-4455-8935-0fac0f0ef13a",
   "metadata": {},
   "outputs": [],
   "source": [
    "col = \"Inserte el nombre de la columna\"\n",
    "data.get_points(col)"
   ]
  },
  {
   "cell_type": "markdown",
   "id": "4c6494f0-46e8-4733-b09c-a7cc53edf700",
   "metadata": {},
   "source": [
    "## **Paso 4: Visualizar los sondajes en 3D**\n",
    "\n",
    "La función `plot_3d` permite visualizar los sondajes en 3D:\n",
    "> Clic izquierdo para girar la vista en 3D.\\\n",
    "> Shift + click derecho para mover la posición de la vista en 3D."
   ]
  },
  {
   "cell_type": "code",
   "execution_count": null,
   "id": "40f6475c-071b-4ca3-a63b-3aa20afc3ddc",
   "metadata": {},
   "outputs": [],
   "source": [
    "data.plot_3d()"
   ]
  },
  {
   "cell_type": "markdown",
   "id": "9c1dafeb-dbb9-4903-bb58-396da6883f23",
   "metadata": {},
   "source": [
    "***"
   ]
  }
 ],
 "metadata": {
  "kernelspec": {
   "display_name": "Python 3 (ipykernel)",
   "language": "python",
   "name": "python3"
  },
  "language_info": {
   "codemirror_mode": {
    "name": "ipython",
    "version": 3
   },
   "file_extension": ".py",
   "mimetype": "text/x-python",
   "name": "python",
   "nbconvert_exporter": "python",
   "pygments_lexer": "ipython3",
   "version": "3.8.10"
  }
 },
 "nbformat": 4,
 "nbformat_minor": 5
}

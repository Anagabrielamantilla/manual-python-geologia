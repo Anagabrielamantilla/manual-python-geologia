{
 "cells": [
  {
   "cell_type": "markdown",
   "id": "0a016d31-9ea7-4553-a003-2227b093dea3",
   "metadata": {},
   "source": [
    "# <span style=\"color:gold\">**Mplstereonet**</span>\n",
    "***\n",
    "\n",
    "### **Editado por: Kevin Alexander Gómez**\n",
    "#### Contacto: kevinalexandr19@gmail.com | [Linkedin](https://www.linkedin.com/in/kevin-alexander-g%C3%B3mez-2b0263111/) | [Github](https://github.com/kevinalexandr19)\n",
    "***"
   ]
  },
  {
   "cell_type": "markdown",
   "id": "0baa6c7e-5faa-4692-a86f-6af80e023a0d",
   "metadata": {},
   "source": [
    "### **Descripción**\n",
    "\n",
    "En este tutorial, aprenderás a usar <span style=\"color:gold\">Mplstereonet</span>, una librería de Python para la visualización de información de geología estructural a través de figuras estereográficas de tipo equiangular (red de Wulff) y equiareal (red de Schmidtt).\n",
    "\n",
    "Para llevar este tutorial, es necesario que tengas conocimientos previos en [Matplotlib](2c_matplotlib.ipynb) y [Numpy](2a_numpy.ipynb).\n",
    "\n",
    "Este Notebook es parte del proyecto [**Python para Geólogos**](https://github.com/kevinalexandr19/manual-python-geologia), y ha sido creado con la finalidad de facilitar el aprendizaje en Python para estudiantes y profesionales en el campo de la Geología.\n",
    "***"
   ]
  },
  {
   "cell_type": "markdown",
   "id": "41f9daa5-adf5-4898-b9bd-3cfab07296d2",
   "metadata": {},
   "source": [
    "Empezaremos importando `mplstereonet`:\n",
    "> También importaremos `pandas` para procesar la información de entrada, `matplotlib` para generar el gráfico principal y `numpy` para crear información vectorial.\\\n",
    "> Usaremos el archivo `data_estructural.csv` para crear los gráficos."
   ]
  },
  {
   "cell_type": "code",
   "execution_count": null,
   "id": "26b6768d-b9df-40f2-9fd3-3ef0bae1bbbf",
   "metadata": {},
   "outputs": [],
   "source": [
    "import pandas as pd\n",
    "import numpy as np\n",
    "import matplotlib.pyplot as plt\n",
    "import mplstereonet"
   ]
  },
  {
   "cell_type": "code",
   "execution_count": null,
   "id": "e2938f9c-6356-408c-bef8-264b4646adcd",
   "metadata": {},
   "outputs": [],
   "source": [
    "data = pd.read_csv(\"files/data_estructural.csv\")"
   ]
  },
  {
   "cell_type": "code",
   "execution_count": null,
   "id": "4f546e75-552e-49fa-a77e-c9dc3dcf0165",
   "metadata": {},
   "outputs": [],
   "source": [
    "data.sample(5)"
   ]
  },
  {
   "cell_type": "markdown",
   "id": "dfc5d891-59d0-486d-bb26-47d04b0da2f7",
   "metadata": {},
   "source": [
    "### **1. Diagrama de círculos máximos o Diagrama Beta**\n",
    "Los datos iniciales corresponden a planos de falla con mediciones de dirección, buzamiento y cabeceo.\n",
    "\n",
    "Usaremos un diagrama de círculos máximos para representar los planos de falla en una red estereográfica.\\\n",
    "Para esto, crearemos una figura y usaremos la función `plane` para representar el plano. Esta función contiene los siguientes parámetros:\n",
    "- `strike` representa el rumbo o dirección del plano\n",
    "- `dip` representa el buzamiento del plano\n",
    "- `c` representa el color de los planos\n",
    "- `linewidth` o `lw` representa el grosor de las líneas\n",
    "\n",
    "Asignaremos las columnas de dirección y buzamiento a dos variables llamadas `strike` y `dip`."
   ]
  },
  {
   "cell_type": "code",
   "execution_count": null,
   "id": "7f99ce90-76b2-4690-9ca9-d8816417dc4f",
   "metadata": {},
   "outputs": [],
   "source": [
    "strike = data[\"direccion\"]\n",
    "dip = data[\"buzamiento\"]"
   ]
  },
  {
   "cell_type": "markdown",
   "id": "baae1763-ab6c-4230-8778-0c0186b71734",
   "metadata": {},
   "source": [
    "Para crear la figura estereográfica, usaremos la función `figure` y el método `add_subplot`.\\\n",
    "Dentro del subplot, agregaremos el parámetro `projection=\"equal_angle_stereonet\"`.\n",
    "> Nota: usaremos el parámetro `constrained_layout=True` en la figura principal para mantener las etiquetas de los ángulos en posición correcta.\\\n",
    "> Los planos serán representados por líneas negras con un grosor de 0.5."
   ]
  },
  {
   "cell_type": "code",
   "execution_count": null,
   "id": "ad621b45-0442-4ba7-973e-c48dbaee6153",
   "metadata": {},
   "outputs": [],
   "source": [
    "fig = plt.figure(figsize=(5, 5), constrained_layout=True)\n",
    "\n",
    "ax = fig.add_subplot(111, projection=\"equal_angle_stereonet\")\n",
    "\n",
    "ax.plane(strike, dip, c=\"black\", linewidth=0.5)\n",
    "\n",
    "plt.show()"
   ]
  },
  {
   "cell_type": "markdown",
   "id": "ab65b788-b7b3-43ff-8f4a-852c90f64aca",
   "metadata": {},
   "source": [
    "Por último, agregaremos una grilla dentro de la red estereográfica usando `grid`:"
   ]
  },
  {
   "cell_type": "code",
   "execution_count": null,
   "id": "231978c0-e27b-40fa-8de9-544ee1281eb5",
   "metadata": {},
   "outputs": [],
   "source": [
    "fig = plt.figure(figsize=(5, 5), constrained_layout=True)\n",
    "\n",
    "ax = fig.add_subplot(111, projection=\"equal_angle_stereonet\")\n",
    "\n",
    "ax.plane(strike, dip, c=\"black\", linewidth=0.5)\n",
    "\n",
    "ax.grid()\n",
    "\n",
    "plt.show()"
   ]
  },
  {
   "cell_type": "markdown",
   "id": "c162877f-ffa1-41d5-888e-57c9a2ae474b",
   "metadata": {},
   "source": [
    "### **2. Diagrama de polos o Diagrama Pi**\n",
    "El diagrama anterior contiene numerosos planos de falla. Para observar mejor su distribución, usaremos un diagrama de polos.\n",
    "\n",
    "Para esto, usaremos la función `pole` para representar los polos de cada plano. Esta función contiene los siguientes parámetros:\n",
    "- `strike` representa el rumbo o dirección del plano\n",
    "- `dip` representa el buzamiento del plano\n",
    "- `c` representa el color de los polos\n",
    "- `markersize` o `ms` representa el tamaño de los polos\n",
    "\n",
    "Los polos de la figura serán representados por puntos rojos de tamaño 5. También agregaremos una grilla."
   ]
  },
  {
   "cell_type": "code",
   "execution_count": null,
   "id": "86ce388d-4dea-452a-8975-799eb93c6e84",
   "metadata": {},
   "outputs": [],
   "source": [
    "fig = plt.figure(figsize=(5, 5), constrained_layout=True)\n",
    "\n",
    "ax = fig.add_subplot(111, projection=\"equal_angle_stereonet\")\n",
    "\n",
    "ax.pole(strike, dip, c=\"red\", markersize=5)\n",
    "\n",
    "ax.grid()\n",
    "\n",
    "plt.show()"
   ]
  },
  {
   "cell_type": "markdown",
   "id": "c0454149-1626-4510-bafb-104988eac2e0",
   "metadata": {},
   "source": [
    "Podemos combinar ambas figuras al colocar ambas funciones dentro de una misma figura de Matplotlib:"
   ]
  },
  {
   "cell_type": "code",
   "execution_count": null,
   "id": "04bd9eca-5dc5-42cd-9f2f-8374580089a1",
   "metadata": {},
   "outputs": [],
   "source": [
    "fig = plt.figure(figsize=(5, 5), constrained_layout=True)\n",
    "\n",
    "ax = fig.add_subplot(111, projection=\"equal_angle_stereonet\")\n",
    "\n",
    "ax.plane(strike, dip, c=\"black\", linewidth=0.5)\n",
    "ax.pole(strike, dip, c=\"red\", markersize=5)\n",
    "\n",
    "ax.grid()\n",
    "\n",
    "plt.show()"
   ]
  },
  {
   "cell_type": "markdown",
   "id": "4f1409ff-5685-4b8e-9c29-a80692643df9",
   "metadata": {},
   "source": [
    "### **3. Diagrama de densidad de polos**\n",
    "\n",
    "Usaremos la red equiareal de Schmidt para hacer un recuento directo de los polos y calcular su valor estadístico por unidad de superficie, determinando las direcciones y buzamiento predominantes.\n",
    "\n",
    "Para esto, usaremos las funciones `density_contour` para crear las líneas de contorno y `density_contourf` para colorear el área entre cada línea de contorno.\\\n",
    "La función `density_contour` contiene los parámetros `strike`, `dip`, `measurement` (elementos a ser contados e.g. `poles`), `colors` y `sigma` (desviación estándar).\\\n",
    "La función `density_contourf` contiene los parámetros `strike`, `dip`, `measurement`, `cmap` (mapa de colores) y `sigma`.\n",
    "\n",
    "En la figura, estableceremos un valor de sigma igual a 1.5. Las líneas de contorno serán de color negro y las áreas serán pintadas por un mapa de colores de tipo `gist_earth`"
   ]
  },
  {
   "cell_type": "code",
   "execution_count": null,
   "id": "dc43ade8-77b1-405d-b6e0-f1d07e9d138f",
   "metadata": {},
   "outputs": [],
   "source": [
    "fig = plt.figure(figsize=(5, 5), constrained_layout=True)\n",
    "ax = fig.add_subplot(111, projection=\"equal_area_stereonet\")\n",
    "\n",
    "ax.density_contour(strike, dip, measurement=\"poles\", colors=\"black\", sigma=1.5)\n",
    "cax = ax.density_contourf(strike, dip, measurement=\"poles\", cmap=\"gist_earth\", sigma=1.5)\n",
    "   \n",
    "ax.pole(strike, dip, c=\"red\", ms=5)\n",
    "\n",
    "plt.show()"
   ]
  },
  {
   "cell_type": "markdown",
   "id": "7309952c-c712-4814-9e47-73ffe27be8d5",
   "metadata": {},
   "source": [
    "### **4. Intersección de planos**\n",
    "En este ejemplo, calcularemos el punto de intersección de dos planos con orientaciones (rumbo/buzamiento) de 315°/30° y 120°/40°.\n",
    "> Nota: la intersección de dos planos es una línea pero en una proyección estereográfica se representa por un punto (polo)."
   ]
  },
  {
   "cell_type": "code",
   "execution_count": null,
   "id": "0c8e7fb0-dae0-4949-9c3c-292f83ce4356",
   "metadata": {},
   "outputs": [],
   "source": [
    "strike1, dip1 = 315, 30\n",
    "strike2, dip2 = 120, 40"
   ]
  },
  {
   "cell_type": "markdown",
   "id": "922bb2b0-a5a1-4d74-aaf7-42f281050062",
   "metadata": {},
   "source": [
    "Para encontrar la línea de intersección, usaremos la función `plane_intersection`.\\\n",
    "El resultado es el ángulo de inmersión (`plunge`) y la dirección de inmersión (`bearing`) de la línea."
   ]
  },
  {
   "cell_type": "code",
   "execution_count": null,
   "id": "e40d6bd2-f935-41ad-82d4-88a7131048d0",
   "metadata": {},
   "outputs": [],
   "source": [
    "plunge, bearing = mplstereonet.plane_intersection(strike1, dip1, strike2, dip2)"
   ]
  },
  {
   "cell_type": "code",
   "execution_count": null,
   "id": "51a9dbca-0a0d-43c1-bc22-d02f7f295975",
   "metadata": {},
   "outputs": [],
   "source": [
    "print(f\"Punto de intersección\\nDirección de inmersión: {bearing[0]:.1f}\\nÁngulo de inmersión: {plunge[0]:.1f}\")"
   ]
  },
  {
   "cell_type": "markdown",
   "id": "d764b4c0-00ea-4daa-8dfc-45d31e1cc467",
   "metadata": {},
   "source": [
    "Ahora, graficaremos los planos y su intersección:"
   ]
  },
  {
   "cell_type": "code",
   "execution_count": null,
   "id": "b428234f-62b5-4ac3-9fb0-5dbb4ed44dd5",
   "metadata": {},
   "outputs": [],
   "source": [
    "fig, ax = mplstereonet.subplots(figsize=(5, 5), constrained_layout=True)\n",
    "\n",
    "ax.plane(strike1, dip1, c=\"black\", linewidth=1)\n",
    "ax.plane(strike2, dip2, c=\"black\", linewidth=1)\n",
    "\n",
    "ax.line(plunge, bearing, marker=\".\", color=\"red\", ms=12)\n",
    "\n",
    "plt.show()"
   ]
  },
  {
   "cell_type": "markdown",
   "id": "700f6afd-5ba4-43b2-a702-e15caf6d1989",
   "metadata": {
    "tags": []
   },
   "source": [
    "### **5. Plano de corte**\n",
    "En este ejemplo, usaremos dos planos con orientaciones (dip/dip direction) de 30°/100° y 40°/200° para calcular el plano de corte de ambos planos.\\\n",
    "Primero, transformaremos estas orientaciones a rumbo y buzamiento. Para esto, debemos restar 90° al valor del dip direction."
   ]
  },
  {
   "cell_type": "code",
   "execution_count": null,
   "id": "43d09288-5db8-435e-8a36-46bbf3faf0bf",
   "metadata": {},
   "outputs": [],
   "source": [
    "dip_directions = [100, 200]\n",
    "dips = [30, 40]\n",
    "\n",
    "# Restando 90 al dip direction\n",
    "strikes = np.array(dip_directions) - 90"
   ]
  },
  {
   "cell_type": "markdown",
   "id": "a7f16c77-be5e-452c-9bda-ceb0b8d8a37f",
   "metadata": {},
   "source": [
    "Ahora, usaremos el rumbo y buzamiento para graficar los círculos mayores y polos del plano."
   ]
  },
  {
   "cell_type": "code",
   "execution_count": null,
   "id": "9364ceef-86df-45f7-a183-4b2f4b4a8d9e",
   "metadata": {},
   "outputs": [],
   "source": [
    "fig, ax = mplstereonet.subplots(figsize=(5, 5), constrained_layout=True)\n",
    "\n",
    "ax.pole(strikes, dips, color=\"blue\", ms=7)\n",
    "ax.plane(strikes, dips, color=\"green\", lw=1)\n",
    "\n",
    "plt.show()"
   ]
  },
  {
   "cell_type": "markdown",
   "id": "52624a6d-95c9-441e-8c3a-2686bb6ebb73",
   "metadata": {},
   "source": [
    "Usando la función `fit_girdle` y las orientaciones de los planos, calcularemos el plano de corte.\\\n",
    "El resultado de la función es el rumbo y buzamiento del plano de corte."
   ]
  },
  {
   "cell_type": "code",
   "execution_count": null,
   "id": "aa95782f-11af-423e-90ac-63db216b558d",
   "metadata": {},
   "outputs": [],
   "source": [
    "fit_strike, fit_dip = mplstereonet.fit_girdle(strikes, dips)"
   ]
  },
  {
   "cell_type": "code",
   "execution_count": null,
   "id": "a1bf5bfe-e3aa-4dc9-9f38-f2bc6520c873",
   "metadata": {},
   "outputs": [],
   "source": [
    "print(f\"Plano de corte\\nRumbo: {fit_strike:.1f}\\nBuzamiento: {fit_dip:.1f}\")"
   ]
  },
  {
   "cell_type": "markdown",
   "id": "c2d544fb-fd7d-4388-bcdd-4d9a5b96f005",
   "metadata": {},
   "source": [
    "Ahora, graficaremos el plano de corte junto a los dos planos originales:"
   ]
  },
  {
   "cell_type": "code",
   "execution_count": null,
   "id": "31b7ac45-9862-4e5f-a76f-ceaeaf082a31",
   "metadata": {},
   "outputs": [],
   "source": [
    "fig, ax = mplstereonet.subplots(figsize=(5, 5), constrained_layout=True)\n",
    "\n",
    "ax.pole(strikes, dips, color=\"blue\", ms=7)\n",
    "ax.plane(strikes, dips, color=\"green\", lw=1)\n",
    "\n",
    "ax.plane(fit_strike, fit_dip, color=\"red\", lw=1)\n",
    "ax.pole(fit_strike, fit_dip, marker=\"o\", color=\"red\", ms=5)\n",
    "\n",
    "plt.show()"
   ]
  }
 ],
 "metadata": {
  "kernelspec": {
   "display_name": "Python 3 (ipykernel)",
   "language": "python",
   "name": "python3"
  },
  "language_info": {
   "codemirror_mode": {
    "name": "ipython",
    "version": 3
   },
   "file_extension": ".py",
   "mimetype": "text/x-python",
   "name": "python",
   "nbconvert_exporter": "python",
   "pygments_lexer": "ipython3",
   "version": "3.8.10"
  }
 },
 "nbformat": 4,
 "nbformat_minor": 5
}
